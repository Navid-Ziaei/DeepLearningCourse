{
 "cells": [
  {
   "cell_type": "code",
   "execution_count": null,
   "id": "b5e29d16",
   "metadata": {},
   "outputs": [],
   "source": [
    "\n",
    "import tensorflow as tf\n",
    "print(tf.__version__)\n",
    "# Additional imports\n",
    "from tensorflow.keras.layers import Input,Dense\n",
    "from tensorflow.keras.models import Model\n",
    "from tensorflow.keras.optimizers import SGD,Adam\n",
    "\n",
    "import numpy as np\n",
    "import pandas as pd\n",
    "import matplotlib.pyplot as plt\n"
   ]
  },
  {
   "cell_type": "markdown",
   "id": "6181152f",
   "metadata": {},
   "source": [
    "# Make the original data\n",
    "we will write down a notebook for an AR model using a synthetic dataset"
   ]
  },
  {
   "cell_type": "code",
   "execution_count": null,
   "id": "dfe1eea9",
   "metadata": {},
   "outputs": [],
   "source": [
    "series = np.sin(0.1*np.arange(200)) #+ np.random.randn(200)*0.1\n",
    "\n",
    "# Plot it\n",
    "plt.plot(series)\n"
   ]
  },
  {
   "cell_type": "markdown",
   "id": "adb58aba",
   "metadata": {},
   "source": [
    "## Build the dataset\n",
    "lets see if we cn use T past values to predict the next value"
   ]
  },
  {
   "cell_type": "code",
   "execution_count": null,
   "id": "e7b6fad9",
   "metadata": {},
   "outputs": [],
   "source": [
    "\n",
    "T = 10\n",
    "X = []\n",
    "Y = []\n",
    "\n",
    "for t in range(len(series) -T):\n",
    "    \n",
    "print(\"X.shape\",X.shape,\"Y.shape\",Y.shape)\n",
    "# rsults should be X.shape (190, 10) Y.shape (190,)"
   ]
  },
  {
   "cell_type": "markdown",
   "id": "a5dfd22f",
   "metadata": {},
   "source": [
    "### Try the autoregressive linear model\n",
    "    1 - create a model with one dense layer\n",
    "    2 - complile model using mse loss"
   ]
  },
  {
   "cell_type": "code",
   "execution_count": null,
   "id": "472519b8",
   "metadata": {},
   "outputs": [],
   "source": [
    "i = ...\n",
    "x = ...\n",
    "model = Model(i,x)\n",
    "\n",
    "\n",
    "model.compile(\n",
    "    ...\n",
    ")\n",
    "\n"
   ]
  },
  {
   "cell_type": "markdown",
   "id": "11562ecd",
   "metadata": {},
   "source": [
    "train the RNN"
   ]
  },
  {
   "cell_type": "code",
   "execution_count": null,
   "id": "818ea285",
   "metadata": {},
   "outputs": [],
   "source": [
    "\n",
    "r = model.fit(\n",
    "    X[:-N//2],Y[:-N//2],\n",
    "    epochs=80,\n",
    "    validation_data=(X[-N//2:],Y[-N//2:]),\n",
    ")"
   ]
  },
  {
   "cell_type": "markdown",
   "id": "dfdacb7b",
   "metadata": {},
   "source": [
    "# \"Wrong\" \n",
    "### forecast using true targets"
   ]
  },
  {
   "cell_type": "code",
   "execution_count": null,
   "id": "8b2489f0",
   "metadata": {},
   "outputs": [],
   "source": [
    "\n",
    "validation_target = Y[-N//2:]\n",
    "validation_predictions = []\n",
    "\n",
    "# index of first validation input\n",
    "i = -N//2\n",
    "\n",
    "while len(validation_predictions) < len(validation_target):\n",
    "    p = # predict output  -- 1x1 array => scalar\n",
    "    i += 1\n",
    "    # update the predictions list\n",
    "    validation_predictions.append(p)\n",
    "\n",
    "plt.plot(validation_target, label='forecast target')\n",
    "plt.plot(validation_predictions, label='forecast prediction')\n",
    "plt.legend()"
   ]
  },
  {
   "cell_type": "markdown",
   "id": "4429617f",
   "metadata": {},
   "source": [
    "### Forecast future values (use only self-predictions for making predictions)"
   ]
  },
  {
   "cell_type": "code",
   "execution_count": null,
   "id": "13e9dfef",
   "metadata": {},
   "outputs": [],
   "source": [
    "\n",
    "validation_target = Y[-N//2:]\n",
    "validation_predictions = []\n",
    "\n",
    "# last train input\n",
    "last_x = X[-N//2] #!-D array of length T\n",
    "\n",
    "while len(validation_predictions) < len(validation_target):\n",
    "    # predict one step\n",
    "    p = ...\n",
    "\n",
    "    # update the predictions list\n",
    "    validation_predictions.append(p)\n",
    "\n",
    "    # make the new input (use np.roll)\n",
    "    last_x = ...\n",
    "    last_x[-1] = ...\n",
    "    \n",
    "plt.plot(validation_target, label='forecast target')\n",
    "plt.plot(validation_predictions, label='forecast prediction')\n",
    "plt.legend()"
   ]
  },
  {
   "cell_type": "markdown",
   "id": "094a55a0",
   "metadata": {},
   "source": [
    "# Now we will use RNN"
   ]
  },
  {
   "cell_type": "markdown",
   "id": "1586de51",
   "metadata": {},
   "source": [
    "### Build the dataset\n",
    "lets see if we cn use T past values to predict the next value"
   ]
  },
  {
   "cell_type": "code",
   "execution_count": null,
   "id": "d2183dc5",
   "metadata": {},
   "outputs": [],
   "source": [
    "\n",
    "T = 10\n",
    "D = 1\n",
    "X = []\n",
    "Y = []\n",
    "for t in range(len(series) -T):\n",
    "    x = series[t:t+T]\n",
    "    X.append(x)\n",
    "    y = series[t+T]\n",
    "    Y.append(y)"
   ]
  },
  {
   "cell_type": "markdown",
   "id": "a5e318ba",
   "metadata": {},
   "source": [
    "## Try the Simple RNN model"
   ]
  },
  {
   "cell_type": "code",
   "execution_count": null,
   "id": "24c00d12",
   "metadata": {},
   "outputs": [],
   "source": [
    "from tensorflow.keras.layers import SimpleRNN"
   ]
  },
  {
   "cell_type": "code",
   "execution_count": null,
   "id": "410eec93",
   "metadata": {},
   "outputs": [],
   "source": [
    "X = np.array(X).reshape(-1,T,1) # now the dat should be N x T X D\n",
    "Y = np.array(Y)\n",
    "N = len(X)\n",
    "print(\"X.shape\",X.shape,\"Y.shape\",Y.shape)\n",
    "\n",
    "# Try the Simple RNN model\n",
    "i = Input(shape=(T,1))\n",
    "x = SimpleRNN(6)(i)\n",
    "x = Dense(1)(x)\n",
    "\n",
    "model = Model(i,x)\n",
    "model.compile(\n",
    "    loss=\"mse\",\n",
    "    optimizer=Adam(lr=0.05),\n",
    ")\n",
    "\n",
    "# train the RNN\n",
    "r = model.fit(\n",
    "    X[:-N//2],Y[:-N//2],\n",
    "    epochs=200,\n",
    "    validation_data=(X[-N//2:],Y[-N//2:]),\n",
    ")"
   ]
  },
  {
   "cell_type": "code",
   "execution_count": null,
   "id": "a0961f20",
   "metadata": {},
   "outputs": [],
   "source": [
    "plt.plot(r.history['loss'])\n",
    "plt.plot(r.history['val_loss'])"
   ]
  },
  {
   "cell_type": "markdown",
   "id": "aedb5d61",
   "metadata": {},
   "source": [
    "### Forecast future values (use only self-predictions for making predictions)\n"
   ]
  },
  {
   "cell_type": "code",
   "execution_count": null,
   "id": "0768e8f9",
   "metadata": {},
   "outputs": [],
   "source": [
    "\n",
    "validation_target = Y[-N//2:]\n",
    "validation_predictions = []\n",
    "\n",
    "# last train input\n",
    "last_x = X[-N//2] #!-D array of length T\n",
    "\n",
    "while len(validation_predictions) < len(validation_target):\n",
    "    p = model.predict(last_x.reshape(1,-1,1))[0,0] #1x1 array => scalar\n",
    "\n",
    "    # update the predictions list\n",
    "    validation_predictions.append(p)\n",
    "\n",
    "    # make the new input\n",
    "    last_x = np.roll(last_x,-1)\n",
    "    last_x[-1] = p\n",
    "\n",
    "plt.plot(validation_target, label='forecast target')\n",
    "plt.plot(validation_predictions, label='forecast prediction')\n",
    "plt.legend()"
   ]
  },
  {
   "cell_type": "markdown",
   "id": "e939d5f8",
   "metadata": {},
   "source": [
    "- its not perfect like AR model. \n",
    "- RNN is more flexible \n",
    "- we have some shifting\n",
    "\n",
    "- if we set in SimpleRNN activation=None our forecast is perfect like with AR. without activation method the model reduces to a linear model\n",
    "\n",
    "- we add noise keeping activation=None\n",
    "\n",
    "- 1 step forecast but multistep one is bad.same for tanh activation\n",
    "\n",
    "- with relu activation is even worse in multistep forecast. loks like copying previous value"
   ]
  },
  {
   "cell_type": "markdown",
   "id": "71bac9ef",
   "metadata": {},
   "source": [
    "# Things we should know and memorize\n",
    "\n",
    "- N = number of samples\n",
    "- T = sequence length\n",
    "- D = number of input features\n",
    "- M = number of hidden units (neurons)\n",
    "- K = number of output units (neurons)"
   ]
  },
  {
   "cell_type": "code",
   "execution_count": null,
   "id": "1ecefd40",
   "metadata": {},
   "outputs": [],
   "source": [
    "# Make some data\n",
    "N = 1\n",
    "T = 10\n",
    "D = 3\n",
    "K = 2\n",
    "X = np.random.randn(N, T, D)\n",
    "# Make an RNN\n",
    "\n",
    "M = 5 # number of hidden units\n",
    "\n",
    "i = Input(shape=(T,D))\n",
    "x = SimpleRNN(M)(i)\n",
    "x = Dense(K)(x)\n",
    "\n",
    "model = Model(i,x)\n",
    "# Get the output\n",
    "Yhat = model.predict(X)\n",
    "print(Yhat)\n",
    "print('Yhat.shape', Yhat.shape)"
   ]
  },
  {
   "cell_type": "code",
   "execution_count": null,
   "id": "3724117d",
   "metadata": {},
   "outputs": [],
   "source": [
    "# see if we can replicate this output\n",
    "# get the weights first\n",
    "model.summary()\n",
    "# see what's returned\n",
    "model.layers[1].get_weights()\n",
    "# Check their shapes\n",
    "# Should make sense\n",
    "# First output is input > hidden\n",
    "# Second output is hidden > hidden\n",
    "# Third output is bias term (vector of length M)\n",
    "a,b,c = model.layers[1].get_weights()\n",
    "print(a.shape,b.shape,c.shape)"
   ]
  },
  {
   "cell_type": "markdown",
   "id": "cc1a9f01",
   "metadata": {},
   "source": [
    "# More complicated data"
   ]
  },
  {
   "cell_type": "code",
   "execution_count": null,
   "id": "27d0e6d3",
   "metadata": {},
   "outputs": [],
   "source": [
    "# Additional imports\n",
    "from tensorflow.keras.layers import Input,Dense,Flatten,SimpleRNN,GRU,LSTM\n",
    "from tensorflow.keras.models import Model\n",
    "from tensorflow.keras.optimizers import SGD,Adam\n",
    "\n",
    "import numpy as np\n",
    "import pandas as pd\n",
    "import matplotlib.pyplot as plt\n",
    "\n"
   ]
  },
  {
   "cell_type": "code",
   "execution_count": null,
   "id": "170c49f1",
   "metadata": {},
   "outputs": [],
   "source": [
    "# make the synthtic original data\n",
    "series = np.sin((0.1*np.arange(400))**2) #x(t)=sin(ωt^2)\n",
    "# plot it\n",
    "plt.plot(series)\n",
    "\n",
    "### build the dataset\n",
    "# let's see if we can use T past values to predict the next value\n",
    "T = 10\n",
    "D = 1\n",
    "X = []\n",
    "Y = []\n",
    "for t in range(len(series) - T):\n",
    "    x = series[t:t+T]\n",
    "    X.append(x)\n",
    "    y = series[t+T]\n",
    "    Y.append(y)\n",
    "\n",
    "X = np.array(X).reshape(-1, T) # make it N x T\n",
    "Y = np.array(Y)\n",
    "N = len(X)\n",
    "print(\"X.shape\", X.shape, \"Y.shape\", Y.shape)\n",
    "\n"
   ]
  },
  {
   "cell_type": "code",
   "execution_count": null,
   "id": "ac7ab06c",
   "metadata": {},
   "outputs": [],
   "source": [
    "# try autoregressive linear model\n",
    "i = Input(shape=(T,))\n",
    "x = Dense(1)(i)\n",
    "model = Model(i,x)\n",
    "\n",
    "model.compile(\n",
    "    loss=\"mse\",\n",
    "    optimizer = Adam(learning_rate=0.01),\n",
    ")\n",
    "\n",
    "# train the model\n",
    "r = model.fit(\n",
    "    X[:-N//2], Y[:-N//2],\n",
    "    epochs=80,\n",
    "    validation_data=(X[-N//2:], Y[-N//2:]),\n",
    ")"
   ]
  },
  {
   "cell_type": "code",
   "execution_count": null,
   "id": "4b1138ce",
   "metadata": {},
   "outputs": [],
   "source": []
  },
  {
   "cell_type": "code",
   "execution_count": null,
   "id": "e3fc473b",
   "metadata": {},
   "outputs": [],
   "source": [
    "# Forecast future values (use only self-predictions for making predictions)\n",
    "\n",
    "validation_target = Y[-N//2:]\n",
    "validation_predictions = []\n",
    "\n",
    "# last train input\n",
    "last_x = X[-N//2] #!-D array of length T\n",
    "\n",
    "while len(validation_predictions) < len(validation_target):\n",
    "    p = model.predict(last_x.reshape(1,-1))[0,0] #1x1 array => scalar\n",
    "\n",
    "    # update the predictions list\n",
    "    validation_predictions.append(p)\n",
    "\n",
    "    # make the new input\n",
    "    last_x = np.roll(last_x,-1)\n",
    "    last_x[-1] = p\n",
    "\n",
    "plt.plot(validation_target, label='forecast target')\n",
    "plt.plot(validation_predictions, label='forecast prediction')\n",
    "plt.legend()"
   ]
  },
  {
   "cell_type": "markdown",
   "id": "29920d27",
   "metadata": {},
   "source": [
    "### Now Try an RNN/LSTM model"
   ]
  },
  {
   "cell_type": "code",
   "execution_count": null,
   "id": "9f29bf20",
   "metadata": {},
   "outputs": [],
   "source": [
    "### Now Try an RNN/LSTM model\n",
    "X = X.reshape(-1,T,1) # make it NxTxD\n",
    "\n",
    "# make the RNN\n",
    "i = Input(shape=(T,D))\n",
    "x = SimpleRNN(10)(i)\n",
    "x = Dense(1)(x)\n",
    "\n",
    "model = Model(i,x)\n",
    "model.compile(\n",
    "    loss=\"mse\",\n",
    "    optimizer= Adam(learning_rate=0.05),\n",
    ")\n",
    "\n",
    "# train the RNN\n",
    "r = model.fit(\n",
    "    X[:-N//2],Y[:-N//2],\n",
    "    batch_size=32,\n",
    "    epochs=200,\n",
    "    validation_data=(X[-N//2:],Y[-N//2:]),\n",
    ")\n",
    "\n",
    "\n"
   ]
  },
  {
   "cell_type": "code",
   "execution_count": null,
   "id": "02f78fc1",
   "metadata": {},
   "outputs": [],
   "source": [
    "# Forecast future values (use only self-predictions for making predictions)\n",
    "\n",
    "validation_target = Y[-N//2:]\n",
    "validation_predictions = []\n",
    "\n",
    "# last train input\n",
    "last_x = X[-N//2] #!-D array of length T\n",
    "\n",
    "while len(validation_predictions) < len(validation_target):\n",
    "    p = model.predict(last_x.reshape(1,-1))[0,0] #1x1 array => scalar\n",
    "\n",
    "    # update the predictions list\n",
    "    validation_predictions.append(p)\n",
    "\n",
    "    # make the new input\n",
    "    last_x = np.roll(last_x,-1)\n",
    "    last_x[-1] = p\n",
    "\n",
    "plt.plot(validation_target, label='forecast target')\n",
    "plt.plot(validation_predictions, label='forecast prediction')\n",
    "plt.legend()"
   ]
  },
  {
   "cell_type": "code",
   "execution_count": null,
   "id": "d2ee69a3",
   "metadata": {},
   "outputs": [],
   "source": [
    "### Now Try an RNN/LSTM model\n",
    "X = X.reshape(-1,T,1) # make it NxTxD\n",
    "\n",
    "# make the RNN\n",
    "i = Input(shape=(T,D))\n",
    "x = LSTM(10)(i)\n",
    "x = Dense(1)(x)\n",
    "\n",
    "\n",
    "model = Model(i,x)\n",
    "model.compile(\n",
    "    loss=\"mse\",\n",
    "    optimizer=Adam(learning_rate=0.05),\n",
    ")\n",
    "\n",
    "# train the RNN\n",
    "r = model.fit(\n",
    "    X[:-N//2],Y[:-N//2],\n",
    "    batch_size=32,\n",
    "    epochs=200,\n",
    "    validation_data=(X[-N//2:],Y[-N//2:]),\n",
    ")"
   ]
  },
  {
   "cell_type": "code",
   "execution_count": null,
   "id": "f2e19e6e",
   "metadata": {},
   "outputs": [],
   "source": [
    "# One-step forecast using true targets\n",
    "outputs = model.predict(X)\n",
    "print(outputs.shape)\n",
    "predictions = outputs[:,0]\n",
    "\n",
    "plt.plot(Y, label='targets')\n",
    "plt.plot(predictions, label='predictions')\n",
    "plt.title('many-to-one RNN')\n",
    "plt.legend()\n",
    "\n"
   ]
  },
  {
   "cell_type": "markdown",
   "id": "8e19d81a",
   "metadata": {},
   "source": [
    "\n"
   ]
  },
  {
   "cell_type": "code",
   "execution_count": null,
   "id": "a7cb0a94",
   "metadata": {},
   "outputs": [],
   "source": [
    "# multi-step forecast\n",
    "forecast = []\n",
    "input_ = X[-N//2]\n",
    "while len(forecast) <len(Y[-N//2:]):\n",
    "    # reshape the input to NxTxD\n",
    "    f = model.predict(input_.reshape(1,T,1))[0,0]\n",
    "    forecast.append(f)\n",
    "\n",
    "    #make a new input with the latest forecast\n",
    "    input_ = np.roll(input_,-1)\n",
    "    input_[-1] = f\n",
    "\n",
    "plt.plot(Y[-N//2:], label='targets')\n",
    "plt.plot(forecast, label='forecast')\n",
    "plt.title('RNN forecast')\n",
    "plt.legend()\n",
    "np.mean(np.abs(forecast-Y[-N//2:]))"
   ]
  },
  {
   "cell_type": "code",
   "execution_count": null,
   "id": "8722d618",
   "metadata": {},
   "outputs": [],
   "source": [
    "from tensorflow.keras.layers import GRU\n",
    "### Now Try an RNN/LSTM model\n",
    "X = X.reshape(-1,T,1) # make it NxTxD\n",
    "\n",
    "# make the RNN\n",
    "i = Input(shape=(T,D))\n",
    "x = GRU(10)(i)\n",
    "x = Dense(1)(x)\n",
    "\n",
    "\n",
    "model = Model(i,x)\n",
    "model.compile(\n",
    "    loss=\"mse\",\n",
    "    optimizer=Adam(learning_rate=0.05),\n",
    ")\n",
    "\n",
    "# train the RNN\n",
    "r = model.fit(\n",
    "    X[:-N//2],Y[:-N//2],\n",
    "    batch_size=32,\n",
    "    epochs=200,\n",
    "    validation_data=(X[-N//2:],Y[-N//2:]),\n",
    ")"
   ]
  },
  {
   "cell_type": "code",
   "execution_count": null,
   "id": "9bdf4e1a",
   "metadata": {},
   "outputs": [],
   "source": [
    "# One-step forecast using true targets\n",
    "outputs = model.predict(X)\n",
    "print(outputs.shape)\n",
    "predictions = outputs[:,0]\n",
    "\n",
    "plt.plot(Y, label='targets')\n",
    "plt.plot(predictions, label='predictions')\n",
    "plt.title('many-to-one RNN')\n",
    "plt.legend()"
   ]
  },
  {
   "cell_type": "code",
   "execution_count": null,
   "id": "bcb9529f",
   "metadata": {},
   "outputs": [],
   "source": [
    "# multi-step forecast\n",
    "forecast = []\n",
    "input_ = X[-N//2]\n",
    "while len(forecast) <len(Y[-N//2:]):\n",
    "    # reshape the input to NxTxD\n",
    "    f = model.predict(input_.reshape(1,T,1))[0,0]\n",
    "    forecast.append(f)\n",
    "\n",
    "    #make a new input with the latest forecast\n",
    "    input_ = np.roll(input_,-1)\n",
    "    input_[-1] = f\n",
    "\n",
    "plt.plot(Y[-N//2:], label='targets')\n",
    "plt.plot(forecast, label='forecast')\n",
    "plt.title('RNN forecast')\n",
    "plt.legend()\n",
    "\n"
   ]
  },
  {
   "cell_type": "code",
   "execution_count": null,
   "id": "bf481933",
   "metadata": {},
   "outputs": [],
   "source": [
    "np.mean(np.abs(forecast-Y[-N//2:]))"
   ]
  },
  {
   "cell_type": "code",
   "execution_count": null,
   "id": "d0b41067",
   "metadata": {},
   "outputs": [],
   "source": []
  }
 ],
 "metadata": {
  "kernelspec": {
   "display_name": "Python 3 (ipykernel)",
   "language": "python",
   "name": "python3"
  },
  "language_info": {
   "codemirror_mode": {
    "name": "ipython",
    "version": 3
   },
   "file_extension": ".py",
   "mimetype": "text/x-python",
   "name": "python",
   "nbconvert_exporter": "python",
   "pygments_lexer": "ipython3",
   "version": "3.9.13"
  }
 },
 "nbformat": 4,
 "nbformat_minor": 5
}
