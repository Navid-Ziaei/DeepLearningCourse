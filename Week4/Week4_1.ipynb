{
 "cells": [
  {
   "cell_type": "code",
   "execution_count": 1,
   "id": "53c15e7a",
   "metadata": {
    "pycharm": {
     "name": "#%%\n"
    }
   },
   "outputs": [],
   "source": [
    "import tensorflow as tf"
   ]
  },
  {
   "cell_type": "code",
   "execution_count": 2,
   "id": "dad365e9",
   "metadata": {
    "pycharm": {
     "name": "#%%\n"
    }
   },
   "outputs": [],
   "source": [
    "from tensorflow.keras.layers import Input, SimpleRNN, Dense, Flatten\n",
    "from tensorflow.keras.models import Model\n",
    "from tensorflow.keras.optimizers import SGD, Adam\n",
    "\n",
    "import numpy as np\n",
    "import pandas as pd\n",
    "import matplotlib.pyplot as plt\n"
   ]
  },
  {
   "cell_type": "markdown",
   "id": "d94dc12e",
   "metadata": {
    "pycharm": {
     "name": "#%% md\n"
    }
   },
   "source": [
    "# Build the dataset\n",
    "### Make the original data"
   ]
  },
  {
   "cell_type": "code",
   "execution_count": 3,
   "id": "b3a0b965",
   "metadata": {
    "pycharm": {
     "name": "#%%\n"
    }
   },
   "outputs": [
    {
     "data": {
      "text/plain": [
       "[<matplotlib.lines.Line2D at 0x2478237fcd0>]"
      ]
     },
     "execution_count": 3,
     "metadata": {},
     "output_type": "execute_result"
    },
    {
     "data": {
      "image/png": "[encoded data removed]",
      "text/plain": [
       "<Figure size 432x288 with 1 Axes>"
      ]
     },
     "metadata": {
      "needs_background": "light"
     },
     "output_type": "display_data"
    }
   ],
   "source": [
    "series = np.sin(0.1*np.arange(200)+ np.random.randn(200)*0.1) #+ np.random.randn(200)*0.1\n",
    "\n",
    "# Plot it\n",
    "plt.plot(series)"
   ]
  },
  {
   "cell_type": "markdown",
   "id": "d386dc47",
   "metadata": {
    "pycharm": {
     "name": "#%% md\n"
    }
   },
   "source": [
    "### lets see if we cn use T past values to predict the next value\n"
   ]
  },
  {
   "cell_type": "code",
   "execution_count": 4,
   "id": "87830308",
   "metadata": {
    "pycharm": {
     "name": "#%%\n"
    }
   },
   "outputs": [
    {
     "name": "stdout",
     "output_type": "stream",
     "text": [
      "X.shape (190, 10, 1) Y.shape (190,)\n"
     ]
    }
   ],
   "source": [
    "T = 10\n",
    "X = []\n",
    "Y = []\n",
    "for t in range(len(series) -T):\n",
    "  x = series[t:t+T]\n",
    "  X.append(x)\n",
    "  y = series[t+T]\n",
    "  Y.append(y)\n",
    "\n",
    "X = np.array(X).reshape(-1,T, 1)\n",
    "Y = np.array(Y)\n",
    "N = len(X)\n",
    "print(\"X.shape\",X.shape,\"Y.shape\",Y.shape)"
   ]
  },
  {
   "cell_type": "markdown",
   "id": "abcc41ff",
   "metadata": {
    "pycharm": {
     "name": "#%% md\n"
    }
   },
   "source": [
    "# Simple RNN model\n"
   ]
  },
  {
   "cell_type": "code",
   "execution_count": 5,
   "id": "c98ea428",
   "metadata": {
    "pycharm": {
     "name": "#%%\n"
    }
   },
   "outputs": [
    {
     "name": "stdout",
     "output_type": "stream",
     "text": [
      "Model: \"model\"\n",
      "_________________________________________________________________\n",
      "Layer (type)                 Output Shape              Param #   \n",
      "=================================================================\n",
      "input_1 (InputLayer)         [(None, 10, 1)]           0         \n",
      "_________________________________________________________________\n",
      "simple_rnn (SimpleRNN)       (None, 5)                 35        \n",
      "_________________________________________________________________\n",
      "dense (Dense)                (None, 1)                 6         \n",
      "=================================================================\n",
      "Total params: 41\n",
      "Trainable params: 41\n",
      "Non-trainable params: 0\n",
      "_________________________________________________________________\n"
     ]
    }
   ],
   "source": [
    "i = Input(shape=(T,1))\n",
    "x = SimpleRNN(5, activation = None)(i)\n",
    "x = Dense(1)(x)\n",
    "model = Model(i,x)\n",
    "model.compile(\n",
    "    loss=\"mse\",\n",
    "    optimizer=Adam(learning_rate=0.1),\n",
    ")\n",
    "\n",
    "model.summary()"
   ]
  },
  {
   "cell_type": "markdown",
   "id": "9c453665",
   "metadata": {
    "pycharm": {
     "name": "#%% md\n"
    }
   },
   "source": [
    "# train the RNN"
   ]
  },
  {
   "cell_type": "code",
   "execution_count": 6,
   "id": "3bf9dce6",
   "metadata": {
    "pycharm": {
     "name": "#%%\n"
    }
   },
   "outputs": [
    {
     "name": "stdout",
     "output_type": "stream",
     "text": [
      "Epoch 1/80\n",
      "3/3 [==============================] - 1s 111ms/step - loss: 2.9635 - val_loss: 0.1596\n",
      "Epoch 2/80\n",
      "3/3 [==============================] - 0s 28ms/step - loss: 0.1735 - val_loss: 0.1751\n",
      "Epoch 3/80\n",
      "3/3 [==============================] - 0s 30ms/step - loss: 0.1635 - val_loss: 0.1218\n",
      "Epoch 4/80\n",
      "3/3 [==============================] - 0s 28ms/step - loss: 0.1007 - val_loss: 0.0536\n",
      "Epoch 5/80\n",
      "3/3 [==============================] - 0s 27ms/step - loss: 0.0729 - val_loss: 0.0833\n",
      "Epoch 6/80\n",
      "3/3 [==============================] - 0s 29ms/step - loss: 0.0607 - val_loss: 0.0411\n",
      "Epoch 7/80\n",
      "3/3 [==============================] - 0s 29ms/step - loss: 0.0456 - val_loss: 0.0282\n",
      "Epoch 8/80\n",
      "3/3 [==============================] - 0s 27ms/step - loss: 0.0403 - val_loss: 0.0476\n",
      "Epoch 9/80\n",
      "3/3 [==============================] - 0s 28ms/step - loss: 0.0462 - val_loss: 0.0653\n",
      "Epoch 10/80\n",
      "3/3 [==============================] - 0s 29ms/step - loss: 0.0346 - val_loss: 0.0141\n",
      "Epoch 11/80\n",
      "3/3 [==============================] - 0s 29ms/step - loss: 0.0184 - val_loss: 0.0182\n",
      "Epoch 12/80\n",
      "3/3 [==============================] - 0s 27ms/step - loss: 0.0161 - val_loss: 0.0147\n",
      "Epoch 13/80\n",
      "3/3 [==============================] - 0s 31ms/step - loss: 0.0159 - val_loss: 0.0105\n",
      "Epoch 14/80\n",
      "3/3 [==============================] - 0s 31ms/step - loss: 0.0118 - val_loss: 0.0113\n",
      "Epoch 15/80\n",
      "3/3 [==============================] - 0s 30ms/step - loss: 0.0114 - val_loss: 0.0075\n",
      "Epoch 16/80\n",
      "3/3 [==============================] - 0s 28ms/step - loss: 0.0097 - val_loss: 0.0100\n",
      "Epoch 17/80\n",
      "3/3 [==============================] - 0s 28ms/step - loss: 0.0106 - val_loss: 0.0084\n",
      "Epoch 18/80\n",
      "3/3 [==============================] - 0s 28ms/step - loss: 0.0103 - val_loss: 0.0101\n",
      "Epoch 19/80\n",
      "3/3 [==============================] - 0s 30ms/step - loss: 0.0100 - val_loss: 0.0079\n",
      "Epoch 20/80\n",
      "3/3 [==============================] - 0s 27ms/step - loss: 0.0093 - val_loss: 0.0079\n",
      "Epoch 21/80\n",
      "3/3 [==============================] - 0s 28ms/step - loss: 0.0086 - val_loss: 0.0074\n",
      "Epoch 22/80\n",
      "3/3 [==============================] - 0s 30ms/step - loss: 0.0090 - val_loss: 0.0076\n",
      "Epoch 23/80\n",
      "3/3 [==============================] - 0s 29ms/step - loss: 0.0087 - val_loss: 0.0079\n",
      "Epoch 24/80\n",
      "3/3 [==============================] - 0s 28ms/step - loss: 0.0089 - val_loss: 0.0074\n",
      "Epoch 25/80\n",
      "3/3 [==============================] - 0s 29ms/step - loss: 0.0087 - val_loss: 0.0074\n",
      "Epoch 26/80\n",
      "3/3 [==============================] - 0s 28ms/step - loss: 0.0084 - val_loss: 0.0072\n",
      "Epoch 27/80\n",
      "3/3 [==============================] - 0s 27ms/step - loss: 0.0084 - val_loss: 0.0073\n",
      "Epoch 28/80\n",
      "3/3 [==============================] - 0s 30ms/step - loss: 0.0084 - val_loss: 0.0072\n",
      "Epoch 29/80\n",
      "3/3 [==============================] - 0s 28ms/step - loss: 0.0083 - val_loss: 0.0072\n",
      "Epoch 30/80\n",
      "3/3 [==============================] - 0s 29ms/step - loss: 0.0084 - val_loss: 0.0071\n",
      "Epoch 31/80\n",
      "3/3 [==============================] - 0s 30ms/step - loss: 0.0082 - val_loss: 0.0076\n",
      "Epoch 32/80\n",
      "3/3 [==============================] - 0s 28ms/step - loss: 0.0086 - val_loss: 0.0073\n",
      "Epoch 33/80\n",
      "3/3 [==============================] - 0s 30ms/step - loss: 0.0081 - val_loss: 0.0071\n",
      "Epoch 34/80\n",
      "3/3 [==============================] - 0s 30ms/step - loss: 0.0083 - val_loss: 0.0071\n",
      "Epoch 35/80\n",
      "3/3 [==============================] - 0s 33ms/step - loss: 0.0084 - val_loss: 0.0072\n",
      "Epoch 36/80\n",
      "3/3 [==============================] - 0s 32ms/step - loss: 0.0083 - val_loss: 0.0072\n",
      "Epoch 37/80\n",
      "3/3 [==============================] - 0s 33ms/step - loss: 0.0079 - val_loss: 0.0070\n",
      "Epoch 38/80\n",
      "3/3 [==============================] - 0s 32ms/step - loss: 0.0082 - val_loss: 0.0071\n",
      "Epoch 39/80\n",
      "3/3 [==============================] - 0s 31ms/step - loss: 0.0081 - val_loss: 0.0070\n",
      "Epoch 40/80\n",
      "3/3 [==============================] - 0s 33ms/step - loss: 0.0083 - val_loss: 0.0077\n",
      "Epoch 41/80\n",
      "3/3 [==============================] - 0s 33ms/step - loss: 0.0082 - val_loss: 0.0072\n",
      "Epoch 42/80\n",
      "3/3 [==============================] - 0s 33ms/step - loss: 0.0083 - val_loss: 0.0070\n",
      "Epoch 43/80\n",
      "3/3 [==============================] - 0s 34ms/step - loss: 0.0080 - val_loss: 0.0071\n",
      "Epoch 44/80\n",
      "3/3 [==============================] - 0s 33ms/step - loss: 0.0080 - val_loss: 0.0072\n",
      "Epoch 45/80\n",
      "3/3 [==============================] - 0s 34ms/step - loss: 0.0084 - val_loss: 0.0069\n",
      "Epoch 46/80\n",
      "3/3 [==============================] - 0s 33ms/step - loss: 0.0082 - val_loss: 0.0070\n",
      "Epoch 47/80\n",
      "3/3 [==============================] - 0s 34ms/step - loss: 0.0080 - val_loss: 0.0071\n",
      "Epoch 48/80\n",
      "3/3 [==============================] - 0s 34ms/step - loss: 0.0079 - val_loss: 0.0069\n",
      "Epoch 49/80\n",
      "3/3 [==============================] - 0s 33ms/step - loss: 0.0085 - val_loss: 0.0069\n",
      "Epoch 50/80\n",
      "3/3 [==============================] - 0s 32ms/step - loss: 0.0080 - val_loss: 0.0074\n",
      "Epoch 51/80\n",
      "3/3 [==============================] - 0s 30ms/step - loss: 0.0081 - val_loss: 0.0069\n",
      "Epoch 52/80\n",
      "3/3 [==============================] - 0s 30ms/step - loss: 0.0080 - val_loss: 0.0070\n",
      "Epoch 53/80\n",
      "3/3 [==============================] - 0s 28ms/step - loss: 0.0084 - val_loss: 0.0068\n",
      "Epoch 54/80\n",
      "3/3 [==============================] - 0s 31ms/step - loss: 0.0083 - val_loss: 0.0080\n",
      "Epoch 55/80\n",
      "3/3 [==============================] - 0s 28ms/step - loss: 0.0083 - val_loss: 0.0073\n",
      "Epoch 56/80\n",
      "3/3 [==============================] - 0s 28ms/step - loss: 0.0085 - val_loss: 0.0070\n",
      "Epoch 57/80\n",
      "3/3 [==============================] - 0s 28ms/step - loss: 0.0093 - val_loss: 0.0071\n",
      "Epoch 58/80\n",
      "3/3 [==============================] - 0s 28ms/step - loss: 0.0087 - val_loss: 0.0098\n",
      "Epoch 59/80\n",
      "3/3 [==============================] - 0s 33ms/step - loss: 0.0089 - val_loss: 0.0072\n",
      "Epoch 60/80\n",
      "3/3 [==============================] - 0s 33ms/step - loss: 0.0089 - val_loss: 0.0074\n",
      "Epoch 61/80\n",
      "3/3 [==============================] - 0s 32ms/step - loss: 0.0086 - val_loss: 0.0073\n",
      "Epoch 62/80\n",
      "3/3 [==============================] - 0s 31ms/step - loss: 0.0084 - val_loss: 0.0069\n",
      "Epoch 63/80\n",
      "3/3 [==============================] - 0s 31ms/step - loss: 0.0078 - val_loss: 0.0070\n",
      "Epoch 64/80\n",
      "3/3 [==============================] - 0s 31ms/step - loss: 0.0079 - val_loss: 0.0070\n",
      "Epoch 65/80\n",
      "3/3 [==============================] - 0s 33ms/step - loss: 0.0080 - val_loss: 0.0071\n",
      "Epoch 66/80\n",
      "3/3 [==============================] - 0s 28ms/step - loss: 0.0081 - val_loss: 0.0069\n",
      "Epoch 67/80\n",
      "3/3 [==============================] - 0s 27ms/step - loss: 0.0079 - val_loss: 0.0070\n",
      "Epoch 68/80\n",
      "3/3 [==============================] - 0s 29ms/step - loss: 0.0079 - val_loss: 0.0068\n",
      "Epoch 69/80\n",
      "3/3 [==============================] - 0s 31ms/step - loss: 0.0082 - val_loss: 0.0070\n",
      "Epoch 70/80\n",
      "3/3 [==============================] - 0s 31ms/step - loss: 0.0080 - val_loss: 0.0068\n",
      "Epoch 71/80\n",
      "3/3 [==============================] - 0s 32ms/step - loss: 0.0080 - val_loss: 0.0070\n",
      "Epoch 72/80\n",
      "3/3 [==============================] - 0s 32ms/step - loss: 0.0077 - val_loss: 0.0069\n",
      "Epoch 73/80\n",
      "3/3 [==============================] - 0s 30ms/step - loss: 0.0081 - val_loss: 0.0069\n",
      "Epoch 74/80\n",
      "3/3 [==============================] - 0s 27ms/step - loss: 0.0082 - val_loss: 0.0070\n",
      "Epoch 75/80\n",
      "3/3 [==============================] - 0s 28ms/step - loss: 0.0080 - val_loss: 0.0067\n",
      "Epoch 76/80\n",
      "3/3 [==============================] - 0s 27ms/step - loss: 0.0086 - val_loss: 0.0072\n",
      "Epoch 77/80\n",
      "3/3 [==============================] - 0s 27ms/step - loss: 0.0087 - val_loss: 0.0072\n",
      "Epoch 78/80\n",
      "3/3 [==============================] - 0s 31ms/step - loss: 0.0090 - val_loss: 0.0070\n",
      "Epoch 79/80\n",
      "3/3 [==============================] - 0s 32ms/step - loss: 0.0093 - val_loss: 0.0068\n",
      "Epoch 80/80\n",
      "3/3 [==============================] - 0s 33ms/step - loss: 0.0093 - val_loss: 0.0068\n"
     ]
    }
   ],
   "source": [
    "\n",
    "r = model.fit(\n",
    "    X[:-N//2],Y[:-N//2],\n",
    "    epochs=80,\n",
    "    validation_data=(X[-N//2:],Y[-N//2:]),\n",
    ")"
   ]
  },
  {
   "cell_type": "code",
   "execution_count": 7,
   "id": "85d886e4",
   "metadata": {
    "pycharm": {
     "name": "#%%\n"
    }
   },
   "outputs": [
    {
     "data": {
      "text/plain": [
       "<matplotlib.legend.Legend at 0x24789005220>"
      ]
     },
     "execution_count": 7,
     "metadata": {},
     "output_type": "execute_result"
    },
    {
     "data": {
      "image/png": "[encoded data removed]",
      "text/plain": [
       "<Figure size 432x288 with 1 Axes>"
      ]
     },
     "metadata": {
      "needs_background": "light"
     },
     "output_type": "display_data"
    }
   ],
   "source": [
    "plt.plot(r.history['loss'])\n",
    "plt.plot(r.history['val_loss'])\n",
    "plt.legend(['loss', 'val_loss'])"
   ]
  },
  {
   "cell_type": "markdown",
   "id": "69604b61",
   "metadata": {
    "pycharm": {
     "name": "#%% md\n"
    }
   },
   "source": [
    "### Forecast future values (use only self-predictions for making predictions)\n"
   ]
  },
  {
   "cell_type": "code",
   "execution_count": 42,
   "id": "5d093c1a",
   "metadata": {
    "pycharm": {
     "name": "#%%\n"
    }
   },
   "outputs": [
    {
     "data": {
      "text/plain": [
       "<matplotlib.legend.Legend at 0x1d163c418b0>"
      ]
     },
     "execution_count": 42,
     "metadata": {},
     "output_type": "execute_result"
    },
    {
     "data": {
      "image/png": "[encoded data removed]",
      "text/plain": [
       "<Figure size 432x288 with 1 Axes>"
      ]
     },
     "metadata": {
      "needs_background": "light"
     },
     "output_type": "display_data"
    }
   ],
   "source": [
    "\n",
    "validation_target = Y[-N//2:]\n",
    "validation_predictions = []\n",
    "\n",
    "# last train input\n",
    "i = -N//2 #!-D array of length T\n",
    "\n",
    "while len(validation_predictions) < len(validation_target):\n",
    "  p = model.predict(X[i].reshape(1,-1,1))[0,0] #1x1 array => scalar\n",
    "  i += 1\n",
    "  # update the predictions list\n",
    "  validation_predictions.append(p)\n",
    "\n",
    "\n",
    "\n",
    "plt.plot(validation_target, label='forecast target')\n",
    "plt.plot(validation_predictions, label='forecast prediction')\n",
    "plt.legend()"
   ]
  },
  {
   "cell_type": "code",
   "execution_count": 8,
   "id": "cf4a4262",
   "metadata": {
    "pycharm": {
     "name": "#%%\n"
    }
   },
   "outputs": [
    {
     "data": {
      "text/plain": [
       "<matplotlib.legend.Legend at 0x24798e50940>"
      ]
     },
     "execution_count": 8,
     "metadata": {},
     "output_type": "execute_result"
    },
    {
     "data": {
      "image/png": "[encoded data removed]",
      "text/plain": [
       "<Figure size 432x288 with 1 Axes>"
      ]
     },
     "metadata": {
      "needs_background": "light"
     },
     "output_type": "display_data"
    }
   ],
   "source": [
    "#Forecast future values (use only self-predictions for making predictions)\n",
    "\n",
    "validation_target = Y[-N//2:]\n",
    "validation_predictions = []\n",
    "\n",
    "# last train input\n",
    "last_x = X[-N//2] #!-D array of length T\n",
    "\n",
    "while len(validation_predictions) < len(validation_target):\n",
    "  p = model.predict(last_x.reshape(1,-1))[0,0] #1x1 array => scalar\n",
    "\n",
    "  # update the predictions list\n",
    "  validation_predictions.append(p)\n",
    "\n",
    "  # make the new input\n",
    "  last_x = np.roll(last_x,-1)\n",
    "  last_x[-1] = p\n",
    "plt.plot(validation_target, label='forecast target')\n",
    "plt.plot(validation_predictions, label='forecast prediction')\n",
    "plt.legend()"
   ]
  },
  {
   "cell_type": "markdown",
   "id": "d1716dc4",
   "metadata": {
    "pycharm": {
     "name": "#%% md\n"
    }
   },
   "source": [
    "# Things we should know and memorize\n",
    "\n",
    "- N = number of samples\n",
    "- T = sequence length\n",
    "- D = number of input features\n",
    "- K = number of output units (neurons)"
   ]
  },
  {
   "cell_type": "markdown",
   "id": "65d379b8",
   "metadata": {
    "pycharm": {
     "name": "#%% md\n"
    }
   },
   "source": [
    "we make data and build the model when we see explicitly the shapes\n"
   ]
  },
  {
   "cell_type": "code",
   "execution_count": 21,
   "id": "be1ba2cd",
   "metadata": {
    "pycharm": {
     "name": "#%%\n"
    }
   },
   "outputs": [
    {
     "name": "stdout",
     "output_type": "stream",
     "text": [
      "[[ 0.23248696 -0.14773834]]\n",
      "Yhat.shape (1, 2)\n"
     ]
    }
   ],
   "source": [
    "# Make some data\n",
    "N = 1\n",
    "T = 10\n",
    "D = 3\n",
    "K = 2\n",
    "X = np.random.randn(N, T, D)\n",
    "# Make an RNN\n",
    "\n",
    "M = 5 # number of hidden units\n",
    "\n",
    "i = Input(shape=(T,D))\n",
    "x1 = SimpleRNN(M)(i)\n",
    "o = Dense(K)(x1)\n",
    "\n",
    "model = Model(i,o)\n",
    "# Get the output\n",
    "Yhat = model.predict(X)\n",
    "print(Yhat)\n",
    "print('Yhat.shape', Yhat.shape)"
   ]
  },
  {
   "cell_type": "code",
   "execution_count": 23,
   "id": "0501c531",
   "metadata": {
    "pycharm": {
     "name": "#%%\n"
    }
   },
   "outputs": [
    {
     "name": "stdout",
     "output_type": "stream",
     "text": [
      "Model: \"model_9\"\n",
      "_________________________________________________________________\n",
      "Layer (type)                 Output Shape              Param #   \n",
      "=================================================================\n",
      "input_10 (InputLayer)        [(None, 10, 3)]           0         \n",
      "_________________________________________________________________\n",
      "simple_rnn_9 (SimpleRNN)     (None, 5)                 45        \n",
      "_________________________________________________________________\n",
      "dense_9 (Dense)              (None, 2)                 12        \n",
      "=================================================================\n",
      "Total params: 57\n",
      "Trainable params: 57\n",
      "Non-trainable params: 0\n",
      "_________________________________________________________________\n"
     ]
    }
   ],
   "source": [
    "# see if we can replicate this output\n",
    "# get the weights first\n",
    "model.summary()\n",
    "\n"
   ]
  },
  {
   "cell_type": "code",
   "execution_count": 24,
   "id": "db44cb6a",
   "metadata": {
    "pycharm": {
     "name": "#%%\n"
    }
   },
   "outputs": [
    {
     "data": {
      "text/plain": [
       "[array([[-0.17939717, -0.2598396 ,  0.11174303,  0.55627006,  0.2335456 ],\n",
       "        [ 0.3838622 ,  0.34853822,  0.8139301 , -0.40652382, -0.6928159 ],\n",
       "        [-0.6397102 ,  0.8161549 ,  0.12421507,  0.3326282 , -0.21710247]],\n",
       "       dtype=float32),\n",
       " array([[-0.0639466 , -0.2228645 ,  0.1998172 , -0.8401562 ,  0.44771984],\n",
       "        [-0.19187497, -0.15113398,  0.809026  ,  0.42201352,  0.32821333],\n",
       "        [ 0.95018137,  0.10844019,  0.10411485,  0.06500083,  0.26519993],\n",
       "        [ 0.16680723, -0.9539074 , -0.12080406,  0.11166966, -0.18754286],\n",
       "        [-0.16859849, -0.07610115, -0.5292603 ,  0.31519398,  0.765715  ]],\n",
       "       dtype=float32),\n",
       " array([0., 0., 0., 0., 0.], dtype=float32)]"
      ]
     },
     "execution_count": 24,
     "metadata": {},
     "output_type": "execute_result"
    }
   ],
   "source": [
    "# see what's returned\n",
    "model.layers[1].get_weights()\n",
    "\n"
   ]
  },
  {
   "cell_type": "code",
   "execution_count": 25,
   "id": "0fd080c3",
   "metadata": {
    "pycharm": {
     "name": "#%%\n"
    }
   },
   "outputs": [
    {
     "name": "stdout",
     "output_type": "stream",
     "text": [
      "(3, 5) (5, 5) (5,)\n"
     ]
    }
   ],
   "source": [
    "# Check their shapes\n",
    "# Should make sense\n",
    "# First output is input > hidden\n",
    "# Second output is hidden > hidden\n",
    "# Third output is bias term (vector of length M)\n",
    "a,b,c = model.layers[1].get_weights()\n",
    "print(a.shape,b.shape,c.shape)"
   ]
  },
  {
   "cell_type": "code",
   "execution_count": 26,
   "id": "e70b9c61",
   "metadata": {
    "pycharm": {
     "name": "#%%\n"
    }
   },
   "outputs": [
    {
     "name": "stdout",
     "output_type": "stream",
     "text": [
      "[ 0.23248697 -0.14773825]\n"
     ]
    }
   ],
   "source": [
    "Wx,Wh,bh = model.layers[1].get_weights()\n",
    "Wo,bo = model.layers[2].get_weights()\n",
    "# we manualy calculate the output\n",
    "h_last = np.zeros(M) # initial hidden state\n",
    "x = X[0] # the one and only sample\n",
    "Yhats = [] # where we store the outputs\n",
    "\n",
    "for t in range(T):\n",
    "  h = np.tanh(x[t].dot(Wx)+h_last.dot(Wh)+bh)\n",
    "  y = h.dot(Wo)+bo # we only care about this value on the last iteration\n",
    "  Yhats.append(y)\n",
    "  #important: assign h to h_last\n",
    "  h_last = h\n",
    "\n",
    "#print the final output and confirm\n",
    "print(Yhats[-1])"
   ]
  },
  {
   "cell_type": "code",
   "execution_count": null,
   "id": "9fec0475",
   "metadata": {
    "pycharm": {
     "name": "#%%\n"
    }
   },
   "outputs": [],
   "source": []
  }
 ],
 "metadata": {
  "kernelspec": {
   "display_name": "Python 3 (ipykernel)",
   "language": "python",
   "name": "python3"
  },
  "language_info": {
   "codemirror_mode": {
    "name": "ipython",
    "version": 3
   },
   "file_extension": ".py",
   "mimetype": "text/x-python",
   "name": "python",
   "nbconvert_exporter": "python",
   "pygments_lexer": "ipython3",
   "version": "3.9.13"
  }
 },
 "nbformat": 4,
 "nbformat_minor": 5
}