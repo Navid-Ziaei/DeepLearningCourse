{
 "cells": [
  {
   "cell_type": "code",
   "execution_count": 1,
   "id": "9c5915a0",
   "metadata": {},
   "outputs": [],
   "source": [
    "import tensorflow as tf\n",
    "import matplotlib.pyplot as plt\n",
    "import numpy as np"
   ]
  },
  {
   "cell_type": "markdown",
   "id": "378af80b",
   "metadata": {},
   "source": [
    "# 1 - Import Data"
   ]
  },
  {
   "cell_type": "code",
   "execution_count": 2,
   "id": "0f50c6c6",
   "metadata": {},
   "outputs": [],
   "source": [
    "(x_train, y_train), (x_test, y_test) = tf.keras.datasets.cifar10.load_data()"
   ]
  },
  {
   "cell_type": "markdown",
   "id": "3e1b6439",
   "metadata": {},
   "source": [
    "## Data understanding"
   ]
  },
  {
   "cell_type": "code",
   "execution_count": 3,
   "id": "76ad36eb",
   "metadata": {},
   "outputs": [
    {
     "name": "stdout",
     "output_type": "stream",
     "text": [
      "Train Size:\n",
      "(50000, 32, 32, 3)\n",
      "(50000, 1)\n",
      "Test Size:\n",
      "(10000, 32, 32, 3)\n",
      "(10000, 1)\n"
     ]
    },
    {
     "data": {
      "text/plain": [
       "Text(0.5, 1.0, 'deer')"
      ]
     },
     "execution_count": 3,
     "metadata": {},
     "output_type": "execute_result"
    },
    {
     "data": {
      "image/png": "[encoded data removed]",
      "text/plain": [
       "<Figure size 640x480 with 1 Axes>"
      ]
     },
     "metadata": {},
     "output_type": "display_data"
    }
   ],
   "source": [
    "print(\"Train Size:\")\n",
    "print(x_train.shape)\n",
    "print(y_train.shape)\n",
    "print(\"Test Size:\")\n",
    "print(x_test.shape)\n",
    "print(y_test.shape)\n",
    "\n",
    "label_names = ['airplane', 'automobile', 'bird', 'cat', 'deer', 'dog', 'frog', 'horse', 'ship', 'truck']\n",
    "\n",
    "idx = np.random.randint(low= 0, high=50000)\n",
    "plt.imshow(x_train[idx])\n",
    "plt.title(label_names[int(y_train[idx])])"
   ]
  },
  {
   "cell_type": "markdown",
   "id": "0c4c8d29",
   "metadata": {},
   "source": [
    "# 2- Preprocess data"
   ]
  },
  {
   "cell_type": "code",
   "execution_count": 4,
   "id": "6e118aaa",
   "metadata": {},
   "outputs": [
    {
     "name": "stdout",
     "output_type": "stream",
     "text": [
      "(50000, 10)\n",
      "(10000, 10)\n"
     ]
    }
   ],
   "source": [
    "X_train = x_train/255.0\n",
    "X_test = x_test/255.0\n",
    "\n",
    "Y_train = tf.keras.utils.to_categorical(np.squeeze(y_train), 10)\n",
    "Y_test = tf.keras.utils.to_categorical(np.squeeze(y_test), 10)\n",
    "\n",
    "print(Y_train.shape)\n",
    "print(Y_test.shape)"
   ]
  },
  {
   "cell_type": "markdown",
   "id": "2db7cde2",
   "metadata": {},
   "source": [
    "# 3- Model development\n",
    "Conv Layers:\n",
    "\n",
    "1- 32 filter 3x3 + relu\n",
    "\n",
    "2- 32 filter 3x3 + relu\n",
    "\n",
    "3- max pooling 2x2\n",
    "\n",
    "4- 64 filter 3x3 + relu\n",
    "\n",
    "5- 64 filter 3x3 + relu\n",
    "\n",
    "6- max pooling 2x2\n",
    "\n",
    "7- 128 filter 3x3 + relu\n",
    "\n",
    "8- 128 filter 3x3 + relu\n",
    "\n",
    "# Classification Head\n",
    "\n",
    "9- Flattening\n",
    "\n",
    "10- Dense 128\n",
    "\n",
    "11: dense 10\n"
   ]
  },
  {
   "cell_type": "code",
   "execution_count": 12,
   "id": "44de5e0b",
   "metadata": {},
   "outputs": [],
   "source": [
    "def create_model():\n",
    "    model = tf.keras.models.Sequential()\n",
    "\n",
    "\n",
    "    model.add( tf.keras.layers.Conv2D(filters = 32, \n",
    "                                      kernel_size = 3, \n",
    "                                      activation='relu', \n",
    "                                      padding='same', \n",
    "                                      input_shape=X_train.shape[1:]))\n",
    "\n",
    "    model.add( tf.keras.layers.Conv2D(filters = 32, \n",
    "                                      kernel_size = 3, \n",
    "                                      activation='relu', \n",
    "                                      padding='same'))\n",
    "\n",
    "    model.add( tf.keras.layers.MaxPooling2D(pool_size=(2, 2)))\n",
    "\n",
    "\n",
    "    model.add( tf.keras.layers.Conv2D(filters = 64, \n",
    "                                      kernel_size = 3, \n",
    "                                      activation='relu', \n",
    "                                      padding='same'))\n",
    "    model.add( tf.keras.layers.Conv2D(filters = 64, \n",
    "                                      kernel_size = 3, \n",
    "                                      activation='relu', \n",
    "                                      padding='same'))\n",
    "    model.add( tf.keras.layers.MaxPooling2D(pool_size=(2, 2)))\n",
    "\n",
    "    model.add( tf.keras.layers.Conv2D(filters = 128, \n",
    "                                      kernel_size = 3, \n",
    "                                      activation='relu', \n",
    "                                      padding='same'))\n",
    "\n",
    "    model.add( tf.keras.layers.Conv2D(filters = 128, \n",
    "                                      kernel_size = 3, \n",
    "                                      activation='relu', \n",
    "                                      padding='same'))\n",
    "\n",
    "    model.add( tf.keras.layers.MaxPooling2D(pool_size=(2, 2)))\n",
    "\n",
    "    model.add( tf.keras.layers.Flatten())\n",
    "    model.add( tf.keras.layers.Dense(128, activation='relu'))\n",
    "    model.add( tf.keras.layers.Dense(10, activation='softmax'))\n",
    "    return model\n",
    "\n",
    "model = create_model()\n",
    "\n"
   ]
  },
  {
   "cell_type": "code",
   "execution_count": 6,
   "id": "9784b44a",
   "metadata": {},
   "outputs": [
    {
     "name": "stdout",
     "output_type": "stream",
     "text": [
      "Model: \"sequential\"\n",
      "_________________________________________________________________\n",
      " Layer (type)                Output Shape              Param #   \n",
      "=================================================================\n",
      " conv2d (Conv2D)             (None, 32, 32, 32)        896       \n",
      "                                                                 \n",
      " conv2d_1 (Conv2D)           (None, 32, 32, 32)        9248      \n",
      "                                                                 \n",
      " max_pooling2d (MaxPooling2D  (None, 16, 16, 32)       0         \n",
      " )                                                               \n",
      "                                                                 \n",
      " conv2d_2 (Conv2D)           (None, 16, 16, 64)        18496     \n",
      "                                                                 \n",
      " conv2d_3 (Conv2D)           (None, 16, 16, 64)        36928     \n",
      "                                                                 \n",
      " max_pooling2d_1 (MaxPooling  (None, 8, 8, 64)         0         \n",
      " 2D)                                                             \n",
      "                                                                 \n",
      " conv2d_4 (Conv2D)           (None, 8, 8, 128)         73856     \n",
      "                                                                 \n",
      " conv2d_5 (Conv2D)           (None, 8, 8, 128)         147584    \n",
      "                                                                 \n",
      " max_pooling2d_2 (MaxPooling  (None, 4, 4, 128)        0         \n",
      " 2D)                                                             \n",
      "                                                                 \n",
      " flatten (Flatten)           (None, 2048)              0         \n",
      "                                                                 \n",
      " dense (Dense)               (None, 128)               262272    \n",
      "                                                                 \n",
      " dense_1 (Dense)             (None, 10)                1290      \n",
      "                                                                 \n",
      "=================================================================\n",
      "Total params: 550,570\n",
      "Trainable params: 550,570\n",
      "Non-trainable params: 0\n",
      "_________________________________________________________________\n"
     ]
    }
   ],
   "source": [
    "model.summary()"
   ]
  },
  {
   "cell_type": "markdown",
   "id": "a9bb8f38",
   "metadata": {},
   "source": [
    "## Set cost- evaluation metric- optimizer"
   ]
  },
  {
   "cell_type": "code",
   "execution_count": 7,
   "id": "86631eca",
   "metadata": {},
   "outputs": [],
   "source": [
    "model.compile(optimizer=tf.keras.optimizers.Adam(learning_rate=1e-3),\n",
    "              loss=tf.keras.losses.CategoricalCrossentropy(),\n",
    "              metrics=tf.keras.metrics.CategoricalAccuracy())"
   ]
  },
  {
   "cell_type": "markdown",
   "id": "5a8d859a",
   "metadata": {},
   "source": [
    "# 4- Triain model"
   ]
  },
  {
   "cell_type": "code",
   "execution_count": 8,
   "id": "a99ca1e9",
   "metadata": {},
   "outputs": [
    {
     "name": "stdout",
     "output_type": "stream",
     "text": [
      "Epoch 1/10\n",
      "1407/1407 [==============================] - 44s 28ms/step - loss: 1.5009 - categorical_accuracy: 0.4495 - val_loss: 1.1605 - val_categorical_accuracy: 0.5834\n",
      "Epoch 2/10\n",
      "1407/1407 [==============================] - 40s 29ms/step - loss: 1.0007 - categorical_accuracy: 0.6451 - val_loss: 0.8975 - val_categorical_accuracy: 0.6952\n",
      "Epoch 3/10\n",
      "1407/1407 [==============================] - 40s 29ms/step - loss: 0.7965 - categorical_accuracy: 0.7154 - val_loss: 0.7379 - val_categorical_accuracy: 0.7430\n",
      "Epoch 4/10\n",
      "1407/1407 [==============================] - 40s 29ms/step - loss: 0.6667 - categorical_accuracy: 0.7651 - val_loss: 0.7199 - val_categorical_accuracy: 0.7500\n",
      "Epoch 5/10\n",
      "1407/1407 [==============================] - 40s 29ms/step - loss: 0.5616 - categorical_accuracy: 0.8015 - val_loss: 0.7661 - val_categorical_accuracy: 0.7436\n",
      "Epoch 6/10\n",
      "1407/1407 [==============================] - 40s 29ms/step - loss: 0.4684 - categorical_accuracy: 0.8347 - val_loss: 0.7414 - val_categorical_accuracy: 0.7618\n",
      "Epoch 7/10\n",
      "1407/1407 [==============================] - 40s 29ms/step - loss: 0.4019 - categorical_accuracy: 0.8573 - val_loss: 0.7398 - val_categorical_accuracy: 0.7694\n",
      "Epoch 8/10\n",
      "1407/1407 [==============================] - 41s 29ms/step - loss: 0.3310 - categorical_accuracy: 0.8797 - val_loss: 0.7600 - val_categorical_accuracy: 0.7770\n",
      "Epoch 9/10\n",
      "1407/1407 [==============================] - 40s 29ms/step - loss: 0.2832 - categorical_accuracy: 0.8990 - val_loss: 0.8587 - val_categorical_accuracy: 0.7594\n",
      "Epoch 10/10\n",
      "1407/1407 [==============================] - 40s 29ms/step - loss: 0.2411 - categorical_accuracy: 0.9150 - val_loss: 0.9121 - val_categorical_accuracy: 0.7620\n"
     ]
    }
   ],
   "source": [
    "hist = model.fit(\n",
    "    x=X_train,\n",
    "    y=Y_train,\n",
    "    batch_size=32,\n",
    "    epochs=10,\n",
    "    validation_split=0.1)"
   ]
  },
  {
   "cell_type": "markdown",
   "id": "78f901fd",
   "metadata": {},
   "source": [
    "## Analyze training curve"
   ]
  },
  {
   "cell_type": "code",
   "execution_count": 9,
   "id": "34c7375a",
   "metadata": {},
   "outputs": [
    {
     "data": {
      "text/plain": [
       "[<matplotlib.lines.Line2D at 0x1c5715f0a90>]"
      ]
     },
     "execution_count": 9,
     "metadata": {},
     "output_type": "execute_result"
    },
    {
     "data": {
      "image/png": "[encoded data removed]",
      "text/plain": [
       "<Figure size 640x480 with 2 Axes>"
      ]
     },
     "metadata": {},
     "output_type": "display_data"
    }
   ],
   "source": [
    "fig, axs = plt.subplots(2,1)\n",
    "axs[0].plot(hist.history['loss'])\n",
    "axs[0].plot(hist.history['val_loss'])\n",
    "\n",
    "axs[1].plot(hist.history['categorical_accuracy'])\n",
    "axs[1].plot(hist.history['val_categorical_accuracy'])\n"
   ]
  },
  {
   "cell_type": "markdown",
   "id": "c316bda0",
   "metadata": {},
   "source": [
    "# 5- Evaluate model"
   ]
  },
  {
   "cell_type": "code",
   "execution_count": 10,
   "id": "5c1bcf69",
   "metadata": {},
   "outputs": [
    {
     "name": "stdout",
     "output_type": "stream",
     "text": [
      "313/313 [==============================] - 4s 13ms/step - loss: 0.9502 - categorical_accuracy: 0.7572\n"
     ]
    },
    {
     "data": {
      "text/plain": [
       "[0.9502378106117249, 0.7572000026702881]"
      ]
     },
     "execution_count": 10,
     "metadata": {},
     "output_type": "execute_result"
    }
   ],
   "source": [
    "model.evaluate(X_test,Y_test)"
   ]
  },
  {
   "cell_type": "markdown",
   "id": "5bf71f8a",
   "metadata": {},
   "source": [
    "#  ============== Use Data Augmentation =============="
   ]
  },
  {
   "cell_type": "markdown",
   "id": "2c261634",
   "metadata": {},
   "source": [
    "# Data Augmentation"
   ]
  },
  {
   "cell_type": "code",
   "execution_count": 32,
   "id": "2b5d8489",
   "metadata": {},
   "outputs": [],
   "source": [
    "from tensorflow.keras.preprocessing.image import ImageDataGenerator\n",
    "\n",
    "data_gen_train = ImageDataGenerator(rotation_range=20,\n",
    "                                    width_shift_range=0.2,\n",
    "                                    height_shift_range=0.2,\n",
    "                                    horizontal_flip=True,\n",
    "                                    validation_split=0.2)\n",
    "data_gen_train.fit(X_train)\n",
    "\n",
    "# img_it = data_gen_train.flow(X_train, batch_size=10)"
   ]
  },
  {
   "cell_type": "markdown",
   "id": "8593be30",
   "metadata": {},
   "source": [
    "# Create another model"
   ]
  },
  {
   "cell_type": "code",
   "execution_count": 33,
   "id": "b8fbb9a4",
   "metadata": {},
   "outputs": [],
   "source": [
    "model_with_augmentation = create_model()\n",
    "model_with_augmentation.compile(optimizer=tf.keras.optimizers.Adam(learning_rate=1e-3),\n",
    "                                loss=tf.keras.losses.CategoricalCrossentropy(),\n",
    "                                metrics=tf.keras.metrics.CategoricalAccuracy())"
   ]
  },
  {
   "cell_type": "markdown",
   "id": "7ff8ee35",
   "metadata": {},
   "source": [
    "# Train model"
   ]
  },
  {
   "cell_type": "code",
   "execution_count": 34,
   "id": "5ebc5913",
   "metadata": {},
   "outputs": [
    {
     "name": "stdout",
     "output_type": "stream",
     "text": [
      "Epoch 1/10\n",
      "1250/1250 [==============================] - 56s 44ms/step - loss: 1.8359 - categorical_accuracy: 0.3152 - val_loss: 1.5361 - val_categorical_accuracy: 0.4321\n",
      "Epoch 2/10\n",
      "1250/1250 [==============================] - 55s 44ms/step - loss: 1.4422 - categorical_accuracy: 0.4719 - val_loss: 1.3322 - val_categorical_accuracy: 0.5179\n",
      "Epoch 3/10\n",
      "1250/1250 [==============================] - 54s 43ms/step - loss: 1.2705 - categorical_accuracy: 0.5420 - val_loss: 1.2148 - val_categorical_accuracy: 0.5618\n",
      "Epoch 4/10\n",
      "1250/1250 [==============================] - 55s 44ms/step - loss: 1.1588 - categorical_accuracy: 0.5849 - val_loss: 1.1065 - val_categorical_accuracy: 0.6039\n",
      "Epoch 5/10\n",
      "1250/1250 [==============================] - 55s 44ms/step - loss: 1.0753 - categorical_accuracy: 0.6154 - val_loss: 1.0778 - val_categorical_accuracy: 0.6203\n",
      "Epoch 6/10\n",
      "1250/1250 [==============================] - 54s 43ms/step - loss: 1.0144 - categorical_accuracy: 0.6417 - val_loss: 1.0008 - val_categorical_accuracy: 0.6486\n",
      "Epoch 7/10\n",
      "1250/1250 [==============================] - 58s 46ms/step - loss: 0.9645 - categorical_accuracy: 0.6593 - val_loss: 0.9589 - val_categorical_accuracy: 0.6630\n",
      "Epoch 8/10\n",
      "1250/1250 [==============================] - 57s 46ms/step - loss: 0.9198 - categorical_accuracy: 0.6743 - val_loss: 0.9242 - val_categorical_accuracy: 0.6751\n",
      "Epoch 9/10\n",
      "1250/1250 [==============================] - 56s 45ms/step - loss: 0.8880 - categorical_accuracy: 0.6876 - val_loss: 0.9621 - val_categorical_accuracy: 0.6693\n",
      "Epoch 10/10\n",
      "1250/1250 [==============================] - 54s 43ms/step - loss: 0.8606 - categorical_accuracy: 0.6988 - val_loss: 0.8904 - val_categorical_accuracy: 0.6904\n"
     ]
    }
   ],
   "source": [
    "hist = model_with_augmentation.fit(data_gen_train.flow(X_train, Y_train, batch_size=32,subset='training'),\n",
    "                                   validation_data=data_gen_train.flow(X_train, Y_train,batch_size=32, subset='validation'),\n",
    "                                   epochs = 20)"
   ]
  },
  {
   "cell_type": "markdown",
   "id": "bf1a64e8",
   "metadata": {},
   "source": [
    "# Training curve"
   ]
  },
  {
   "cell_type": "code",
   "execution_count": 35,
   "id": "26ce44ab",
   "metadata": {},
   "outputs": [
    {
     "data": {
      "text/plain": [
       "[<matplotlib.lines.Line2D at 0x1c6cd92a2e0>]"
      ]
     },
     "execution_count": 35,
     "metadata": {},
     "output_type": "execute_result"
    },
    {
     "data": {
      "image/png": "[encoded data removed]",
      "text/plain": [
       "<Figure size 640x480 with 2 Axes>"
      ]
     },
     "metadata": {},
     "output_type": "display_data"
    }
   ],
   "source": [
    "fig, axs = plt.subplots(2,1)\n",
    "axs[0].plot(hist.history['loss'])\n",
    "axs[0].plot(hist.history['val_loss'])\n",
    "\n",
    "axs[1].plot(hist.history['categorical_accuracy'])\n",
    "axs[1].plot(hist.history['val_categorical_accuracy'])"
   ]
  },
  {
   "cell_type": "markdown",
   "id": "8ec229da",
   "metadata": {},
   "source": [
    "## Evaluate model"
   ]
  },
  {
   "cell_type": "code",
   "execution_count": 36,
   "id": "f73c8a9b",
   "metadata": {},
   "outputs": [
    {
     "ename": "RuntimeError",
     "evalue": "You must compile your model before training/testing. Use `model.compile(optimizer, loss)`.",
     "output_type": "error",
     "traceback": [
      "\u001b[1;31m---------------------------------------------------------------------------\u001b[0m",
      "\u001b[1;31mRuntimeError\u001b[0m                              Traceback (most recent call last)",
      "Cell \u001b[1;32mIn [36], line 1\u001b[0m\n\u001b[1;32m----> 1\u001b[0m \u001b[43mmodel\u001b[49m\u001b[38;5;241;43m.\u001b[39;49m\u001b[43mevaluate\u001b[49m\u001b[43m(\u001b[49m\u001b[43mX_test\u001b[49m\u001b[43m,\u001b[49m\u001b[43mY_test\u001b[49m\u001b[43m)\u001b[49m\n",
      "File \u001b[1;32mC:\\ProgramData\\Anaconda3\\envs\\tf2_gpu\\lib\\site-packages\\keras\\utils\\traceback_utils.py:70\u001b[0m, in \u001b[0;36mfilter_traceback.<locals>.error_handler\u001b[1;34m(*args, **kwargs)\u001b[0m\n\u001b[0;32m     67\u001b[0m     filtered_tb \u001b[38;5;241m=\u001b[39m _process_traceback_frames(e\u001b[38;5;241m.\u001b[39m__traceback__)\n\u001b[0;32m     68\u001b[0m     \u001b[38;5;66;03m# To get the full stack trace, call:\u001b[39;00m\n\u001b[0;32m     69\u001b[0m     \u001b[38;5;66;03m# `tf.debugging.disable_traceback_filtering()`\u001b[39;00m\n\u001b[1;32m---> 70\u001b[0m     \u001b[38;5;28;01mraise\u001b[39;00m e\u001b[38;5;241m.\u001b[39mwith_traceback(filtered_tb) \u001b[38;5;28;01mfrom\u001b[39;00m \u001b[38;5;28mNone\u001b[39m\n\u001b[0;32m     71\u001b[0m \u001b[38;5;28;01mfinally\u001b[39;00m:\n\u001b[0;32m     72\u001b[0m     \u001b[38;5;28;01mdel\u001b[39;00m filtered_tb\n",
      "File \u001b[1;32mC:\\ProgramData\\Anaconda3\\envs\\tf2_gpu\\lib\\site-packages\\keras\\engine\\training.py:3618\u001b[0m, in \u001b[0;36mModel._assert_compile_was_called\u001b[1;34m(self)\u001b[0m\n\u001b[0;32m   3612\u001b[0m \u001b[38;5;28;01mdef\u001b[39;00m \u001b[38;5;21m_assert_compile_was_called\u001b[39m(\u001b[38;5;28mself\u001b[39m):\n\u001b[0;32m   3613\u001b[0m     \u001b[38;5;66;03m# Checks whether `compile` has been called. If it has been called,\u001b[39;00m\n\u001b[0;32m   3614\u001b[0m     \u001b[38;5;66;03m# then the optimizer is set. This is different from whether the\u001b[39;00m\n\u001b[0;32m   3615\u001b[0m     \u001b[38;5;66;03m# model is compiled\u001b[39;00m\n\u001b[0;32m   3616\u001b[0m     \u001b[38;5;66;03m# (i.e. whether the model is built and its inputs/outputs are set).\u001b[39;00m\n\u001b[0;32m   3617\u001b[0m     \u001b[38;5;28;01mif\u001b[39;00m \u001b[38;5;129;01mnot\u001b[39;00m \u001b[38;5;28mself\u001b[39m\u001b[38;5;241m.\u001b[39m_is_compiled:\n\u001b[1;32m-> 3618\u001b[0m         \u001b[38;5;28;01mraise\u001b[39;00m \u001b[38;5;167;01mRuntimeError\u001b[39;00m(\n\u001b[0;32m   3619\u001b[0m             \u001b[38;5;124m\"\u001b[39m\u001b[38;5;124mYou must compile your model before \u001b[39m\u001b[38;5;124m\"\u001b[39m\n\u001b[0;32m   3620\u001b[0m             \u001b[38;5;124m\"\u001b[39m\u001b[38;5;124mtraining/testing. \u001b[39m\u001b[38;5;124m\"\u001b[39m\n\u001b[0;32m   3621\u001b[0m             \u001b[38;5;124m\"\u001b[39m\u001b[38;5;124mUse `model.compile(optimizer, loss)`.\u001b[39m\u001b[38;5;124m\"\u001b[39m\n\u001b[0;32m   3622\u001b[0m         )\n",
      "\u001b[1;31mRuntimeError\u001b[0m: You must compile your model before training/testing. Use `model.compile(optimizer, loss)`."
     ]
    }
   ],
   "source": [
    "model.evaluate(X_test,Y_test)"
   ]
  },
  {
   "cell_type": "code",
   "execution_count": null,
   "id": "e30f9113",
   "metadata": {},
   "outputs": [],
   "source": []
  }
 ],
 "metadata": {
  "kernelspec": {
   "display_name": "Python 3 (ipykernel)",
   "language": "python",
   "name": "python3"
  },
  "language_info": {
   "codemirror_mode": {
    "name": "ipython",
    "version": 3
   },
   "file_extension": ".py",
   "mimetype": "text/x-python",
   "name": "python",
   "nbconvert_exporter": "python",
   "pygments_lexer": "ipython3",
   "version": "3.9.13"
  }
 },
 "nbformat": 4,
 "nbformat_minor": 5
}
