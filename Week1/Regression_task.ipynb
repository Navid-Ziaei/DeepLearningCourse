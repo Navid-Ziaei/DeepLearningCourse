{
 "cells": [
  {
   "cell_type": "markdown",
   "id": "91caa852",
   "metadata": {},
   "source": [
    "# Import Packages"
   ]
  },
  {
   "cell_type": "code",
   "execution_count": 2,
   "id": "7bd24d29",
   "metadata": {},
   "outputs": [],
   "source": [
    "import numpy as np\n",
    "import matplotlib.pyplot as plt\n",
    "\n",
    "%matplotlib inline"
   ]
  },
  {
   "cell_type": "markdown",
   "id": "0ee77023",
   "metadata": {},
   "source": [
    "# Define data"
   ]
  },
  {
   "cell_type": "code",
   "execution_count": 3,
   "id": "437dad80",
   "metadata": {},
   "outputs": [],
   "source": [
    "x_train = np.array([3, 5, 10, 0.2, 8, 7, 8])\n",
    "y_train = np.array([75, 82, 93, 61, 78, 65, 97])"
   ]
  },
  {
   "cell_type": "markdown",
   "id": "b701d450",
   "metadata": {},
   "source": [
    "# Normalize Data\n",
    "    1 - Normalize data\n",
    "    2 - use plt.scatter to visualize data and normalized data"
   ]
  },
  {
   "cell_type": "code",
   "execution_count": 5,
   "id": "98fc44ff",
   "metadata": {},
   "outputs": [
    {
     "data": {
      "text/plain": [
       "Text(0, 0.5, 'Normalized y1')"
      ]
     },
     "execution_count": 5,
     "metadata": {},
     "output_type": "execute_result"
    },
    {
     "data": {
      "image/png": "[encoded data removed]",
      "text/plain": [
       "<Figure size 640x480 with 1 Axes>"
      ]
     },
     "metadata": {},
     "output_type": "display_data"
    }
   ],
   "source": [
    "min_value_x, max_value_x = np.min(x_train), np.max(x_train)\n",
    "min_value_y, max_value_y = np.min(y_train), np.max(y_train)\n",
    "\n",
    "x_train = (x_train - min_value_x)/(np.max(x_train)-np.min(x_train))\n",
    "y_train = (y_train - min_value_y)/(np.max(y_train)-np.min(y_train))\n",
    "\n",
    "plt.figure()\n",
    "plt.scatter(x_train, y_train)\n",
    "plt.xlabel('Normalized x1')\n",
    "plt.ylabel('Normalized y1')\n",
    "\n",
    "N_train = x_train.shape[0]\n",
    "print(\"Number of training examples = \"+str(N_train))\n"
   ]
  },
  {
   "cell_type": "markdown",
   "id": "80ea6a9e",
   "metadata": {},
   "source": [
    "# Define Weights"
   ]
  },
  {
   "cell_type": "code",
   "execution_count": 22,
   "id": "42fb3da8",
   "metadata": {},
   "outputs": [
    {
     "name": "stdout",
     "output_type": "stream",
     "text": [
      "(80,)\n"
     ]
    }
   ],
   "source": [
    "w = np.arange(-2,2,0.05)\n",
    "print(w.shape)"
   ]
  },
  {
   "cell_type": "markdown",
   "id": "8c8d61bd",
   "metadata": {},
   "source": [
    "# Define Loss function\n",
    "### 1 - Squared Error\n",
    "### 2 - Absolute Error\n",
    "\n",
    "y^hat = wx\n",
    "\n",
    "L = 0.5* sum_i=1^7 |wx-y|\n",
    "\n",
    "L = 0.5* sum_i (wx-y)^2"
   ]
  },
  {
   "cell_type": "code",
   "execution_count": null,
   "id": "c0d72732",
   "metadata": {},
   "outputs": [],
   "source": [
    "for w in range(-2, 2):\n",
    "    y_hat = w*x\n",
    "    error = np.abs(y_trian - y_hat)\n",
    "    l = 0.5*np.sum(error, axis = 0)\n",
    "    l_list.append()"
   ]
  },
  {
   "cell_type": "code",
   "execution_count": 35,
   "id": "be536aca",
   "metadata": {},
   "outputs": [
    {
     "ename": "NameError",
     "evalue": "name 'y_trian' is not defined",
     "output_type": "error",
     "traceback": [
      "\u001b[1;31m---------------------------------------------------------------------------\u001b[0m",
      "\u001b[1;31mNameError\u001b[0m                                 Traceback (most recent call last)",
      "Input \u001b[1;32mIn [35]\u001b[0m, in \u001b[0;36m<cell line: 3>\u001b[1;34m()\u001b[0m\n\u001b[0;32m      3\u001b[0m \u001b[38;5;28;01mfor\u001b[39;00m w \u001b[38;5;129;01min\u001b[39;00m \u001b[38;5;28mlist\u001b[39m(np\u001b[38;5;241m.\u001b[39marange(\u001b[38;5;241m-\u001b[39m\u001b[38;5;241m2\u001b[39m,\u001b[38;5;241m2\u001b[39m,\u001b[38;5;241m0.01\u001b[39m)):\n\u001b[0;32m      4\u001b[0m     y_hat \u001b[38;5;241m=\u001b[39m w\u001b[38;5;241m*\u001b[39mx_train\n\u001b[1;32m----> 5\u001b[0m     error \u001b[38;5;241m=\u001b[39m np\u001b[38;5;241m.\u001b[39mabs(\u001b[43my_trian\u001b[49m \u001b[38;5;241m-\u001b[39m y_hat)\n\u001b[0;32m      6\u001b[0m     l \u001b[38;5;241m=\u001b[39m \u001b[38;5;241m0.5\u001b[39m\u001b[38;5;241m*\u001b[39mnp\u001b[38;5;241m.\u001b[39msum(error, axis \u001b[38;5;241m=\u001b[39m \u001b[38;5;241m0\u001b[39m)\n\u001b[0;32m      7\u001b[0m     L_list\u001b[38;5;241m.\u001b[39mappend(l)\n",
      "\u001b[1;31mNameError\u001b[0m: name 'y_trian' is not defined"
     ]
    }
   ],
   "source": [
    "L_list = []\n",
    "\n",
    "for w in list(np.arange(-2,2,0.01)):\n",
    "    y_hat = w*x_train\n",
    "    error = np.abs(y_trian - y_hat)\n",
    "    l = 0.5*np.sum(error, axis = 0)\n",
    "    L_list.append(l)"
   ]
  },
  {
   "cell_type": "code",
   "execution_count": null,
   "id": "7b669d3b",
   "metadata": {},
   "outputs": [],
   "source": []
  },
  {
   "cell_type": "code",
   "execution_count": 23,
   "id": "03666dc8",
   "metadata": {},
   "outputs": [
    {
     "name": "stdout",
     "output_type": "stream",
     "text": [
      "(7, 1)\n",
      "(1, 80)\n",
      "(7, 80)\n",
      "(80,)\n",
      "(80,)\n"
     ]
    }
   ],
   "source": [
    "# training examples\n",
    "X_train = x_train[:, np.newaxis] # 7x1\n",
    "Y_train = y_train[:, np.newaxis] # 7x1\n",
    "\n",
    "# weight vector\n",
    "W = w[np.newaxis, :] # 1x100\n",
    "\n",
    "print(X_train.shape)\n",
    "print(W.shape)\n",
    "\n",
    "y_hat = np.matmul(X_train, W)\n",
    "print(y_hat.shape)\n",
    "\n",
    "L_abs = 0.5*np.sum(np.abs(Y_train-y_hat), axis=0)\n",
    "L_sq = 0.5*np.sum((Y_train-y_hat)**2, axis=0)\n",
    "\n",
    "# (Nx1) -/+ (NxM)\n",
    "\n",
    "\n",
    "print(L_abs.shape)\n",
    "print(L_sq.shape)\n"
   ]
  },
  {
   "cell_type": "markdown",
   "id": "c92b83ca",
   "metadata": {},
   "source": [
    "# Plot the loss function"
   ]
  },
  {
   "cell_type": "code",
   "execution_count": 24,
   "id": "5652e53f",
   "metadata": {},
   "outputs": [
    {
     "data": {
      "text/plain": [
       "Text(0.5, 0, 'parameter value')"
      ]
     },
     "execution_count": 24,
     "metadata": {},
     "output_type": "execute_result"
    },
    {
     "data": {
      "image/png": "[encoded data removed]",
      "text/plain": [
       "<Figure size 640x480 with 1 Axes>"
      ]
     },
     "metadata": {},
     "output_type": "display_data"
    },
    {
     "data": {
      "image/png": "[encoded data removed]",
      "text/plain": [
       "<Figure size 640x480 with 1 Axes>"
      ]
     },
     "metadata": {},
     "output_type": "display_data"
    }
   ],
   "source": [
    "plt.figure()\n",
    "plt.plot(w, L_abs)\n",
    "plt.ylabel('loss value')\n",
    "plt.xlabel('parameter value')\n",
    "\n",
    "\n",
    "plt.figure()\n",
    "plt.plot(w, L_sq)\n",
    "plt.ylabel('loss value')\n",
    "plt.xlabel('parameter value')"
   ]
  },
  {
   "cell_type": "markdown",
   "id": "41572746",
   "metadata": {},
   "source": [
    "# Find otimum point and plot the regressor"
   ]
  },
  {
   "cell_type": "code",
   "execution_count": 25,
   "id": "e5749bf7",
   "metadata": {},
   "outputs": [
    {
     "name": "stdout",
     "output_type": "stream",
     "text": [
      "Minimum value of absolute error is 0.6632653061224502\n",
      "Minimum value of square error is 0.2131211982147358\n",
      "Corresponding w is 0.9000000000000026\n",
      "Corresponding w is 0.8500000000000023\n"
     ]
    }
   ],
   "source": [
    "print(\"Minimum value of absolute error is \" + str(np.min(L_abs)))\n",
    "print(\"Minimum value of square error is \" + str(np.min(L_sq)))\n",
    "\n",
    "w_optm_abs_err = w[np.argmin(L_abs)]\n",
    "w_optm_square_err = w[np.argmin(L_sq)]\n",
    "\n",
    "print(\"Corresponding w is \" + str(w_optm_abs_err))\n",
    "print(\"Corresponding w is \" + str(w_optm_square_err))"
   ]
  },
  {
   "cell_type": "code",
   "execution_count": 27,
   "id": "79662dcb",
   "metadata": {},
   "outputs": [
    {
     "name": "stdout",
     "output_type": "stream",
     "text": [
      "predicted value = 7.200000000000021\n"
     ]
    }
   ],
   "source": [
    "y_test = 8\n",
    "\n",
    "y_test_normal = (y_test - min_value_x) / (max_value_x - min_value_x)\n",
    "\n",
    "y_hat_test = w_optm_abs_err * y_test_normal\n",
    "\n",
    "y_hat_unnormalized = y_hat_test*(max_value_y - min_value_y) + min_value_y\n",
    "\n",
    "print('predicted value = '+str(y_hat_unnormalized))"
   ]
  },
  {
   "cell_type": "code",
   "execution_count": null,
   "id": "d1f97aa8",
   "metadata": {},
   "outputs": [],
   "source": [
    "_"
   ]
  }
 ],
 "metadata": {
  "kernelspec": {
   "display_name": "Python 3 (ipykernel)",
   "language": "python",
   "name": "python3"
  },
  "language_info": {
   "codemirror_mode": {
    "name": "ipython",
    "version": 3
   },
   "file_extension": ".py",
   "mimetype": "text/x-python",
   "name": "python",
   "nbconvert_exporter": "python",
   "pygments_lexer": "ipython3",
   "version": "3.9.13"
  }
 },
 "nbformat": 4,
 "nbformat_minor": 5
}
