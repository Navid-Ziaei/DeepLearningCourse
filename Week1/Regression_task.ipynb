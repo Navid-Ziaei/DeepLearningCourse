{
 "cells": [
  {
   "cell_type": "markdown",
   "id": "91caa852",
   "metadata": {},
   "source": [
    "# Import Packages"
   ]
  },
  {
   "cell_type": "code",
   "execution_count": 1,
   "id": "7bd24d29",
   "metadata": {},
   "outputs": [],
   "source": [
    "import numpy as np\n",
    "import matplotlib.pyplot as plt\n",
    "\n",
    "%matplotlib inline"
   ]
  },
  {
   "cell_type": "markdown",
   "id": "0ee77023",
   "metadata": {},
   "source": [
    "# Define data"
   ]
  },
  {
   "cell_type": "code",
   "execution_count": 2,
   "id": "437dad80",
   "metadata": {},
   "outputs": [],
   "source": [
    "x_train = np.array([3, 5, 10, 0.2, 8, 7, 8])\n",
    "y_train = np.array([75, 82, 93, 61, 78, 65, 97])"
   ]
  },
  {
   "cell_type": "markdown",
   "id": "b701d450",
   "metadata": {},
   "source": [
    "# Normalize Data\n",
    "    1 - Normalize data\n",
    "    2 - use plt.scatter to visualize data and normalized data"
   ]
  },
  {
   "cell_type": "code",
   "execution_count": null,
   "id": "98fc44ff",
   "metadata": {},
   "outputs": [],
   "source": []
  },
  {
   "cell_type": "markdown",
   "id": "80ea6a9e",
   "metadata": {},
   "source": [
    "# Define Weights"
   ]
  },
  {
   "cell_type": "code",
   "execution_count": null,
   "id": "42fb3da8",
   "metadata": {},
   "outputs": [],
   "source": []
  },
  {
   "cell_type": "markdown",
   "id": "8c8d61bd",
   "metadata": {},
   "source": [
    "# Define Loss function\n",
    "### 1 - Squared Error\n",
    "### 2 - Absolute Error\n"
   ]
  },
  {
   "cell_type": "code",
   "execution_count": null,
   "id": "03666dc8",
   "metadata": {},
   "outputs": [],
   "source": []
  },
  {
   "cell_type": "markdown",
   "id": "c92b83ca",
   "metadata": {},
   "source": [
    "# Plot the loss function"
   ]
  },
  {
   "cell_type": "code",
   "execution_count": null,
   "id": "5652e53f",
   "metadata": {},
   "outputs": [],
   "source": []
  },
  {
   "cell_type": "markdown",
   "id": "41572746",
   "metadata": {},
   "source": [
    "# Find otimum point and plot the regressor"
   ]
  },
  {
   "cell_type": "code",
   "execution_count": null,
   "id": "e5749bf7",
   "metadata": {},
   "outputs": [],
   "source": []
  }
 ],
 "metadata": {
  "kernelspec": {
   "display_name": "Python 3 (ipykernel)",
   "language": "python",
   "name": "python3"
  },
  "language_info": {
   "codemirror_mode": {
    "name": "ipython",
    "version": 3
   },
   "file_extension": ".py",
   "mimetype": "text/x-python",
   "name": "python",
   "nbconvert_exporter": "python",
   "pygments_lexer": "ipython3",
   "version": "3.9.0"
  }
 },
 "nbformat": 4,
 "nbformat_minor": 5
}
