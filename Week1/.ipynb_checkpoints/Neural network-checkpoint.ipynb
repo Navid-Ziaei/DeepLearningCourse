{
 "cells": [
  {
   "cell_type": "code",
   "execution_count": 1,
   "metadata": {},
   "outputs": [],
   "source": [
    "import numpy as np\n",
    "import matplotlib.pyplot as plt\n",
    "\n",
    "%matplotlib inline"
   ]
  },
  {
   "cell_type": "markdown",
   "metadata": {},
   "source": [
    "# Create data arrays"
   ]
  },
  {
   "cell_type": "code",
   "execution_count": 15,
   "metadata": {},
   "outputs": [],
   "source": [
    "# X = (hours sleeping, hours studying), y = Score on test\n",
    "X = np.array(([3,5], [5,1], [10,2]), dtype=float)\n",
    "y = np.array(([75], [82], [93]), dtype=float)\n",
    "\n",
    "# Normalize\n",
    "X_train = X/np.amax(X, axis=0)\n",
    "y_train = y/100 #Max test score is 100"
   ]
  },
  {
   "cell_type": "code",
   "execution_count": null,
   "metadata": {},
   "outputs": [],
   "source": []
  },
  {
   "cell_type": "markdown",
   "metadata": {},
   "source": [
    "# Define The neural Network class"
   ]
  },
  {
   "cell_type": "markdown",
   "metadata": {},
   "source": [
    "1 - Define the hyper parameters\n",
    "\n",
    "2 - Initiate the weights\n",
    "\n",
    "3 - Feed forward"
   ]
  },
  {
   "cell_type": "markdown",
   "metadata": {},
   "source": [
    "<img src='nn.png'>"
   ]
  },
  {
   "cell_type": "code",
   "execution_count": 16,
   "metadata": {},
   "outputs": [],
   "source": [
    "class NeuralNetwork():\n",
    "    def __init__(self):\n",
    "        self.input_layer_size = 2\n",
    "        self.hidden_layer_size = 3\n",
    "        self.output_layer_size = 1\n",
    "        \n",
    "        # Weights (parameters)\n",
    "        self.w1 = np.random.randn(self.input_layer_size, self.hidden_layer_size)\n",
    "        self.w2 = np.random.randn(self.hidden_layer_size, self.output_layer_size)\n",
    "        \n",
    "    def sigmoid(self,z):\n",
    "        return 1/(1+np.exp(-z))\n",
    "    \n",
    "    def forward(self,x):\n",
    "        self.z2 = np.dot(x,self.w1)\n",
    "        self.a2 = self.sigmoid(self.z2)\n",
    "        self.z3 = np.dot(self.a2,self.w2)\n",
    "        yhat = self.sigmoid(self.z3)\n",
    "        return yhat\n",
    "    \n",
    "    def sigmoidprime(self,z):\n",
    "        return np.exp(-z)/(1+np.exp(-z))**2\n",
    "    \n",
    "    def cost_function(self, x, y):\n",
    "        y_hat = self.forward(x)\n",
    "        J = 0.5*sum((y-y_hat)**2)\n",
    "        return J\n",
    "        \n",
    "    def backpropagation(self, x, y):\n",
    "\n",
    "        yHat = self.forward(x)\n",
    "        delta3 = np.multiply(-(y-yHat), self.sigmoidprime(self.z3))\n",
    "        dJdW2 = np.dot(self.a2.T, delta3)\n",
    "        \n",
    "        delta2 = np.dot(delta3, self.w2.T)*self.sigmoidprime(self.z2)\n",
    "        dJdW1 = np.dot(x.T, delta2)\n",
    "\n",
    "        return dJdW1, dJdW2\n",
    "    \n",
    "    def fit(self, x, y, epoch, alpha):\n",
    "        J = []\n",
    "        for i in range(epoch):\n",
    "            #print(i)\n",
    "            yhat = self.forward(x)\n",
    "            J.append(self.cost_function(x, y))\n",
    "            dJdW1, dJdW2 = self.backpropagation(x, y)\n",
    "\n",
    "            self.w1 = self.w1 - alpha*dJdW1\n",
    "            self.w2 = self.w2 - alpha*dJdW2\n",
    "        return J\n",
    "        \n",
    "    \n",
    "        \n",
    "        \n",
    "        "
   ]
  },
  {
   "cell_type": "code",
   "execution_count": 17,
   "metadata": {},
   "outputs": [],
   "source": [
    "my_model = NeuralNetwork()"
   ]
  },
  {
   "cell_type": "markdown",
   "metadata": {},
   "source": [
    "# Utilizing"
   ]
  },
  {
   "cell_type": "code",
   "execution_count": 9,
   "metadata": {},
   "outputs": [
    {
     "data": {
      "text/plain": [
       "<BarContainer object of 3 artists>"
      ]
     },
     "execution_count": 9,
     "metadata": {},
     "output_type": "execute_result"
    },
    {
     "data": {
      "image/png": "[encoded data removed]",
      "text/plain": [
       "<Figure size 432x288 with 1 Axes>"
      ]
     },
     "metadata": {
      "needs_background": "light"
     },
     "output_type": "display_data"
    }
   ],
   "source": [
    "my_model = NeuralNetwork()\n",
    "J = my_model.fit(X_train,y_train, 200, 0.4)\n",
    "\n",
    "#plt.plot(J)\n",
    "\n",
    "yhat = my_model.forward(X_train)\n",
    "\n",
    "#print(y_train)\n",
    "plt.figure()\n",
    "plt.bar(['st1','st2','st3'],np.squeeze(y_train))\n",
    "plt.bar(['st1','st2','st3'],np.squeeze(yhat))\n"
   ]
  },
  {
   "cell_type": "code",
   "execution_count": 19,
   "metadata": {},
   "outputs": [
    {
     "name": "stdout",
     "output_type": "stream",
     "text": [
      "(3,)\n",
      "The error is[0.13943316]\n",
      "The error is[0.11557855]\n"
     ]
    },
    {
     "data": {
      "image/png": "[encoded data removed]",
      "text/plain": [
       "<Figure size 432x288 with 1 Axes>"
      ]
     },
     "metadata": {
      "needs_background": "light"
     },
     "output_type": "display_data"
    }
   ],
   "source": [
    "\n",
    "yhat = my_model.forward(X_train)\n",
    "\n",
    "print(np.squeeze(y_train).shape)\n",
    "plt.figure()\n",
    "plt.bar(['st1','st2','st3'],np.squeeze(y_train),color='r')\n",
    "plt.bar(['st1','st2','st3'],np.squeeze(yhat))\n",
    "\n",
    "J = my_model.cost_function(X_train, y_train)\n",
    "print('The error is'+str(J))\n",
    "\n",
    "dJdW1, dJdW2 = my_model.backpropagation(X_train, y_train)\n",
    "\n",
    "alpha = 0.5\n",
    "my_model.w1 = my_model.w1 - alpha*dJdW1\n",
    "my_model.w2 = my_model.w2 - alpha*dJdW2\n",
    "\n",
    "J = my_model.cost_function(X_train, y_train)\n",
    "print('The error is'+str(J))"
   ]
  },
  {
   "cell_type": "code",
   "execution_count": null,
   "metadata": {},
   "outputs": [],
   "source": [
    "yhat = my_model.forward(X_train)\n",
    "print(yhat)\n",
    "print(y)"
   ]
  },
  {
   "cell_type": "code",
   "execution_count": null,
   "metadata": {},
   "outputs": [],
   "source": [
    "t = np.arange(-10,10,0.01)\n",
    "f = my_model.sigmoid(t)\n",
    "fprime = my_model.fprime(t)\n",
    "\n",
    "plt.plot(t,f)\n",
    "plt.title('sigmoide')\n",
    "\n",
    "plt.plot(t,fprime)\n",
    "plt.title('sigmoide')"
   ]
  },
  {
   "cell_type": "code",
   "execution_count": null,
   "metadata": {},
   "outputs": [],
   "source": []
  },
  {
   "cell_type": "code",
   "execution_count": null,
   "metadata": {},
   "outputs": [],
   "source": []
  }
 ],
 "metadata": {
  "kernelspec": {
   "display_name": "Python 3 (ipykernel)",
   "language": "python",
   "name": "python3"
  },
  "language_info": {
   "codemirror_mode": {
    "name": "ipython",
    "version": 3
   },
   "file_extension": ".py",
   "mimetype": "text/x-python",
   "name": "python",
   "nbconvert_exporter": "python",
   "pygments_lexer": "ipython3",
   "version": "3.9.13"
  }
 },
 "nbformat": 4,
 "nbformat_minor": 4
}
