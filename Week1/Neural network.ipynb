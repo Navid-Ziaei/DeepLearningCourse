{
 "cells": [
  {
   "cell_type": "code",
   "execution_count": null,
   "metadata": {},
   "outputs": [],
   "source": [
    "import numpy as np\n",
    "import matplotlib.pyplot as plt\n",
    "\n",
    "%matplotlib inline"
   ]
  },
  {
   "cell_type": "markdown",
   "metadata": {},
   "source": [
    "# Create data arrays\n",
    "<img src='assets/data.png'>"
   ]
  },
  {
   "cell_type": "code",
   "execution_count": null,
   "metadata": {},
   "outputs": [],
   "source": [
    "# X = (hours sleeping, hours studying), y = Score on test\n",
    "X = ...\n",
    "y = ...\n",
    "\n"
   ]
  },
  {
   "cell_type": "markdown",
   "metadata": {},
   "source": [
    "# Normalize data"
   ]
  },
  {
   "cell_type": "code",
   "execution_count": null,
   "metadata": {},
   "outputs": [],
   "source": [
    "# Normalize\n",
    "X_train = X/np.amax(X, axis=0)\n",
    "y_train = y/100 # Max test score is 100"
   ]
  },
  {
   "cell_type": "markdown",
   "metadata": {},
   "source": [
    "# Define The neural Network class"
   ]
  },
  {
   "cell_type": "markdown",
   "metadata": {},
   "source": [
    "1 - Define the hyper parameters\n",
    "\n",
    "2 - Initiate the weights\n",
    "\n",
    "3 - Feed forward"
   ]
  },
  {
   "cell_type": "markdown",
   "metadata": {},
   "source": [
    "<img src='assets/nn.png'>"
   ]
  },
  {
   "cell_type": "markdown",
   "metadata": {},
   "source": [
    "<img src='assets/derivatives.png'>"
   ]
  },
  {
   "cell_type": "code",
   "execution_count": null,
   "metadata": {},
   "outputs": [],
   "source": [
    "class NeuralNetwork():\n",
    "    def __init__(self):\n",
    "        # initialize model hyper parameters\n",
    "        self.input_layer_size = # your code goes here\n",
    "        self.hidden_layer_size = # your code goes here\n",
    "        self.output_layer_size = # your code goes here\n",
    "        \n",
    "        # initialize weights\n",
    "        # initialize self.w1 and self.w2 using np.random.randn\n",
    "        # your code goes here\n",
    "        pass\n",
    "        \n",
    "    def forward(self,x):\n",
    "        # Feed data into model\n",
    "        pass\n",
    "    \n",
    "    def sigmoid(self,z):\n",
    "        # get sigmoide function\n",
    "        pass\n",
    "    \n",
    "    def sigmoidprime(self,z):\n",
    "        # derivative of sigmoid function\n",
    "        pass\n",
    "    \n",
    "    def cost_function(self, x, y):\n",
    "        # cost function\n",
    "        pass\n",
    "        \n",
    "    def backpropagation(self, x, y):\n",
    "        # Back propagation\n",
    "        pass\n",
    "    \n",
    "    def fit(self, x, y, epoch, alpha):\n",
    "        # train model\n",
    "        pass"
   ]
  },
  {
   "cell_type": "code",
   "execution_count": null,
   "metadata": {},
   "outputs": [],
   "source": [
    "my_model = NeuralNetwork()"
   ]
  },
  {
   "cell_type": "code",
   "execution_count": null,
   "metadata": {},
   "outputs": [],
   "source": []
  },
  {
   "cell_type": "markdown",
   "metadata": {},
   "source": [
    "# Utilizing"
   ]
  },
  {
   "cell_type": "code",
   "execution_count": null,
   "metadata": {},
   "outputs": [],
   "source": [
    "my_model = NeuralNetwork()\n",
    "J = my_model.fit(X_train,y_train, 200, 0.4)\n",
    "\n",
    "#plt.plot(J)\n",
    "\n",
    "yhat = my_model.forward(X_train)\n",
    "\n",
    "#print(y_train)\n",
    "plt.figure()\n",
    "plt.bar(['st1','st2','st3'],np.squeeze(y_train))\n",
    "plt.bar(['st1','st2','st3'],np.squeeze(yhat))\n"
   ]
  },
  {
   "cell_type": "code",
   "execution_count": null,
   "metadata": {},
   "outputs": [],
   "source": [
    "\n",
    "yhat = my_model.forward(X_train)\n",
    "\n",
    "print(np.squeeze(y_train).shape)\n",
    "plt.figure()\n",
    "plt.bar(['st1','st2','st3'],np.squeeze(y_train),color='r')\n",
    "plt.bar(['st1','st2','st3'],np.squeeze(yhat))\n",
    "\n",
    "J = my_model.cost_function(X_train, y_train)\n",
    "print('The error is'+str(J))\n",
    "\n",
    "dJdW1, dJdW2 = my_model.backpropagation(X_train, y_train)\n",
    "\n",
    "alpha = 0.5\n",
    "my_model.w1 = my_model.w1 - alpha*dJdW1\n",
    "my_model.w2 = my_model.w2 - alpha*dJdW2\n",
    "\n",
    "J = my_model.cost_function(X_train, y_train)\n",
    "print('The error is'+str(J))"
   ]
  },
  {
   "cell_type": "code",
   "execution_count": null,
   "metadata": {},
   "outputs": [],
   "source": [
    "yhat = my_model.forward(X_train)\n",
    "print(yhat)\n",
    "print(y)"
   ]
  },
  {
   "cell_type": "code",
   "execution_count": null,
   "metadata": {},
   "outputs": [],
   "source": [
    "t = np.arange(-10,10,0.01)\n",
    "f = my_model.sigmoid(t)\n",
    "fprime = my_model.fprime(t)\n",
    "\n",
    "plt.plot(t,f)\n",
    "plt.title('sigmoide')\n",
    "\n",
    "plt.plot(t,fprime)\n",
    "plt.title('sigmoide')"
   ]
  },
  {
   "cell_type": "code",
   "execution_count": null,
   "metadata": {},
   "outputs": [],
   "source": []
  },
  {
   "cell_type": "code",
   "execution_count": null,
   "metadata": {},
   "outputs": [],
   "source": []
  }
 ],
 "metadata": {
  "kernelspec": {
   "display_name": "Python 3 (ipykernel)",
   "language": "python",
   "name": "python3"
  },
  "language_info": {
   "codemirror_mode": {
    "name": "ipython",
    "version": 3
   },
   "file_extension": ".py",
   "mimetype": "text/x-python",
   "name": "python",
   "nbconvert_exporter": "python",
   "pygments_lexer": "ipython3",
   "version": "3.9.13"
  }
 },
 "nbformat": 4,
 "nbformat_minor": 4
}
