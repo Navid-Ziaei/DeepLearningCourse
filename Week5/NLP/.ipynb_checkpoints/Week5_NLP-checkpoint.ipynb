{
 "cells": [
  {
   "cell_type": "markdown",
   "id": "6fb1f942",
   "metadata": {
    "pycharm": {
     "name": "#%% md\n"
    }
   },
   "source": [
    "# NLP\n",
    "## 1 -  What Tokenizer do?\n",
    "## 2 - A simple example"
   ]
  },
  {
   "cell_type": "code",
   "execution_count": 2,
   "id": "a5ce6c7d",
   "metadata": {
    "pycharm": {
     "name": "#%%\n"
    }
   },
   "outputs": [],
   "source": [
    "from tensorflow.keras.preprocessing.text import Tokenizer\n",
    "from tensorflow.keras.preprocessing.sequence import pad_sequences"
   ]
  },
  {
   "cell_type": "code",
   "execution_count": 3,
   "id": "8b80a76c",
   "metadata": {
    "pycharm": {
     "name": "#%%\n"
    }
   },
   "outputs": [],
   "source": [
    "# Just a simple test\n",
    "sentences = [\n",
    "  \"I like eggs and ham.\",\n",
    "  \"I love chocolate and bunnies.\",\n",
    "  \"I hate onions.\"\n",
    "]\n"
   ]
  },
  {
   "cell_type": "markdown",
   "id": "35330888",
   "metadata": {
    "pycharm": {
     "name": "#%% md\n"
    }
   },
   "source": [
    "# 1 - Use Tokenizer"
   ]
  },
  {
   "cell_type": "code",
   "execution_count": 4,
   "id": "be3c13c9",
   "metadata": {
    "pycharm": {
     "name": "#%%\n"
    }
   },
   "outputs": [],
   "source": [
    "MAX_VOCAB_SIZE = 20000\n",
    "tokenizer = Tokenizer(num_words = MAX_VOCAB_SIZE)\n",
    "tokenizer.fit_on_texts(sentences)\n",
    "sequence = tokenizer.texts_to_sequences(sentences)"
   ]
  },
  {
   "cell_type": "markdown",
   "id": "c0704815",
   "metadata": {
    "pycharm": {
     "name": "#%% md\n"
    }
   },
   "source": [
    "### How to get the word to index mapping?\n",
    "show the indexes\n"
   ]
  },
  {
   "cell_type": "code",
   "execution_count": 6,
   "id": "d184fdc1",
   "metadata": {
    "pycharm": {
     "name": "#%%\n"
    }
   },
   "outputs": [
    {
     "data": {
      "text/plain": [
       "{'i': 1,\n",
       " 'and': 2,\n",
       " 'like': 3,\n",
       " 'eggs': 4,\n",
       " 'ham': 5,\n",
       " 'love': 6,\n",
       " 'chocolate': 7,\n",
       " 'bunnies': 8,\n",
       " 'hate': 9,\n",
       " 'onions': 10}"
      ]
     },
     "execution_count": 6,
     "metadata": {},
     "output_type": "execute_result"
    }
   ],
   "source": [
    "tokenizer.word_index"
   ]
  },
  {
   "cell_type": "code",
   "execution_count": 8,
   "id": "4399ccba",
   "metadata": {
    "pycharm": {
     "name": "#%%\n"
    }
   },
   "outputs": [
    {
     "data": {
      "text/plain": [
       "OrderedDict([('i', 3),\n",
       "             ('like', 1),\n",
       "             ('eggs', 1),\n",
       "             ('and', 2),\n",
       "             ('ham', 1),\n",
       "             ('love', 1),\n",
       "             ('chocolate', 1),\n",
       "             ('bunnies', 1),\n",
       "             ('hate', 1),\n",
       "             ('onions', 1)])"
      ]
     },
     "execution_count": 8,
     "metadata": {},
     "output_type": "execute_result"
    }
   ],
   "source": [
    "tokenizer.word_counts"
   ]
  },
  {
   "cell_type": "markdown",
   "id": "5af6fd7f",
   "metadata": {
    "pycharm": {
     "name": "#%% md\n"
    }
   },
   "source": [
    "### Apply padding\n",
    "apply padding with default settings"
   ]
  },
  {
   "cell_type": "code",
   "execution_count": 14,
   "id": "6cefd4ba",
   "metadata": {
    "pycharm": {
     "name": "#%%\n"
    }
   },
   "outputs": [
    {
     "name": "stdout",
     "output_type": "stream",
     "text": [
      "[[ 1  3  4  2  5]\n",
      " [ 1  6  7  2  8]\n",
      " [ 0  0  1  9 10]]\n",
      "(3, 5)\n"
     ]
    }
   ],
   "source": [
    "data = pad_sequences(sequence)\n",
    "print(data)\n",
    "print(data.shape)"
   ]
  },
  {
   "cell_type": "markdown",
   "id": "8d874d87",
   "metadata": {
    "pycharm": {
     "name": "#%% md\n"
    }
   },
   "source": [
    "### customize padding\n",
    "change padding mode to post\n",
    "\n",
    "check the effect of changing maxlen\n"
   ]
  },
  {
   "cell_type": "code",
   "execution_count": 21,
   "id": "afcb7630",
   "metadata": {
    "pycharm": {
     "name": "#%%\n"
    }
   },
   "outputs": [
    {
     "name": "stdout",
     "output_type": "stream",
     "text": [
      "[[ 1  3  4  2  5]\n",
      " [ 1  6  7  2  8]\n",
      " [ 1  9 10  0  0]]\n"
     ]
    }
   ],
   "source": [
    "\n",
    "MAX_SEQUENCE_LENGTH = 5\n",
    "data = pad_sequences(sequence, maxlen=MAX_SEQUENCE_LENGTH, padding=\"post\")\n",
    "print(data)"
   ]
  },
  {
   "cell_type": "markdown",
   "id": "71031bdf",
   "metadata": {
    "pycharm": {
     "name": "#%% md\n"
    }
   },
   "source": [
    "# 2 - Simple Example"
   ]
  },
  {
   "cell_type": "code",
   "execution_count": 1,
   "id": "dd57539f",
   "metadata": {
    "pycharm": {
     "name": "#%%\n"
    }
   },
   "outputs": [],
   "source": [
    "import numpy as np\n",
    "import pandas as pd\n",
    "import matplotlib.pyplot as plt\n",
    "from sklearn.model_selection import train_test_split\n",
    "\n",
    "from tensorflow.keras.preprocessing.text import Tokenizer\n",
    "from tensorflow.keras.preprocessing.sequence import pad_sequences\n",
    "from tensorflow.keras.layers import Dense, Input, GlobalMaxPooling1D\n",
    "from tensorflow.keras.layers import LSTM, Embedding\n",
    "from tensorflow.keras.models import Model"
   ]
  },
  {
   "cell_type": "markdown",
   "id": "107cab2d",
   "metadata": {
    "pycharm": {
     "name": "#%% md\n"
    }
   },
   "source": [
    "## 2.1 Read data\n",
    "read with pandas using correct encoding"
   ]
  },
  {
   "cell_type": "code",
   "execution_count": 2,
   "id": "7d72d8d6",
   "metadata": {
    "pycharm": {
     "name": "#%%\n"
    }
   },
   "outputs": [
    {
     "data": {
      "text/html": [
       "<div>\n",
       "<style scoped>\n",
       "    .dataframe tbody tr th:only-of-type {\n",
       "        vertical-align: middle;\n",
       "    }\n",
       "\n",
       "    .dataframe tbody tr th {\n",
       "        vertical-align: top;\n",
       "    }\n",
       "\n",
       "    .dataframe thead th {\n",
       "        text-align: right;\n",
       "    }\n",
       "</style>\n",
       "<table border=\"1\" class=\"dataframe\">\n",
       "  <thead>\n",
       "    <tr style=\"text-align: right;\">\n",
       "      <th></th>\n",
       "      <th>v1</th>\n",
       "      <th>v2</th>\n",
       "      <th>Unnamed: 2</th>\n",
       "      <th>Unnamed: 3</th>\n",
       "      <th>Unnamed: 4</th>\n",
       "    </tr>\n",
       "  </thead>\n",
       "  <tbody>\n",
       "    <tr>\n",
       "      <th>0</th>\n",
       "      <td>ham</td>\n",
       "      <td>Go until jurong point, crazy.. Available only ...</td>\n",
       "      <td>NaN</td>\n",
       "      <td>NaN</td>\n",
       "      <td>NaN</td>\n",
       "    </tr>\n",
       "    <tr>\n",
       "      <th>1</th>\n",
       "      <td>ham</td>\n",
       "      <td>Ok lar... Joking wif u oni...</td>\n",
       "      <td>NaN</td>\n",
       "      <td>NaN</td>\n",
       "      <td>NaN</td>\n",
       "    </tr>\n",
       "    <tr>\n",
       "      <th>2</th>\n",
       "      <td>spam</td>\n",
       "      <td>Free entry in 2 a wkly comp to win FA Cup fina...</td>\n",
       "      <td>NaN</td>\n",
       "      <td>NaN</td>\n",
       "      <td>NaN</td>\n",
       "    </tr>\n",
       "    <tr>\n",
       "      <th>3</th>\n",
       "      <td>ham</td>\n",
       "      <td>U dun say so early hor... U c already then say...</td>\n",
       "      <td>NaN</td>\n",
       "      <td>NaN</td>\n",
       "      <td>NaN</td>\n",
       "    </tr>\n",
       "    <tr>\n",
       "      <th>4</th>\n",
       "      <td>ham</td>\n",
       "      <td>Nah I don't think he goes to usf, he lives aro...</td>\n",
       "      <td>NaN</td>\n",
       "      <td>NaN</td>\n",
       "      <td>NaN</td>\n",
       "    </tr>\n",
       "  </tbody>\n",
       "</table>\n",
       "</div>"
      ],
      "text/plain": [
       "     v1                                                 v2 Unnamed: 2  \\\n",
       "0   ham  Go until jurong point, crazy.. Available only ...        NaN   \n",
       "1   ham                      Ok lar... Joking wif u oni...        NaN   \n",
       "2  spam  Free entry in 2 a wkly comp to win FA Cup fina...        NaN   \n",
       "3   ham  U dun say so early hor... U c already then say...        NaN   \n",
       "4   ham  Nah I don't think he goes to usf, he lives aro...        NaN   \n",
       "\n",
       "  Unnamed: 3 Unnamed: 4  \n",
       "0        NaN        NaN  \n",
       "1        NaN        NaN  \n",
       "2        NaN        NaN  \n",
       "3        NaN        NaN  \n",
       "4        NaN        NaN  "
      ]
     },
     "execution_count": 2,
     "metadata": {},
     "output_type": "execute_result"
    }
   ],
   "source": [
    "df = pd.read_csv('spam.csv',encoding='ISO-8859-1')\n",
    "df.head()"
   ]
  },
  {
   "cell_type": "markdown",
   "id": "f658ad72",
   "metadata": {
    "pycharm": {
     "name": "#%% md\n"
    }
   },
   "source": [
    "## 2.2 Preprocessing\n",
    "- drop unnecessary columns\n",
    "- create binary labels\n",
    "- split up the data"
   ]
  },
  {
   "cell_type": "code",
   "execution_count": 30,
   "id": "84271d34",
   "metadata": {
    "pycharm": {
     "name": "#%%\n"
    }
   },
   "outputs": [],
   "source": [
    "\n",
    "df = df.drop([\"Unnamed: 2\",\"Unnamed: 3\",\"Unnamed: 4\"], axis=1)\n",
    "\n",
    "df.columns = ['labels','data']\n",
    "\n",
    "df['b_labels'] = df['labels'].map({'ham': 0, 'spam': 1})\n",
    "Y = df['b_labels'].values\n",
    "\n",
    "df_train,df_test,Ytrain,Ytest = train_test_split(df['data'], Y, test_size=0.33)"
   ]
  },
  {
   "cell_type": "markdown",
   "id": "80eaa3dc",
   "metadata": {
    "pycharm": {
     "name": "#%% md\n"
    }
   },
   "source": [
    "## 2.3 Using Tokenizer "
   ]
  },
  {
   "cell_type": "code",
   "execution_count": 31,
   "id": "ca81ab33",
   "metadata": {
    "pycharm": {
     "name": "#%%\n"
    }
   },
   "outputs": [],
   "source": [
    "MAX_VOCAB_SIZE=20000\n",
    "tokenizer = Tokenizer(num_words=MAX_VOCAB_SIZE)\n",
    "tokenizer.fit_on_texts(df_train)\n",
    "sequences_train = tokenizer.texts_to_sequences(df_train)\n",
    "sequences_test = tokenizer.texts_to_sequences(df_test)"
   ]
  },
  {
   "cell_type": "markdown",
   "id": "8b8dcfc1",
   "metadata": {
    "pycharm": {
     "name": "#%% md\n"
    }
   },
   "source": [
    "### 2.3.1 get word -> integer mapping"
   ]
  },
  {
   "cell_type": "code",
   "execution_count": 32,
   "id": "2d8a4795",
   "metadata": {
    "pycharm": {
     "name": "#%%\n"
    }
   },
   "outputs": [
    {
     "name": "stdout",
     "output_type": "stream",
     "text": [
      "Found 7348 unique tokens.\n"
     ]
    }
   ],
   "source": [
    "word2idx = tokenizer.word_index\n",
    "V = len(word2idx)\n",
    "print('Found %s unique tokens.' % V)"
   ]
  },
  {
   "cell_type": "code",
   "execution_count": 33,
   "id": "275df322",
   "metadata": {
    "pycharm": {
     "name": "#%%\n"
    }
   },
   "outputs": [
    {
     "data": {
      "text/plain": [
       "{'i': 1,\n",
       " 'to': 2,\n",
       " 'you': 3,\n",
       " 'a': 4,\n",
       " 'the': 5,\n",
       " 'u': 6,\n",
       " 'and': 7,\n",
       " 'in': 8,\n",
       " 'is': 9,\n",
       " 'me': 10,\n",
       " 'my': 11,\n",
       " 'for': 12,\n",
       " 'your': 13,\n",
       " 'it': 14,\n",
       " 'of': 15,\n",
       " 'call': 16,\n",
       " 'have': 17,\n",
       " 'on': 18,\n",
       " 'now': 19,\n",
       " '2': 20,\n",
       " 'are': 21,\n",
       " 'that': 22,\n",
       " 'so': 23,\n",
       " 'not': 24,\n",
       " 'or': 25,\n",
       " 'but': 26,\n",
       " 'can': 27,\n",
       " 'do': 28,\n",
       " 'no': 29,\n",
       " 'get': 30,\n",
       " 'with': 31,\n",
       " 'be': 32,\n",
       " 'at': 33,\n",
       " 'if': 34,\n",
       " 'will': 35,\n",
       " \"i'm\": 36,\n",
       " 'just': 37,\n",
       " 'we': 38,\n",
       " 'ur': 39,\n",
       " 'this': 40,\n",
       " 'up': 41,\n",
       " 'free': 42,\n",
       " '4': 43,\n",
       " 'gt': 44,\n",
       " 'ok': 45,\n",
       " 'from': 46,\n",
       " 'lt': 47,\n",
       " 'when': 48,\n",
       " 'go': 49,\n",
       " 'how': 50,\n",
       " 'all': 51,\n",
       " 'know': 52,\n",
       " 'out': 53,\n",
       " 'what': 54,\n",
       " 'then': 55,\n",
       " 'like': 56,\n",
       " 'good': 57,\n",
       " 'got': 58,\n",
       " 'come': 59,\n",
       " 'am': 60,\n",
       " 'was': 61,\n",
       " 'time': 62,\n",
       " 'its': 63,\n",
       " 'day': 64,\n",
       " 'only': 65,\n",
       " 'he': 66,\n",
       " 'love': 67,\n",
       " 'there': 68,\n",
       " 'send': 69,\n",
       " 'text': 70,\n",
       " 'one': 71,\n",
       " 'want': 72,\n",
       " 'r': 73,\n",
       " 'txt': 74,\n",
       " 'home': 75,\n",
       " \"i'll\": 76,\n",
       " 'by': 77,\n",
       " 'stop': 78,\n",
       " 'sorry': 79,\n",
       " 'as': 80,\n",
       " 'reply': 81,\n",
       " 'still': 82,\n",
       " 'need': 83,\n",
       " 'n': 84,\n",
       " 'going': 85,\n",
       " 'about': 86,\n",
       " 'k': 87,\n",
       " 'back': 88,\n",
       " 'see': 89,\n",
       " 'lor': 90,\n",
       " 'today': 91,\n",
       " 'da': 92,\n",
       " 'our': 93,\n",
       " 'mobile': 94,\n",
       " 'she': 95,\n",
       " 'pls': 96,\n",
       " 'please': 97,\n",
       " 'hi': 98,\n",
       " 'phone': 99,\n",
       " 'dear': 100,\n",
       " 'new': 101,\n",
       " 'take': 102,\n",
       " 'her': 103,\n",
       " \"don't\": 104,\n",
       " 'later': 105,\n",
       " 'think': 106,\n",
       " 'dont': 107,\n",
       " 'they': 108,\n",
       " 'any': 109,\n",
       " 'been': 110,\n",
       " 'did': 111,\n",
       " 'night': 112,\n",
       " 'here': 113,\n",
       " 'ì': 114,\n",
       " 'tell': 115,\n",
       " 'happy': 116,\n",
       " 'has': 117,\n",
       " 'week': 118,\n",
       " 'well': 119,\n",
       " 'an': 120,\n",
       " 'claim': 121,\n",
       " 'him': 122,\n",
       " 'some': 123,\n",
       " 'hey': 124,\n",
       " 'where': 125,\n",
       " '1': 126,\n",
       " 'msg': 127,\n",
       " 'give': 128,\n",
       " 'right': 129,\n",
       " 'oh': 130,\n",
       " 'c': 131,\n",
       " 'way': 132,\n",
       " 'wat': 133,\n",
       " 'd': 134,\n",
       " 'hope': 135,\n",
       " 'who': 136,\n",
       " 'great': 137,\n",
       " 'had': 138,\n",
       " 'www': 139,\n",
       " 'much': 140,\n",
       " 'message': 141,\n",
       " 'make': 142,\n",
       " 'yes': 143,\n",
       " 'more': 144,\n",
       " 'already': 145,\n",
       " 'too': 146,\n",
       " 'work': 147,\n",
       " 'number': 148,\n",
       " 'them': 149,\n",
       " 'e': 150,\n",
       " 'tomorrow': 151,\n",
       " 'should': 152,\n",
       " 'cash': 153,\n",
       " 'last': 154,\n",
       " 'really': 155,\n",
       " \"it's\": 156,\n",
       " '3': 157,\n",
       " 'morning': 158,\n",
       " 'say': 159,\n",
       " 'ask': 160,\n",
       " 'after': 161,\n",
       " 'find': 162,\n",
       " 'doing': 163,\n",
       " 'prize': 164,\n",
       " 'amp': 165,\n",
       " 'meet': 166,\n",
       " 'very': 167,\n",
       " 'yeah': 168,\n",
       " 't': 169,\n",
       " 'said': 170,\n",
       " 'lol': 171,\n",
       " 'thanks': 172,\n",
       " 'im': 173,\n",
       " 'win': 174,\n",
       " 'over': 175,\n",
       " 'let': 176,\n",
       " 'why': 177,\n",
       " '150p': 178,\n",
       " 'miss': 179,\n",
       " 'babe': 180,\n",
       " 'uk': 181,\n",
       " 'min': 182,\n",
       " 'anything': 183,\n",
       " 'keep': 184,\n",
       " 'nokia': 185,\n",
       " 'life': 186,\n",
       " 'sure': 187,\n",
       " 'won': 188,\n",
       " 'pick': 189,\n",
       " 'buy': 190,\n",
       " 'us': 191,\n",
       " 'com': 192,\n",
       " 'money': 193,\n",
       " 'sent': 194,\n",
       " 'cant': 195,\n",
       " 'went': 196,\n",
       " 'next': 197,\n",
       " 'b': 198,\n",
       " 'something': 199,\n",
       " 'many': 200,\n",
       " 'before': 201,\n",
       " 'service': 202,\n",
       " 'every': 203,\n",
       " 'even': 204,\n",
       " 'wait': 205,\n",
       " 'also': 206,\n",
       " 'urgent': 207,\n",
       " 'contact': 208,\n",
       " 'feel': 209,\n",
       " 'could': 210,\n",
       " 'per': 211,\n",
       " 'soon': 212,\n",
       " 'his': 213,\n",
       " 'care': 214,\n",
       " 's': 215,\n",
       " 'around': 216,\n",
       " 'would': 217,\n",
       " 'co': 218,\n",
       " 'again': 219,\n",
       " '5': 220,\n",
       " 'chat': 221,\n",
       " 'leave': 222,\n",
       " \"i've\": 223,\n",
       " 'wan': 224,\n",
       " 'wish': 225,\n",
       " 'sleep': 226,\n",
       " 'cos': 227,\n",
       " 'place': 228,\n",
       " 'down': 229,\n",
       " 'sms': 230,\n",
       " 'x': 231,\n",
       " 'first': 232,\n",
       " 'other': 233,\n",
       " 'customer': 234,\n",
       " 'friends': 235,\n",
       " 'thing': 236,\n",
       " 'off': 237,\n",
       " 'tonight': 238,\n",
       " 'told': 239,\n",
       " 'ya': 240,\n",
       " 'friend': 241,\n",
       " 'were': 242,\n",
       " 'v': 243,\n",
       " 'someone': 244,\n",
       " 'people': 245,\n",
       " 'thk': 246,\n",
       " '16': 247,\n",
       " 'getting': 248,\n",
       " 'may': 249,\n",
       " 'late': 250,\n",
       " 'coming': 251,\n",
       " 'tone': 252,\n",
       " 'nice': 253,\n",
       " 'which': 254,\n",
       " \"you're\": 255,\n",
       " 'live': 256,\n",
       " 'gonna': 257,\n",
       " 'dun': 258,\n",
       " 'special': 259,\n",
       " 'hello': 260,\n",
       " \"didn't\": 261,\n",
       " 'waiting': 262,\n",
       " '50': 263,\n",
       " 'ìï': 264,\n",
       " 'try': 265,\n",
       " 'best': 266,\n",
       " 'better': 267,\n",
       " 'real': 268,\n",
       " 'always': 269,\n",
       " 'days': 270,\n",
       " 'use': 271,\n",
       " 'man': 272,\n",
       " 'car': 273,\n",
       " 'stuff': 274,\n",
       " 'year': 275,\n",
       " 'holiday': 276,\n",
       " 'lunch': 277,\n",
       " 'haha': 278,\n",
       " 'gud': 279,\n",
       " 'help': 280,\n",
       " 'thats': 281,\n",
       " 'long': 282,\n",
       " 'check': 283,\n",
       " '7': 284,\n",
       " 'cs': 285,\n",
       " 'yet': 286,\n",
       " \"that's\": 287,\n",
       " 'yup': 288,\n",
       " \"can't\": 289,\n",
       " 'fine': 290,\n",
       " 'heart': 291,\n",
       " 'enjoy': 292,\n",
       " 'class': 293,\n",
       " '6': 294,\n",
       " '18': 295,\n",
       " 'luv': 296,\n",
       " 'bit': 297,\n",
       " 'ill': 298,\n",
       " 'receive': 299,\n",
       " 'things': 300,\n",
       " 'world': 301,\n",
       " 'few': 302,\n",
       " 'job': 303,\n",
       " 'y': 304,\n",
       " 'shit': 305,\n",
       " 'talk': 306,\n",
       " 'person': 307,\n",
       " 'because': 308,\n",
       " 'name': 309,\n",
       " 'house': 310,\n",
       " 'meeting': 311,\n",
       " 'mins': 312,\n",
       " 'half': 313,\n",
       " 'never': 314,\n",
       " 'wk': 315,\n",
       " 'guaranteed': 316,\n",
       " 'smile': 317,\n",
       " 'draw': 318,\n",
       " 'lar': 319,\n",
       " 'line': 320,\n",
       " 'being': 321,\n",
       " 'camera': 322,\n",
       " 'ah': 323,\n",
       " 'eat': 324,\n",
       " 'same': 325,\n",
       " 'birthday': 326,\n",
       " 'yo': 327,\n",
       " 'play': 328,\n",
       " 'ready': 329,\n",
       " 'latest': 330,\n",
       " 'box': 331,\n",
       " 'sweet': 332,\n",
       " 'big': 333,\n",
       " 'wanna': 334,\n",
       " 'guess': 335,\n",
       " 'thought': 336,\n",
       " 'forgot': 337,\n",
       " 'rate': 338,\n",
       " \"he's\": 339,\n",
       " 'lot': 340,\n",
       " 'mind': 341,\n",
       " 'dinner': 342,\n",
       " 'kiss': 343,\n",
       " 'pay': 344,\n",
       " 'wife': 345,\n",
       " 'xxx': 346,\n",
       " 'å£1000': 347,\n",
       " 'into': 348,\n",
       " 'nothing': 349,\n",
       " 'jus': 350,\n",
       " 'selected': 351,\n",
       " 'problem': 352,\n",
       " 'month': 353,\n",
       " 'bt': 354,\n",
       " 'po': 355,\n",
       " 'bed': 356,\n",
       " 'god': 357,\n",
       " 'room': 358,\n",
       " 'trying': 359,\n",
       " 'landline': 360,\n",
       " 'baby': 361,\n",
       " 'left': 362,\n",
       " 'pa': 363,\n",
       " 'shall': 364,\n",
       " 'having': 365,\n",
       " 'speak': 366,\n",
       " 'hear': 367,\n",
       " 'wont': 368,\n",
       " 'working': 369,\n",
       " 'sir': 370,\n",
       " 'finish': 371,\n",
       " '2nd': 372,\n",
       " 'award': 373,\n",
       " 'sat': 374,\n",
       " 'xmas': 375,\n",
       " 'orange': 376,\n",
       " 'tv': 377,\n",
       " 'code': 378,\n",
       " 'between': 379,\n",
       " 'll': 380,\n",
       " 'maybe': 381,\n",
       " 'thanx': 382,\n",
       " '150ppm': 383,\n",
       " 'word': 384,\n",
       " 'face': 385,\n",
       " 'awarded': 386,\n",
       " 'end': 387,\n",
       " 'called': 388,\n",
       " 'office': 389,\n",
       " 'able': 390,\n",
       " 'å£1': 391,\n",
       " 'dunno': 392,\n",
       " 'leh': 393,\n",
       " 'remember': 394,\n",
       " 'than': 395,\n",
       " 'two': 396,\n",
       " 'offer': 397,\n",
       " 'chance': 398,\n",
       " \"there's\": 399,\n",
       " 'hour': 400,\n",
       " 'messages': 401,\n",
       " 'watching': 402,\n",
       " 'account': 403,\n",
       " 'done': 404,\n",
       " 'apply': 405,\n",
       " 'dat': 406,\n",
       " 'mail': 407,\n",
       " 'guys': 408,\n",
       " 'girl': 409,\n",
       " 'ringtone': 410,\n",
       " 'part': 411,\n",
       " 'cool': 412,\n",
       " '000': 413,\n",
       " 'easy': 414,\n",
       " 'havent': 415,\n",
       " '1st': 416,\n",
       " 'princess': 417,\n",
       " 'does': 418,\n",
       " 'video': 419,\n",
       " 'okay': 420,\n",
       " '9': 421,\n",
       " 'another': 422,\n",
       " 'anyway': 423,\n",
       " 'shopping': 424,\n",
       " 'fuck': 425,\n",
       " 'cost': 426,\n",
       " 'alright': 427,\n",
       " 'early': 428,\n",
       " 'while': 429,\n",
       " 'actually': 430,\n",
       " 'den': 431,\n",
       " 'school': 432,\n",
       " 'fun': 433,\n",
       " '10p': 434,\n",
       " 'those': 435,\n",
       " 'ever': 436,\n",
       " 'wot': 437,\n",
       " 'shows': 438,\n",
       " 'm': 439,\n",
       " 'might': 440,\n",
       " 'til': 441,\n",
       " 'until': 442,\n",
       " 'minutes': 443,\n",
       " 'though': 444,\n",
       " 'says': 445,\n",
       " 'came': 446,\n",
       " 'true': 447,\n",
       " 'looking': 448,\n",
       " 'dad': 449,\n",
       " 'look': 450,\n",
       " 'goes': 451,\n",
       " 'network': 452,\n",
       " 'attempt': 453,\n",
       " 'collection': 454,\n",
       " 'asked': 455,\n",
       " 'enough': 456,\n",
       " 'liao': 457,\n",
       " 'weekend': 458,\n",
       " 'thank': 459,\n",
       " 'texts': 460,\n",
       " '8': 461,\n",
       " 'put': 462,\n",
       " 'plan': 463,\n",
       " 'little': 464,\n",
       " 'music': 465,\n",
       " 'lei': 466,\n",
       " 'dis': 467,\n",
       " 'club': 468,\n",
       " 'gift': 469,\n",
       " '10': 470,\n",
       " 'yesterday': 471,\n",
       " \"how's\": 472,\n",
       " 'juz': 473,\n",
       " 'means': 474,\n",
       " 'haf': 475,\n",
       " 'update': 476,\n",
       " 'national': 477,\n",
       " 'plz': 478,\n",
       " 'wake': 479,\n",
       " 'feeling': 480,\n",
       " 'quite': 481,\n",
       " 'once': 482,\n",
       " 'tried': 483,\n",
       " 'everything': 484,\n",
       " 'dude': 485,\n",
       " 'nite': 486,\n",
       " 'bad': 487,\n",
       " 'times': 488,\n",
       " 'sexy': 489,\n",
       " 'away': 490,\n",
       " 'tones': 491,\n",
       " 'wif': 492,\n",
       " 'didnt': 493,\n",
       " 'g': 494,\n",
       " 'plus': 495,\n",
       " 'hurt': 496,\n",
       " 'evening': 497,\n",
       " 'till': 498,\n",
       " 'leaving': 499,\n",
       " 'tmr': 500,\n",
       " 'reach': 501,\n",
       " 'decimal': 502,\n",
       " 'most': 503,\n",
       " 'double': 504,\n",
       " 'aight': 505,\n",
       " 'start': 506,\n",
       " 'since': 507,\n",
       " 're': 508,\n",
       " 'probably': 509,\n",
       " 'else': 510,\n",
       " 'bored': 511,\n",
       " 'wen': 512,\n",
       " 'price': 513,\n",
       " 'guy': 514,\n",
       " 'watch': 515,\n",
       " \"we're\": 516,\n",
       " 'wid': 517,\n",
       " 'sad': 518,\n",
       " 'å£100': 519,\n",
       " 'pain': 520,\n",
       " 'these': 521,\n",
       " \"''\": 522,\n",
       " 'important': 523,\n",
       " 'must': 524,\n",
       " 'collect': 525,\n",
       " \"haven't\": 526,\n",
       " 'mob': 527,\n",
       " 'wants': 528,\n",
       " 'address': 529,\n",
       " 'details': 530,\n",
       " 'years': 531,\n",
       " 'entry': 532,\n",
       " 'delivery': 533,\n",
       " 'charge': 534,\n",
       " 'hav': 535,\n",
       " 'pic': 536,\n",
       " 'bus': 537,\n",
       " 'show': 538,\n",
       " 'without': 539,\n",
       " 'bring': 540,\n",
       " 'weekly': 541,\n",
       " 'making': 542,\n",
       " 'row': 543,\n",
       " 'unsubscribe': 544,\n",
       " 'made': 545,\n",
       " 'lose': 546,\n",
       " 'angry': 547,\n",
       " 'change': 548,\n",
       " 'forget': 549,\n",
       " 'town': 550,\n",
       " \"we'll\": 551,\n",
       " 'services': 552,\n",
       " 'book': 553,\n",
       " 'minute': 554,\n",
       " 'calls': 555,\n",
       " 'drink': 556,\n",
       " 'hot': 557,\n",
       " 'run': 558,\n",
       " \"what's\": 559,\n",
       " 'private': 560,\n",
       " 'choose': 561,\n",
       " 'wanted': 562,\n",
       " 'pics': 563,\n",
       " 'bonus': 564,\n",
       " 'worry': 565,\n",
       " '500': 566,\n",
       " 'w': 567,\n",
       " 'voucher': 568,\n",
       " 'gr8': 569,\n",
       " 'smiling': 570,\n",
       " 'makes': 571,\n",
       " 'boy': 572,\n",
       " 'set': 573,\n",
       " 'saw': 574,\n",
       " 'top': 575,\n",
       " \"won't\": 576,\n",
       " 'ring': 577,\n",
       " 'drive': 578,\n",
       " 'yours': 579,\n",
       " 'yourself': 580,\n",
       " 'missing': 581,\n",
       " 'colour': 582,\n",
       " 'abt': 583,\n",
       " 'each': 584,\n",
       " 'words': 585,\n",
       " 'oso': 586,\n",
       " 'coz': 587,\n",
       " 'missed': 588,\n",
       " 'points': 589,\n",
       " 'needs': 590,\n",
       " 'finished': 591,\n",
       " 'prob': 592,\n",
       " 'old': 593,\n",
       " 'date': 594,\n",
       " 'tho': 595,\n",
       " 'net': 596,\n",
       " 'search': 597,\n",
       " 'food': 598,\n",
       " 'comes': 599,\n",
       " 'de': 600,\n",
       " 'congrats': 601,\n",
       " 'trip': 602,\n",
       " 'pounds': 603,\n",
       " 'order': 604,\n",
       " 'story': 605,\n",
       " '8007': 606,\n",
       " 'game': 607,\n",
       " 'stay': 608,\n",
       " 'http': 609,\n",
       " '86688': 610,\n",
       " 'alone': 611,\n",
       " 'hair': 612,\n",
       " 'vouchers': 613,\n",
       " 'eve': 614,\n",
       " 'lucky': 615,\n",
       " 'pm': 616,\n",
       " 'goin': 617,\n",
       " 'join': 618,\n",
       " 'hard': 619,\n",
       " 'huh': 620,\n",
       " '08000839402': 621,\n",
       " 'hit': 622,\n",
       " 'close': 623,\n",
       " 'afternoon': 624,\n",
       " 'await': 625,\n",
       " 'together': 626,\n",
       " '11': 627,\n",
       " 'expires': 628,\n",
       " 'open': 629,\n",
       " 'took': 630,\n",
       " '750': 631,\n",
       " '08000930705': 632,\n",
       " 'question': 633,\n",
       " 'full': 634,\n",
       " 'telling': 635,\n",
       " 'calling': 636,\n",
       " 'sounds': 637,\n",
       " 'fucking': 638,\n",
       " 'test': 639,\n",
       " 'aft': 640,\n",
       " 'fri': 641,\n",
       " 'beautiful': 642,\n",
       " 'family': 643,\n",
       " 'available': 644,\n",
       " 'crazy': 645,\n",
       " 'far': 646,\n",
       " 'hungry': 647,\n",
       " 'neva': 648,\n",
       " 'å£2000': 649,\n",
       " 'rite': 650,\n",
       " 'numbers': 651,\n",
       " 'id': 652,\n",
       " 'freemsg': 653,\n",
       " 'winner': 654,\n",
       " 'either': 655,\n",
       " 'hows': 656,\n",
       " 'sae': 657,\n",
       " 'answer': 658,\n",
       " 'å£5000': 659,\n",
       " 'post': 660,\n",
       " 'brother': 661,\n",
       " 'email': 662,\n",
       " 'treat': 663,\n",
       " 'finally': 664,\n",
       " 'outside': 665,\n",
       " 'mean': 666,\n",
       " 'tot': 667,\n",
       " 'takes': 668,\n",
       " 'mobileupd8': 669,\n",
       " 'å£2': 670,\n",
       " 'ten': 671,\n",
       " 'ltd': 672,\n",
       " 'taking': 673,\n",
       " 'msgs': 674,\n",
       " 'second': 675,\n",
       " 'tel': 676,\n",
       " 'statement': 677,\n",
       " 'identifier': 678,\n",
       " 'visit': 679,\n",
       " 'cum': 680,\n",
       " 'dating': 681,\n",
       " 'lesson': 682,\n",
       " 'camcorder': 683,\n",
       " 'mum': 684,\n",
       " 'loving': 685,\n",
       " 'poly': 686,\n",
       " 'operator': 687,\n",
       " 'info': 688,\n",
       " '100': 689,\n",
       " 'parents': 690,\n",
       " 'card': 691,\n",
       " 'todays': 692,\n",
       " 'sister': 693,\n",
       " 'quiz': 694,\n",
       " 'suite342': 695,\n",
       " '2lands': 696,\n",
       " 'final': 697,\n",
       " 'noe': 698,\n",
       " 'mr': 699,\n",
       " 'credit': 700,\n",
       " 'news': 701,\n",
       " 'walk': 702,\n",
       " 'knw': 703,\n",
       " 'read': 704,\n",
       " 'area': 705,\n",
       " 'content': 706,\n",
       " 'shop': 707,\n",
       " 'stupid': 708,\n",
       " 'okie': 709,\n",
       " 'yr': 710,\n",
       " 'direct': 711,\n",
       " 'å£350': 712,\n",
       " 'movie': 713,\n",
       " 'found': 714,\n",
       " 'congratulations': 715,\n",
       " 'fast': 716,\n",
       " \"you'll\": 717,\n",
       " 'earlier': 718,\n",
       " 'tomo': 719,\n",
       " 'nope': 720,\n",
       " 'pub': 721,\n",
       " 'whatever': 722,\n",
       " 'happened': 723,\n",
       " 'f': 724,\n",
       " 'course': 725,\n",
       " 'fancy': 726,\n",
       " 'o': 727,\n",
       " 'nt': 728,\n",
       " 'å£3': 729,\n",
       " 'head': 730,\n",
       " 'bslvyl': 731,\n",
       " 'break': 732,\n",
       " 'carlos': 733,\n",
       " 'lost': 734,\n",
       " 'online': 735,\n",
       " 'download': 736,\n",
       " 'seen': 737,\n",
       " 'heard': 738,\n",
       " 'caller': 739,\n",
       " '03': 740,\n",
       " 'dreams': 741,\n",
       " 'valid': 742,\n",
       " 'b4': 743,\n",
       " 'driving': 744,\n",
       " 'frm': 745,\n",
       " 'sun': 746,\n",
       " 'xx': 747,\n",
       " 'simple': 748,\n",
       " 'awesome': 749,\n",
       " 'felt': 750,\n",
       " 'lots': 751,\n",
       " 'support': 752,\n",
       " 'worth': 753,\n",
       " 'å£500': 754,\n",
       " 'log': 755,\n",
       " 'friendship': 756,\n",
       " 'whats': 757,\n",
       " 'invited': 758,\n",
       " 'thinking': 759,\n",
       " 'everyone': 760,\n",
       " 'lets': 761,\n",
       " 'rply': 762,\n",
       " 'mayb': 763,\n",
       " 'hmm': 764,\n",
       " 'luck': 765,\n",
       " 'motorola': 766,\n",
       " 'jay': 767,\n",
       " 'na': 768,\n",
       " 'oredi': 769,\n",
       " '30': 770,\n",
       " 'monday': 771,\n",
       " 'asap': 772,\n",
       " 'shower': 773,\n",
       " 'mine': 774,\n",
       " 'wit': 775,\n",
       " '2003': 776,\n",
       " '800': 777,\n",
       " 'light': 778,\n",
       " 'anytime': 779,\n",
       " 'saying': 780,\n",
       " 'through': 781,\n",
       " 'drop': 782,\n",
       " 'don': 783,\n",
       " 'project': 784,\n",
       " 'weeks': 785,\n",
       " 'loads': 786,\n",
       " \"she's\": 787,\n",
       " 'wrong': 788,\n",
       " 'both': 789,\n",
       " 'gd': 790,\n",
       " 'offers': 791,\n",
       " 'sony': 792,\n",
       " 'games': 793,\n",
       " \"c's\": 794,\n",
       " 'believe': 795,\n",
       " 'side': 796,\n",
       " 'happen': 797,\n",
       " 'party': 798,\n",
       " 'confirm': 799,\n",
       " 'enter': 800,\n",
       " 'bout': 801,\n",
       " 'bank': 802,\n",
       " 'chikku': 803,\n",
       " 'saturday': 804,\n",
       " 'sch': 805,\n",
       " 'cause': 806,\n",
       " 'ha': 807,\n",
       " 'decided': 808,\n",
       " 'fone': 809,\n",
       " 'savamob': 810,\n",
       " 'ugh': 811,\n",
       " 'player': 812,\n",
       " '87066': 813,\n",
       " 'ard': 814,\n",
       " 'blue': 815,\n",
       " 'ans': 816,\n",
       " 'auction': 817,\n",
       " \"wasn't\": 818,\n",
       " 'touch': 819,\n",
       " 'friday': 820,\n",
       " 'song': 821,\n",
       " 'frnds': 822,\n",
       " 'dogging': 823,\n",
       " 'nyt': 824,\n",
       " '0800': 825,\n",
       " 'mobiles': 826,\n",
       " 'tc': 827,\n",
       " 'mm': 828,\n",
       " 'gotta': 829,\n",
       " 'via': 830,\n",
       " 'unlimited': 831,\n",
       " '20p': 832,\n",
       " 'ntt': 833,\n",
       " 'snow': 834,\n",
       " 'supposed': 835,\n",
       " 'understand': 836,\n",
       " 'boytoy': 837,\n",
       " 'em': 838,\n",
       " 'sleeping': 839,\n",
       " 'least': 840,\n",
       " 'meant': 841,\n",
       " 'un': 842,\n",
       " 'redeemed': 843,\n",
       " '04': 844,\n",
       " 'college': 845,\n",
       " 'rates': 846,\n",
       " 'hee': 847,\n",
       " 'ac': 848,\n",
       " 'frnd': 849,\n",
       " 'tickets': 850,\n",
       " 'started': 851,\n",
       " 'type': 852,\n",
       " 'sea': 853,\n",
       " 'accept': 854,\n",
       " 'different': 855,\n",
       " 'reward': 856,\n",
       " 'march': 857,\n",
       " 'txts': 858,\n",
       " 'p': 859,\n",
       " 'company': 860,\n",
       " 'th': 861,\n",
       " 'sort': 862,\n",
       " 'girls': 863,\n",
       " 'smth': 864,\n",
       " \"b'day\": 865,\n",
       " 'ending': 866,\n",
       " 'welcome': 867,\n",
       " 'busy': 868,\n",
       " 'ass': 869,\n",
       " 'wap': 870,\n",
       " 'currently': 871,\n",
       " 'charged': 872,\n",
       " 'mate': 873,\n",
       " 'talking': 874,\n",
       " 'loved': 875,\n",
       " 'difficult': 876,\n",
       " 'thinks': 877,\n",
       " 'pass': 878,\n",
       " 'almost': 879,\n",
       " 'happiness': 880,\n",
       " 'pobox': 881,\n",
       " 'fr': 882,\n",
       " 'catch': 883,\n",
       " 'specially': 884,\n",
       " \"you've\": 885,\n",
       " 'mu': 886,\n",
       " 'lovely': 887,\n",
       " 'gas': 888,\n",
       " 'staying': 889,\n",
       " 'comuk': 890,\n",
       " 'al': 891,\n",
       " 'wkly': 892,\n",
       " 'within': 893,\n",
       " 'noon': 894,\n",
       " 'hospital': 895,\n",
       " 'fact': 896,\n",
       " 'slowly': 897,\n",
       " 'voice': 898,\n",
       " 'oops': 899,\n",
       " 'eh': 900,\n",
       " 'call2optout': 901,\n",
       " 'wil': 902,\n",
       " 'smoke': 903,\n",
       " 'usual': 904,\n",
       " 'drugs': 905,\n",
       " 'clean': 906,\n",
       " 'wonderful': 907,\n",
       " 'woke': 908,\n",
       " 'single': 909,\n",
       " 'pray': 910,\n",
       " 'case': 911,\n",
       " 'lover': 912,\n",
       " 'spend': 913,\n",
       " 'mrng': 914,\n",
       " 'sending': 915,\n",
       " 'tired': 916,\n",
       " 'orchard': 917,\n",
       " 'warm': 918,\n",
       " 'computer': 919,\n",
       " 'st': 920,\n",
       " 'meh': 921,\n",
       " 'laugh': 922,\n",
       " 'thru': 923,\n",
       " 'iam': 924,\n",
       " 'bcoz': 925,\n",
       " 'reading': 926,\n",
       " 'semester': 927,\n",
       " 'store': 928,\n",
       " 'age16': 929,\n",
       " 'abiola': 930,\n",
       " 'hours': 931,\n",
       " 'reason': 932,\n",
       " 'mates': 933,\n",
       " 'immediately': 934,\n",
       " 'correct': 935,\n",
       " '\\x89û': 936,\n",
       " 'land': 937,\n",
       " 'kids': 938,\n",
       " 'colleagues': 939,\n",
       " 'myself': 940,\n",
       " 'match': 941,\n",
       " 'wana': 942,\n",
       " 'met': 943,\n",
       " 'balance': 944,\n",
       " 'hg': 945,\n",
       " 'w1j6hl': 946,\n",
       " 'gettin': 947,\n",
       " 'yar': 948,\n",
       " 'replying': 949,\n",
       " 'gone': 950,\n",
       " 'weight': 951,\n",
       " 'knows': 952,\n",
       " 'doctor': 953,\n",
       " '4u': 954,\n",
       " 'ipod': 955,\n",
       " 'months': 956,\n",
       " 'hand': 957,\n",
       " 'weed': 958,\n",
       " 'information': 959,\n",
       " 'representative': 960,\n",
       " 'rest': 961,\n",
       " 'goodmorning': 962,\n",
       " 'lovable': 963,\n",
       " 'poor': 964,\n",
       " 'goto': 965,\n",
       " 'starts': 966,\n",
       " 'father': 967,\n",
       " 'park': 968,\n",
       " 'extra': 969,\n",
       " 'entered': 970,\n",
       " 'boss': 971,\n",
       " 'credits': 972,\n",
       " 'picking': 973,\n",
       " 'ldn': 974,\n",
       " 'ni8': 975,\n",
       " 'link': 976,\n",
       " 'used': 977,\n",
       " 'sunshine': 978,\n",
       " 'figure': 979,\n",
       " 'safe': 980,\n",
       " 'matches': 981,\n",
       " 'dnt': 982,\n",
       " 'sell': 983,\n",
       " 'none': 984,\n",
       " 'eyes': 985,\n",
       " 'their': 986,\n",
       " 'valued': 987,\n",
       " 'study': 988,\n",
       " 'thinkin': 989,\n",
       " 'self': 990,\n",
       " 'ago': 991,\n",
       " 'bluetooth': 992,\n",
       " 'access': 993,\n",
       " '11mths': 994,\n",
       " '1327': 995,\n",
       " 'croydon': 996,\n",
       " 'cr9': 997,\n",
       " '5wb': 998,\n",
       " '0870': 999,\n",
       " 'wine': 1000,\n",
       " ...}"
      ]
     },
     "execution_count": 33,
     "metadata": {},
     "output_type": "execute_result"
    }
   ],
   "source": [
    "word2idx"
   ]
  },
  {
   "cell_type": "markdown",
   "id": "bb0edc46",
   "metadata": {
    "pycharm": {
     "name": "#%% md\n"
    }
   },
   "source": [
    "### 2.3.2 pad sequences so that we get a N x T matrix"
   ]
  },
  {
   "cell_type": "code",
   "execution_count": 34,
   "id": "7208358c",
   "metadata": {
    "pycharm": {
     "name": "#%%\n"
    }
   },
   "outputs": [
    {
     "name": "stdout",
     "output_type": "stream",
     "text": [
      "Shape of data train tensor: (3733, 162)\n"
     ]
    }
   ],
   "source": [
    "data_train = pad_sequences(sequences_train)\n",
    "print('Shape of data train tensor:',data_train.shape)"
   ]
  },
  {
   "cell_type": "markdown",
   "id": "580eb678",
   "metadata": {
    "pycharm": {
     "name": "#%% md\n"
    }
   },
   "source": [
    "### 2.3.3 get sequence length\n"
   ]
  },
  {
   "cell_type": "code",
   "execution_count": 38,
   "id": "2252aa7a",
   "metadata": {
    "pycharm": {
     "name": "#%%\n"
    }
   },
   "outputs": [
    {
     "name": "stdout",
     "output_type": "stream",
     "text": [
      "Shape of data test tensor: (1839, 162)\n"
     ]
    }
   ],
   "source": [
    "T = data_train.shape[1]\n",
    "data_test = pad_sequences(sequences_test,maxlen=T)\n",
    "print('Shape of data test tensor:',data_test.shape)"
   ]
  },
  {
   "cell_type": "markdown",
   "id": "f92352b9",
   "metadata": {
    "pycharm": {
     "name": "#%% md\n"
    }
   },
   "source": [
    "# 2.4 Model Building"
   ]
  },
  {
   "cell_type": "code",
   "execution_count": 39,
   "id": "3dee9284",
   "metadata": {
    "pycharm": {
     "name": "#%%\n"
    }
   },
   "outputs": [],
   "source": [
    "# We get to choose embeding dimensionality\n",
    "D = 20\n",
    "\n",
    "# Hidden stats dimensionality\n",
    "M = 15\n",
    "\n",
    "# Note: we actually want to the size of the embedding to (V+1) x D.\n",
    "# because the first index starts from 1 and not 0.\n",
    "# Thus, if the final index of the embedding matrix is V,\n",
    "# then it actually must have size V+1.\n",
    "\n",
    "i = Input(shape=(T,))\n",
    "x = Embedding(V+1,D)(i)\n",
    "x = LSTM(M,return_sequences=True)(x)\n",
    "x = GlobalMaxPooling1D()(x)\n",
    "x = Dense(1, activation='sigmoid')(x)\n",
    "\n",
    "model = Model(i,x)"
   ]
  },
  {
   "cell_type": "code",
   "execution_count": 40,
   "id": "ecec3c7b",
   "metadata": {
    "pycharm": {
     "name": "#%%\n"
    }
   },
   "outputs": [
    {
     "name": "stdout",
     "output_type": "stream",
     "text": [
      "Model: \"model\"\n",
      "_________________________________________________________________\n",
      "Layer (type)                 Output Shape              Param #   \n",
      "=================================================================\n",
      "input_1 (InputLayer)         [(None, 162)]             0         \n",
      "_________________________________________________________________\n",
      "embedding (Embedding)        (None, 162, 20)           146980    \n",
      "_________________________________________________________________\n",
      "lstm (LSTM)                  (None, 162, 15)           2160      \n",
      "_________________________________________________________________\n",
      "global_max_pooling1d (Global (None, 15)                0         \n",
      "_________________________________________________________________\n",
      "dense (Dense)                (None, 1)                 16        \n",
      "=================================================================\n",
      "Total params: 149,156\n",
      "Trainable params: 149,156\n",
      "Non-trainable params: 0\n",
      "_________________________________________________________________\n"
     ]
    }
   ],
   "source": [
    "model.summary()"
   ]
  },
  {
   "cell_type": "markdown",
   "id": "1d7d320f",
   "metadata": {
    "pycharm": {
     "name": "#%% md\n"
    }
   },
   "source": [
    "### Compile and fit\n"
   ]
  },
  {
   "cell_type": "code",
   "execution_count": 41,
   "id": "51b2ec4b",
   "metadata": {
    "pycharm": {
     "name": "#%%\n"
    }
   },
   "outputs": [
    {
     "name": "stdout",
     "output_type": "stream",
     "text": [
      "Training model....\n",
      "Epoch 1/10\n",
      "117/117 [==============================] - 8s 37ms/step - loss: 0.4702 - accuracy: 0.8580 - val_loss: 0.3545 - val_accuracy: 0.8820\n",
      "Epoch 2/10\n",
      "117/117 [==============================] - 4s 31ms/step - loss: 0.3274 - accuracy: 0.8580 - val_loss: 0.2190 - val_accuracy: 0.8820\n",
      "Epoch 3/10\n",
      "117/117 [==============================] - 3s 30ms/step - loss: 0.1564 - accuracy: 0.9590 - val_loss: 0.1280 - val_accuracy: 0.9788\n",
      "Epoch 4/10\n",
      "117/117 [==============================] - 3s 28ms/step - loss: 0.0894 - accuracy: 0.9906 - val_loss: 0.0978 - val_accuracy: 0.9815\n",
      "Epoch 5/10\n",
      "117/117 [==============================] - 3s 28ms/step - loss: 0.0571 - accuracy: 0.9946 - val_loss: 0.0864 - val_accuracy: 0.9804\n",
      "Epoch 6/10\n",
      "117/117 [==============================] - 3s 28ms/step - loss: 0.0380 - accuracy: 0.9965 - val_loss: 0.0818 - val_accuracy: 0.9793\n",
      "Epoch 7/10\n",
      "117/117 [==============================] - 3s 28ms/step - loss: 0.0269 - accuracy: 0.9984 - val_loss: 0.0832 - val_accuracy: 0.9788\n",
      "Epoch 8/10\n",
      "117/117 [==============================] - 3s 28ms/step - loss: 0.0208 - accuracy: 0.9984 - val_loss: 0.0899 - val_accuracy: 0.9782\n",
      "Epoch 9/10\n",
      "117/117 [==============================] - 4s 33ms/step - loss: 0.0159 - accuracy: 0.9995 - val_loss: 0.0834 - val_accuracy: 0.9810\n",
      "Epoch 10/10\n",
      "117/117 [==============================] - 4s 31ms/step - loss: 0.0121 - accuracy: 0.9997 - val_loss: 0.0861 - val_accuracy: 0.9799\n"
     ]
    }
   ],
   "source": [
    "\n",
    "# Compile and fit\n",
    "model.compile(\n",
    "    loss='binary_crossentropy',\n",
    "    optimizer='adam',\n",
    "    metrics=['accuracy']\n",
    ")\n",
    "print('Training model....')\n",
    "r=model.fit(\n",
    "    data_train,\n",
    "    Ytrain,\n",
    "    epochs=10,\n",
    "    validation_data=(data_test,Ytest)\n",
    ")"
   ]
  },
  {
   "cell_type": "code",
   "execution_count": 42,
   "id": "a0120c74",
   "metadata": {
    "pycharm": {
     "name": "#%%\n"
    }
   },
   "outputs": [
    {
     "data": {
      "text/plain": [
       "<matplotlib.legend.Legend at 0x1dc4f81b820>"
      ]
     },
     "execution_count": 42,
     "metadata": {},
     "output_type": "execute_result"
    },
    {
     "data": {
      "image/png": "[encoded data removed]",
      "text/plain": [
       "<Figure size 1080x360 with 2 Axes>"
      ]
     },
     "metadata": {
      "needs_background": "light"
     },
     "output_type": "display_data"
    }
   ],
   "source": [
    "hist = r.history\n",
    "\n",
    "plt.figure(figsize=(15,5))\n",
    "plt.subplot(121)\n",
    "plt.title('Loss')\n",
    "plt.plot(hist['loss'])\n",
    "plt.plot(hist['val_loss'])\n",
    "plt.legend(['Train Loss','Test Loss'])\n",
    "plt.subplot(122)\n",
    "plt.title('Accuracy')\n",
    "plt.plot(hist['accuracy'])\n",
    "plt.plot(hist['val_accuracy'])\n",
    "plt.legend(['Train Accuracy','Test Accuracy'])\n"
   ]
  },
  {
   "cell_type": "code",
   "execution_count": 43,
   "id": "a4428b8a",
   "metadata": {
    "pycharm": {
     "name": "#%%\n"
    }
   },
   "outputs": [
    {
     "name": "stdout",
     "output_type": "stream",
     "text": [
      "58/58 [==============================] - ETA: 0s - loss: 0.0890 - accuracy: 0.97 - 1s 9ms/step - loss: 0.0861 - accuracy: 0.9799\n"
     ]
    },
    {
     "data": {
      "text/plain": [
       "[0.08608672767877579, 0.9798803925514221]"
      ]
     },
     "execution_count": 43,
     "metadata": {},
     "output_type": "execute_result"
    }
   ],
   "source": [
    "model.evaluate(data_test,Ytest)"
   ]
  },
  {
   "cell_type": "code",
   "execution_count": null,
   "id": "cb8c17fd",
   "metadata": {
    "pycharm": {
     "name": "#%%\n"
    }
   },
   "outputs": [],
   "source": []
  }
 ],
 "metadata": {
  "kernelspec": {
   "display_name": "Python 3 (ipykernel)",
   "language": "python",
   "name": "python3"
  },
  "language_info": {
   "codemirror_mode": {
    "name": "ipython",
    "version": 3
   },
   "file_extension": ".py",
   "mimetype": "text/x-python",
   "name": "python",
   "nbconvert_exporter": "python",
   "pygments_lexer": "ipython3",
   "version": "3.9.15"
  }
 },
 "nbformat": 4,
 "nbformat_minor": 5
}
