{
 "cells": [
  {
   "cell_type": "markdown",
   "id": "6fb1f942",
   "metadata": {
    "pycharm": {
     "name": "#%% md\n"
    }
   },
   "source": [
    "# NLP\n",
    "## 1 -  What Tokenizer do?\n",
    "## 2 - A simple example"
   ]
  },
  {
   "cell_type": "code",
   "execution_count": 9,
   "id": "a5ce6c7d",
   "metadata": {
    "pycharm": {
     "name": "#%%\n"
    }
   },
   "outputs": [],
   "source": [
    "from tensorflow.keras.preprocessing.text import Tokenizer\n",
    "from tensorflow.keras.preprocessing.sequence import pad_sequences"
   ]
  },
  {
   "cell_type": "code",
   "execution_count": 10,
   "id": "8b80a76c",
   "metadata": {
    "pycharm": {
     "name": "#%%\n"
    }
   },
   "outputs": [],
   "source": [
    "# Just a simple test\n",
    "sentences = [\n",
    "  \"I like eggs and ham.\",\n",
    "  \"I love chocolate and bunnies.\",\n",
    "  \"I hate onions.\"\n",
    "]\n"
   ]
  },
  {
   "cell_type": "markdown",
   "id": "35330888",
   "metadata": {
    "pycharm": {
     "name": "#%% md\n"
    }
   },
   "source": [
    "# 1 - Use Tokenizer"
   ]
  },
  {
   "cell_type": "code",
   "execution_count": 30,
   "id": "be3c13c9",
   "metadata": {
    "pycharm": {
     "name": "#%%\n"
    }
   },
   "outputs": [],
   "source": [
    "MAX_VOCAB_SIZE = 20000\n",
    "tokenizer = Tokenizer(num_words = MAX_VOCAB_SIZE, oov_token='Unknown')\n",
    "tokenizer.fit_on_texts(sentences)\n",
    "sequence = tokenizer.texts_to_sequences(sentences)"
   ]
  },
  {
   "cell_type": "code",
   "execution_count": 37,
   "id": "5ec092a9",
   "metadata": {},
   "outputs": [
    {
     "data": {
      "text/plain": [
       "[[2, 4, 12]]"
      ]
     },
     "execution_count": 37,
     "metadata": {},
     "output_type": "execute_result"
    }
   ],
   "source": [
    "tokenizer.texts_to_sequences([\"i like apple\"])"
   ]
  },
  {
   "cell_type": "markdown",
   "id": "c0704815",
   "metadata": {
    "pycharm": {
     "name": "#%% md\n"
    }
   },
   "source": [
    "### How to get the word to index mapping?\n",
    "show the indexes\n"
   ]
  },
  {
   "cell_type": "code",
   "execution_count": 36,
   "id": "d184fdc1",
   "metadata": {
    "pycharm": {
     "name": "#%%\n"
    }
   },
   "outputs": [
    {
     "data": {
      "text/plain": [
       "{'Unknown': 1,\n",
       " 'i': 2,\n",
       " 'and': 3,\n",
       " 'like': 4,\n",
       " 'eggs': 5,\n",
       " 'ham': 6,\n",
       " 'love': 7,\n",
       " 'chocolate': 8,\n",
       " 'bunnies': 9,\n",
       " 'hate': 10,\n",
       " 'onions': 11,\n",
       " 'apple': 12}"
      ]
     },
     "execution_count": 36,
     "metadata": {},
     "output_type": "execute_result"
    }
   ],
   "source": [
    "tokenizer.word_index"
   ]
  },
  {
   "cell_type": "code",
   "execution_count": null,
   "id": "4399ccba",
   "metadata": {
    "pycharm": {
     "name": "#%%\n"
    }
   },
   "outputs": [],
   "source": []
  },
  {
   "cell_type": "markdown",
   "id": "5af6fd7f",
   "metadata": {
    "pycharm": {
     "name": "#%% md\n"
    }
   },
   "source": [
    "### Apply padding\n",
    "apply padding with default settings"
   ]
  },
  {
   "cell_type": "code",
   "execution_count": 38,
   "id": "6cefd4ba",
   "metadata": {
    "pycharm": {
     "name": "#%%\n"
    }
   },
   "outputs": [
    {
     "name": "stdout",
     "output_type": "stream",
     "text": [
      "[[ 2  4  5  3  6]\n",
      " [ 2  7  8  3  9]\n",
      " [ 0  0  2 10 11]]\n",
      "(3, 5)\n"
     ]
    }
   ],
   "source": [
    "data = pad_sequences(sequence)\n",
    "print(data)\n",
    "print(data.shape)"
   ]
  },
  {
   "cell_type": "markdown",
   "id": "8d874d87",
   "metadata": {
    "pycharm": {
     "name": "#%% md\n"
    }
   },
   "source": [
    "### customize padding\n",
    "change padding mode to post\n",
    "\n",
    "check the effect of changing maxlen\n"
   ]
  },
  {
   "cell_type": "code",
   "execution_count": 44,
   "id": "afcb7630",
   "metadata": {
    "pycharm": {
     "name": "#%%\n"
    }
   },
   "outputs": [
    {
     "name": "stdout",
     "output_type": "stream",
     "text": [
      "[[ 2  4  5  3  6]\n",
      " [ 2  7  8  3  9]\n",
      " [ 0  0  2 10 11]]\n"
     ]
    }
   ],
   "source": [
    "\n",
    "MAX_SEQUENCE_LENGTH = 5\n",
    "data = pad_sequences(sequence, maxlen=MAX_SEQUENCE_LENGTH, padding=\"pre\", truncating=\"post\")\n",
    "print(data)"
   ]
  },
  {
   "cell_type": "markdown",
   "id": "71031bdf",
   "metadata": {
    "pycharm": {
     "name": "#%% md\n"
    }
   },
   "source": [
    "# 2 - Simple Example"
   ]
  },
  {
   "cell_type": "code",
   "execution_count": 45,
   "id": "dd57539f",
   "metadata": {
    "pycharm": {
     "name": "#%%\n"
    }
   },
   "outputs": [],
   "source": [
    "import numpy as np\n",
    "import pandas as pd\n",
    "import matplotlib.pyplot as plt\n",
    "from sklearn.model_selection import train_test_split\n",
    "\n",
    "from tensorflow.keras.preprocessing.text import Tokenizer\n",
    "from tensorflow.keras.preprocessing.sequence import pad_sequences\n",
    "from tensorflow.keras.layers import Dense, Input, GlobalMaxPooling1D\n",
    "from tensorflow.keras.layers import LSTM, Embedding\n",
    "from tensorflow.keras.models import Model"
   ]
  },
  {
   "cell_type": "markdown",
   "id": "107cab2d",
   "metadata": {
    "pycharm": {
     "name": "#%% md\n"
    }
   },
   "source": [
    "## 2.1 Read data\n",
    "read with pandas using correct encoding"
   ]
  },
  {
   "cell_type": "code",
   "execution_count": 46,
   "id": "7d72d8d6",
   "metadata": {
    "pycharm": {
     "name": "#%%\n"
    }
   },
   "outputs": [
    {
     "data": {
      "text/html": [
       "<div>\n",
       "<style scoped>\n",
       "    .dataframe tbody tr th:only-of-type {\n",
       "        vertical-align: middle;\n",
       "    }\n",
       "\n",
       "    .dataframe tbody tr th {\n",
       "        vertical-align: top;\n",
       "    }\n",
       "\n",
       "    .dataframe thead th {\n",
       "        text-align: right;\n",
       "    }\n",
       "</style>\n",
       "<table border=\"1\" class=\"dataframe\">\n",
       "  <thead>\n",
       "    <tr style=\"text-align: right;\">\n",
       "      <th></th>\n",
       "      <th>v1</th>\n",
       "      <th>v2</th>\n",
       "      <th>Unnamed: 2</th>\n",
       "      <th>Unnamed: 3</th>\n",
       "      <th>Unnamed: 4</th>\n",
       "    </tr>\n",
       "  </thead>\n",
       "  <tbody>\n",
       "    <tr>\n",
       "      <th>0</th>\n",
       "      <td>ham</td>\n",
       "      <td>Go until jurong point, crazy.. Available only ...</td>\n",
       "      <td>NaN</td>\n",
       "      <td>NaN</td>\n",
       "      <td>NaN</td>\n",
       "    </tr>\n",
       "    <tr>\n",
       "      <th>1</th>\n",
       "      <td>ham</td>\n",
       "      <td>Ok lar... Joking wif u oni...</td>\n",
       "      <td>NaN</td>\n",
       "      <td>NaN</td>\n",
       "      <td>NaN</td>\n",
       "    </tr>\n",
       "    <tr>\n",
       "      <th>2</th>\n",
       "      <td>spam</td>\n",
       "      <td>Free entry in 2 a wkly comp to win FA Cup fina...</td>\n",
       "      <td>NaN</td>\n",
       "      <td>NaN</td>\n",
       "      <td>NaN</td>\n",
       "    </tr>\n",
       "    <tr>\n",
       "      <th>3</th>\n",
       "      <td>ham</td>\n",
       "      <td>U dun say so early hor... U c already then say...</td>\n",
       "      <td>NaN</td>\n",
       "      <td>NaN</td>\n",
       "      <td>NaN</td>\n",
       "    </tr>\n",
       "    <tr>\n",
       "      <th>4</th>\n",
       "      <td>ham</td>\n",
       "      <td>Nah I don't think he goes to usf, he lives aro...</td>\n",
       "      <td>NaN</td>\n",
       "      <td>NaN</td>\n",
       "      <td>NaN</td>\n",
       "    </tr>\n",
       "  </tbody>\n",
       "</table>\n",
       "</div>"
      ],
      "text/plain": [
       "     v1                                                 v2 Unnamed: 2  \\\n",
       "0   ham  Go until jurong point, crazy.. Available only ...        NaN   \n",
       "1   ham                      Ok lar... Joking wif u oni...        NaN   \n",
       "2  spam  Free entry in 2 a wkly comp to win FA Cup fina...        NaN   \n",
       "3   ham  U dun say so early hor... U c already then say...        NaN   \n",
       "4   ham  Nah I don't think he goes to usf, he lives aro...        NaN   \n",
       "\n",
       "  Unnamed: 3 Unnamed: 4  \n",
       "0        NaN        NaN  \n",
       "1        NaN        NaN  \n",
       "2        NaN        NaN  \n",
       "3        NaN        NaN  \n",
       "4        NaN        NaN  "
      ]
     },
     "execution_count": 46,
     "metadata": {},
     "output_type": "execute_result"
    }
   ],
   "source": [
    "df = pd.read_csv('spam.csv',encoding='ISO-8859-1')\n",
    "df.head()"
   ]
  },
  {
   "cell_type": "code",
   "execution_count": 48,
   "id": "9be791d2",
   "metadata": {},
   "outputs": [
    {
     "data": {
      "text/plain": [
       "'Go until jurong point, crazy.. Available only in bugis n great world la e buffet... Cine there got amore wat...'"
      ]
     },
     "execution_count": 48,
     "metadata": {},
     "output_type": "execute_result"
    }
   ],
   "source": []
  },
  {
   "cell_type": "markdown",
   "id": "f658ad72",
   "metadata": {
    "pycharm": {
     "name": "#%% md\n"
    }
   },
   "source": [
    "## 2.2 Preprocessing\n",
    "- drop unnecessary columns\n",
    "- create binary labels\n",
    "- split up the data"
   ]
  },
  {
   "cell_type": "code",
   "execution_count": 49,
   "id": "84271d34",
   "metadata": {
    "pycharm": {
     "name": "#%%\n"
    }
   },
   "outputs": [],
   "source": [
    "\n",
    "df = df.drop([\"Unnamed: 2\",\"Unnamed: 3\",\"Unnamed: 4\"], axis=1)\n",
    "\n",
    "df.columns = ['labels','data']\n",
    "\n",
    "df['b_labels'] = df['labels'].map({'ham': 0, 'spam': 1})\n",
    "Y = df['b_labels'].values\n",
    "\n",
    "df_train,df_test,Ytrain,Ytest = train_test_split(df['data'], Y, test_size=0.33)"
   ]
  },
  {
   "cell_type": "code",
   "execution_count": 51,
   "id": "c77e77a7",
   "metadata": {},
   "outputs": [
    {
     "data": {
      "text/plain": [
       "array([1, 0, 0, ..., 0, 0, 0], dtype=int64)"
      ]
     },
     "execution_count": 51,
     "metadata": {},
     "output_type": "execute_result"
    }
   ],
   "source": []
  },
  {
   "cell_type": "markdown",
   "id": "80eaa3dc",
   "metadata": {
    "pycharm": {
     "name": "#%% md\n"
    }
   },
   "source": [
    "## 2.3 Using Tokenizer "
   ]
  },
  {
   "cell_type": "code",
   "execution_count": 52,
   "id": "ca81ab33",
   "metadata": {
    "pycharm": {
     "name": "#%%\n"
    }
   },
   "outputs": [],
   "source": [
    "MAX_VOCAB_SIZE=20000\n",
    "tokenizer = Tokenizer(num_words=MAX_VOCAB_SIZE)\n",
    "tokenizer.fit_on_texts(df_train)\n",
    "sequences_train = tokenizer.texts_to_sequences(df_train)\n",
    "sequences_test = tokenizer.texts_to_sequences(df_test)"
   ]
  },
  {
   "cell_type": "code",
   "execution_count": 66,
   "id": "2a7d5d74",
   "metadata": {},
   "outputs": [
    {
     "name": "stdout",
     "output_type": "stream",
     "text": [
      "33.0\n",
      "189\n"
     ]
    },
    {
     "data": {
      "image/png": "[encoded data removed]",
      "text/plain": [
       "<Figure size 640x480 with 1 Axes>"
      ]
     },
     "metadata": {},
     "output_type": "display_data"
    }
   ],
   "source": [
    "len_all_seq = [len(seq) for seq in sequences_train]\n",
    "a = plt.hist(len_all_seq,1000)\n",
    "print(np.quantile(len_all_seq, 0.95))\n",
    "print(max(len_all_seq))"
   ]
  },
  {
   "cell_type": "markdown",
   "id": "8b8dcfc1",
   "metadata": {
    "pycharm": {
     "name": "#%% md\n"
    }
   },
   "source": [
    "### 2.3.1 get word -> integer mapping"
   ]
  },
  {
   "cell_type": "code",
   "execution_count": 67,
   "id": "2d8a4795",
   "metadata": {
    "pycharm": {
     "name": "#%%\n"
    }
   },
   "outputs": [
    {
     "name": "stdout",
     "output_type": "stream",
     "text": [
      "Found 7216 unique tokens.\n"
     ]
    }
   ],
   "source": [
    "word2idx = tokenizer.word_index\n",
    "V = len(word2idx)\n",
    "print('Found %s unique tokens.' % V)"
   ]
  },
  {
   "cell_type": "code",
   "execution_count": 68,
   "id": "275df322",
   "metadata": {
    "pycharm": {
     "name": "#%%\n"
    }
   },
   "outputs": [
    {
     "data": {
      "text/plain": [
       "{'i': 1,\n",
       " 'to': 2,\n",
       " 'you': 3,\n",
       " 'a': 4,\n",
       " 'the': 5,\n",
       " 'u': 6,\n",
       " 'and': 7,\n",
       " 'in': 8,\n",
       " 'is': 9,\n",
       " 'me': 10,\n",
       " 'my': 11,\n",
       " 'for': 12,\n",
       " 'it': 13,\n",
       " 'your': 14,\n",
       " 'of': 15,\n",
       " 'call': 16,\n",
       " 'have': 17,\n",
       " 'that': 18,\n",
       " 'on': 19,\n",
       " '2': 20,\n",
       " 'now': 21,\n",
       " 'are': 22,\n",
       " 'not': 23,\n",
       " 'so': 24,\n",
       " 'but': 25,\n",
       " 'do': 26,\n",
       " \"i'm\": 27,\n",
       " 'can': 28,\n",
       " 'if': 29,\n",
       " 'or': 30,\n",
       " 'at': 31,\n",
       " 'be': 32,\n",
       " 'will': 33,\n",
       " 'ur': 34,\n",
       " 'get': 35,\n",
       " 'with': 36,\n",
       " 'no': 37,\n",
       " 'just': 38,\n",
       " 'we': 39,\n",
       " 'this': 40,\n",
       " 'gt': 41,\n",
       " 'when': 42,\n",
       " 'up': 43,\n",
       " 'lt': 44,\n",
       " '4': 45,\n",
       " 'from': 46,\n",
       " 'ok': 47,\n",
       " 'know': 48,\n",
       " 'what': 49,\n",
       " 'out': 50,\n",
       " 'how': 51,\n",
       " 'go': 52,\n",
       " 'free': 53,\n",
       " 'come': 54,\n",
       " 'good': 55,\n",
       " 'all': 56,\n",
       " 'was': 57,\n",
       " 'got': 58,\n",
       " 'its': 59,\n",
       " 'like': 60,\n",
       " 'love': 61,\n",
       " 'am': 62,\n",
       " 'time': 63,\n",
       " 'day': 64,\n",
       " 'then': 65,\n",
       " 'there': 66,\n",
       " 'only': 67,\n",
       " 'he': 68,\n",
       " 'want': 69,\n",
       " 'send': 70,\n",
       " 'text': 71,\n",
       " 'r': 72,\n",
       " 'see': 73,\n",
       " 'sorry': 74,\n",
       " 'by': 75,\n",
       " 'home': 76,\n",
       " 'need': 77,\n",
       " \"i'll\": 78,\n",
       " 'txt': 79,\n",
       " 'as': 80,\n",
       " 'about': 81,\n",
       " 'one': 82,\n",
       " 'going': 83,\n",
       " 'dont': 84,\n",
       " 'lor': 85,\n",
       " 'n': 86,\n",
       " 'still': 87,\n",
       " 'da': 88,\n",
       " 'stop': 89,\n",
       " 'back': 90,\n",
       " 'k': 91,\n",
       " 'hi': 92,\n",
       " 'she': 93,\n",
       " 'her': 94,\n",
       " 'later': 95,\n",
       " 'think': 96,\n",
       " 'today': 97,\n",
       " 'take': 98,\n",
       " 'please': 99,\n",
       " \"don't\": 100,\n",
       " 'mobile': 101,\n",
       " 'new': 102,\n",
       " 'reply': 103,\n",
       " 'dear': 104,\n",
       " 'our': 105,\n",
       " 'here': 106,\n",
       " '1': 107,\n",
       " 'they': 108,\n",
       " 'did': 109,\n",
       " 'much': 110,\n",
       " 'tell': 111,\n",
       " 'pls': 112,\n",
       " 'well': 113,\n",
       " 'phone': 114,\n",
       " 'way': 115,\n",
       " 'some': 116,\n",
       " 'great': 117,\n",
       " 'too': 118,\n",
       " 'give': 119,\n",
       " 'has': 120,\n",
       " 'any': 121,\n",
       " 'hope': 122,\n",
       " 'been': 123,\n",
       " 'oh': 124,\n",
       " 'more': 125,\n",
       " 'where': 126,\n",
       " 'night': 127,\n",
       " 'hey': 128,\n",
       " 'who': 129,\n",
       " 'an': 130,\n",
       " 'd': 131,\n",
       " 'him': 132,\n",
       " 'ì': 133,\n",
       " 'yes': 134,\n",
       " 'msg': 135,\n",
       " 'claim': 136,\n",
       " 'week': 137,\n",
       " 'e': 138,\n",
       " 'said': 139,\n",
       " 'make': 140,\n",
       " 'number': 141,\n",
       " 'c': 142,\n",
       " 'happy': 143,\n",
       " 'should': 144,\n",
       " 'tomorrow': 145,\n",
       " 'work': 146,\n",
       " 'right': 147,\n",
       " 'wat': 148,\n",
       " \"it's\": 149,\n",
       " 'message': 150,\n",
       " 'ask': 151,\n",
       " 'already': 152,\n",
       " 'www': 153,\n",
       " 'them': 154,\n",
       " 'im': 155,\n",
       " 'babe': 156,\n",
       " 'after': 157,\n",
       " 'had': 158,\n",
       " 'life': 159,\n",
       " 'say': 160,\n",
       " 'prize': 161,\n",
       " 'really': 162,\n",
       " 'cash': 163,\n",
       " 'let': 164,\n",
       " 'yeah': 165,\n",
       " 'would': 166,\n",
       " 'doing': 167,\n",
       " 'last': 168,\n",
       " 'anything': 169,\n",
       " 'morning': 170,\n",
       " \"can't\": 171,\n",
       " 'thanks': 172,\n",
       " '3': 173,\n",
       " 'over': 174,\n",
       " 'miss': 175,\n",
       " 'win': 176,\n",
       " 'meet': 177,\n",
       " 'find': 178,\n",
       " 'b': 179,\n",
       " 'very': 180,\n",
       " 'every': 181,\n",
       " 'amp': 182,\n",
       " 'also': 183,\n",
       " 'pick': 184,\n",
       " 'keep': 185,\n",
       " 'why': 186,\n",
       " 'cant': 187,\n",
       " 'min': 188,\n",
       " 'won': 189,\n",
       " 'something': 190,\n",
       " 'went': 191,\n",
       " 'cos': 192,\n",
       " 'us': 193,\n",
       " 'contact': 194,\n",
       " 'wait': 195,\n",
       " 't': 196,\n",
       " 'even': 197,\n",
       " 'sure': 198,\n",
       " 'ya': 199,\n",
       " 'feel': 200,\n",
       " 'sleep': 201,\n",
       " 'urgent': 202,\n",
       " 'soon': 203,\n",
       " 'leave': 204,\n",
       " 'his': 205,\n",
       " '150p': 206,\n",
       " 'money': 207,\n",
       " '5': 208,\n",
       " 'again': 209,\n",
       " 'lol': 210,\n",
       " 'buy': 211,\n",
       " 'com': 212,\n",
       " 'gonna': 213,\n",
       " 'care': 214,\n",
       " 'sent': 215,\n",
       " 'many': 216,\n",
       " 'someone': 217,\n",
       " 'nokia': 218,\n",
       " 'service': 219,\n",
       " '50': 220,\n",
       " 'before': 221,\n",
       " 'told': 222,\n",
       " 'uk': 223,\n",
       " 'always': 224,\n",
       " 'next': 225,\n",
       " 'which': 226,\n",
       " 'tonight': 227,\n",
       " 'late': 228,\n",
       " 'first': 229,\n",
       " 'people': 230,\n",
       " 'things': 231,\n",
       " 'gud': 232,\n",
       " 'done': 233,\n",
       " 's': 234,\n",
       " 'off': 235,\n",
       " 'place': 236,\n",
       " 'chat': 237,\n",
       " '6': 238,\n",
       " 'nice': 239,\n",
       " \"i've\": 240,\n",
       " 'year': 241,\n",
       " 'wish': 242,\n",
       " 'x': 243,\n",
       " 'other': 244,\n",
       " 'help': 245,\n",
       " 'tone': 246,\n",
       " 'customer': 247,\n",
       " 'could': 248,\n",
       " 'v': 249,\n",
       " 'around': 250,\n",
       " 'wan': 251,\n",
       " 'were': 252,\n",
       " 'thing': 253,\n",
       " 'getting': 254,\n",
       " 'friends': 255,\n",
       " 'yet': 256,\n",
       " 'haha': 257,\n",
       " 'dun': 258,\n",
       " 'heart': 259,\n",
       " 'co': 260,\n",
       " 'per': 261,\n",
       " \"you're\": 262,\n",
       " 'special': 263,\n",
       " \"that's\": 264,\n",
       " 'thk': 265,\n",
       " 'down': 266,\n",
       " 'guaranteed': 267,\n",
       " 'may': 268,\n",
       " 'coming': 269,\n",
       " 'live': 270,\n",
       " 'better': 271,\n",
       " 'use': 272,\n",
       " 'same': 273,\n",
       " 'man': 274,\n",
       " 'smile': 275,\n",
       " 'class': 276,\n",
       " 'friend': 277,\n",
       " 'name': 278,\n",
       " 'sms': 279,\n",
       " 'ready': 280,\n",
       " 'thats': 281,\n",
       " '7': 282,\n",
       " 'house': 283,\n",
       " '16': 284,\n",
       " 'yup': 285,\n",
       " 'cs': 286,\n",
       " 'y': 287,\n",
       " 'lunch': 288,\n",
       " 'talk': 289,\n",
       " 'person': 290,\n",
       " 'lot': 291,\n",
       " 'stuff': 292,\n",
       " 'thought': 293,\n",
       " 'days': 294,\n",
       " 'waiting': 295,\n",
       " 'holiday': 296,\n",
       " 'cool': 297,\n",
       " 'long': 298,\n",
       " 'wk': 299,\n",
       " 'draw': 300,\n",
       " 'try': 301,\n",
       " '18': 302,\n",
       " 'than': 303,\n",
       " 'job': 304,\n",
       " 'few': 305,\n",
       " 'guess': 306,\n",
       " 'meeting': 307,\n",
       " 'å£1': 308,\n",
       " 'might': 309,\n",
       " 'fine': 310,\n",
       " 'because': 311,\n",
       " 'best': 312,\n",
       " 'god': 313,\n",
       " 'yo': 314,\n",
       " 'bit': 315,\n",
       " 'mins': 316,\n",
       " 'trying': 317,\n",
       " 'having': 318,\n",
       " 'hello': 319,\n",
       " 'world': 320,\n",
       " 'nothing': 321,\n",
       " 'ìï': 322,\n",
       " 'start': 323,\n",
       " 'end': 324,\n",
       " 'play': 325,\n",
       " 'sweet': 326,\n",
       " 'being': 327,\n",
       " 'wife': 328,\n",
       " 'chance': 329,\n",
       " 'awarded': 330,\n",
       " \"didn't\": 331,\n",
       " 'wanna': 332,\n",
       " 'mind': 333,\n",
       " 'pay': 334,\n",
       " 'latest': 335,\n",
       " 'probably': 336,\n",
       " 'early': 337,\n",
       " 'eat': 338,\n",
       " 'finish': 339,\n",
       " 'car': 340,\n",
       " 'shall': 341,\n",
       " '150ppm': 342,\n",
       " 'lar': 343,\n",
       " 'check': 344,\n",
       " 'birthday': 345,\n",
       " '2nd': 346,\n",
       " 'ill': 347,\n",
       " 'minutes': 348,\n",
       " 'bt': 349,\n",
       " 'dat': 350,\n",
       " 'landline': 351,\n",
       " 'rate': 352,\n",
       " 'real': 353,\n",
       " 'face': 354,\n",
       " 'camera': 355,\n",
       " 'dinner': 356,\n",
       " 'room': 357,\n",
       " 'into': 358,\n",
       " 'baby': 359,\n",
       " 'hear': 360,\n",
       " 'jus': 361,\n",
       " 'shit': 362,\n",
       " 'cost': 363,\n",
       " 'apply': 364,\n",
       " 'never': 365,\n",
       " 'sir': 366,\n",
       " 'called': 367,\n",
       " 'mail': 368,\n",
       " 'box': 369,\n",
       " 'weekend': 370,\n",
       " 'office': 371,\n",
       " 'watch': 372,\n",
       " 'quite': 373,\n",
       " 'forgot': 374,\n",
       " 'll': 375,\n",
       " 'line': 376,\n",
       " 'enjoy': 377,\n",
       " 'shows': 378,\n",
       " 'tv': 379,\n",
       " 'once': 380,\n",
       " 'didnt': 381,\n",
       " 'two': 382,\n",
       " '000': 383,\n",
       " 'half': 384,\n",
       " 'å£1000': 385,\n",
       " 'watching': 386,\n",
       " 'problem': 387,\n",
       " 'town': 388,\n",
       " 'easy': 389,\n",
       " 'wont': 390,\n",
       " 'liao': 391,\n",
       " 'actually': 392,\n",
       " 'dunno': 393,\n",
       " 'another': 394,\n",
       " 'afternoon': 395,\n",
       " 'bad': 396,\n",
       " 'missing': 397,\n",
       " 'part': 398,\n",
       " 'boy': 399,\n",
       " 'maybe': 400,\n",
       " 'guys': 401,\n",
       " 'account': 402,\n",
       " 'shop': 403,\n",
       " 'thanx': 404,\n",
       " 'everything': 405,\n",
       " 'dad': 406,\n",
       " 'must': 407,\n",
       " 'speak': 408,\n",
       " 'plan': 409,\n",
       " 'word': 410,\n",
       " 'shopping': 411,\n",
       " '8': 412,\n",
       " '10': 413,\n",
       " 'texts': 414,\n",
       " 'fuck': 415,\n",
       " 'bed': 416,\n",
       " '1st': 417,\n",
       " 'those': 418,\n",
       " 'details': 419,\n",
       " 'leh': 420,\n",
       " 'says': 421,\n",
       " 'ever': 422,\n",
       " 'aight': 423,\n",
       " 'girl': 424,\n",
       " 'till': 425,\n",
       " 'remember': 426,\n",
       " 'big': 427,\n",
       " 'video': 428,\n",
       " 'while': 429,\n",
       " 'po': 430,\n",
       " 'plz': 431,\n",
       " 'does': 432,\n",
       " 'm': 433,\n",
       " 'hav': 434,\n",
       " 'look': 435,\n",
       " 'xxx': 436,\n",
       " 'princess': 437,\n",
       " 'times': 438,\n",
       " 'de': 439,\n",
       " 'school': 440,\n",
       " 'looking': 441,\n",
       " 'missed': 442,\n",
       " 'worry': 443,\n",
       " 'wake': 444,\n",
       " 'month': 445,\n",
       " 'code': 446,\n",
       " 'pa': 447,\n",
       " 'ah': 448,\n",
       " 'little': 449,\n",
       " 'wot': 450,\n",
       " 'came': 451,\n",
       " 'fun': 452,\n",
       " 'until': 453,\n",
       " \"there's\": 454,\n",
       " 'means': 455,\n",
       " 'yours': 456,\n",
       " 'kiss': 457,\n",
       " 'alright': 458,\n",
       " 'bring': 459,\n",
       " 'show': 460,\n",
       " 'g': 461,\n",
       " 'sexy': 462,\n",
       " 'attempt': 463,\n",
       " 'xmas': 464,\n",
       " '500': 465,\n",
       " 'hour': 466,\n",
       " 'sat': 467,\n",
       " 'offer': 468,\n",
       " 'test': 469,\n",
       " 'collection': 470,\n",
       " \"''\": 471,\n",
       " 'between': 472,\n",
       " 'den': 473,\n",
       " 'national': 474,\n",
       " 'okay': 475,\n",
       " 'yesterday': 476,\n",
       " 'put': 477,\n",
       " 'asked': 478,\n",
       " 'anyway': 479,\n",
       " 'pain': 480,\n",
       " 'selected': 481,\n",
       " '9': 482,\n",
       " 'calls': 483,\n",
       " 'working': 484,\n",
       " 'reach': 485,\n",
       " 'story': 486,\n",
       " 'abt': 487,\n",
       " 'luv': 488,\n",
       " 'receive': 489,\n",
       " 'gr8': 490,\n",
       " 'join': 491,\n",
       " 'makes': 492,\n",
       " 'lose': 493,\n",
       " 'without': 494,\n",
       " 'important': 495,\n",
       " 'dude': 496,\n",
       " 'evening': 497,\n",
       " 'award': 498,\n",
       " 'wen': 499,\n",
       " \"he's\": 500,\n",
       " \"we're\": 501,\n",
       " 'old': 502,\n",
       " 'tmr': 503,\n",
       " 'words': 504,\n",
       " 'most': 505,\n",
       " 'update': 506,\n",
       " 'mob': 507,\n",
       " 'believe': 508,\n",
       " 'able': 509,\n",
       " 'todays': 510,\n",
       " 'sch': 511,\n",
       " 'ringtone': 512,\n",
       " 'entry': 513,\n",
       " 'goes': 514,\n",
       " 'dreams': 515,\n",
       " 'away': 516,\n",
       " 'true': 517,\n",
       " 'wanted': 518,\n",
       " 'network': 519,\n",
       " 'plus': 520,\n",
       " 'stay': 521,\n",
       " 'answer': 522,\n",
       " 'making': 523,\n",
       " 're': 524,\n",
       " 'years': 525,\n",
       " 'hurt': 526,\n",
       " 'made': 527,\n",
       " \"haven't\": 528,\n",
       " 'music': 529,\n",
       " 'orange': 530,\n",
       " 'coz': 531,\n",
       " 'either': 532,\n",
       " \"what's\": 533,\n",
       " 'change': 534,\n",
       " 'collect': 535,\n",
       " 'juz': 536,\n",
       " 'bus': 537,\n",
       " 'decimal': 538,\n",
       " 'sleeping': 539,\n",
       " 'top': 540,\n",
       " 'movie': 541,\n",
       " 'havent': 542,\n",
       " 'tomo': 543,\n",
       " 'else': 544,\n",
       " 'though': 545,\n",
       " 'double': 546,\n",
       " 'goin': 547,\n",
       " \"how's\": 548,\n",
       " '10p': 549,\n",
       " 'since': 550,\n",
       " 'tones': 551,\n",
       " 'neva': 552,\n",
       " 'lei': 553,\n",
       " 'noe': 554,\n",
       " 'together': 555,\n",
       " 'saying': 556,\n",
       " 'wid': 557,\n",
       " 'games': 558,\n",
       " 'smiling': 559,\n",
       " 'post': 560,\n",
       " 'enough': 561,\n",
       " 'poly': 562,\n",
       " 'gift': 563,\n",
       " 'saw': 564,\n",
       " 'left': 565,\n",
       " 'colour': 566,\n",
       " 'dis': 567,\n",
       " 'question': 568,\n",
       " 'tried': 569,\n",
       " 'delivery': 570,\n",
       " 'finished': 571,\n",
       " 'took': 572,\n",
       " 'calling': 573,\n",
       " 'mean': 574,\n",
       " 'guy': 575,\n",
       " 'bonus': 576,\n",
       " 'taking': 577,\n",
       " 'wif': 578,\n",
       " 'lesson': 579,\n",
       " 'frnd': 580,\n",
       " 'online': 581,\n",
       " 'book': 582,\n",
       " 'minute': 583,\n",
       " 'thank': 584,\n",
       " 'huh': 585,\n",
       " 'family': 586,\n",
       " 'run': 587,\n",
       " 'drink': 588,\n",
       " 'hot': 589,\n",
       " 'tho': 590,\n",
       " 'kind': 591,\n",
       " 'drive': 592,\n",
       " '8007': 593,\n",
       " 'don': 594,\n",
       " \"won't\": 595,\n",
       " 'both': 596,\n",
       " 'cause': 597,\n",
       " 'feeling': 598,\n",
       " 'til': 599,\n",
       " 'friday': 600,\n",
       " 'nite': 601,\n",
       " 'bored': 602,\n",
       " 'date': 603,\n",
       " 'valid': 604,\n",
       " 'weekly': 605,\n",
       " 'friendship': 606,\n",
       " 'rs': 607,\n",
       " 'å£100': 608,\n",
       " 'close': 609,\n",
       " 'beautiful': 610,\n",
       " 'pounds': 611,\n",
       " 'sae': 612,\n",
       " 'hair': 613,\n",
       " 'id': 614,\n",
       " 'haf': 615,\n",
       " 'second': 616,\n",
       " 'net': 617,\n",
       " 'food': 618,\n",
       " 'tot': 619,\n",
       " 'angry': 620,\n",
       " 'awesome': 621,\n",
       " '86688': 622,\n",
       " 'rite': 623,\n",
       " 'lovely': 624,\n",
       " 'order': 625,\n",
       " 'row': 626,\n",
       " 'walk': 627,\n",
       " 'address': 628,\n",
       " 'saturday': 629,\n",
       " 'lets': 630,\n",
       " 'search': 631,\n",
       " 'congrats': 632,\n",
       " 'opt': 633,\n",
       " 'ard': 634,\n",
       " \"we'll\": 635,\n",
       " 'sad': 636,\n",
       " 'game': 637,\n",
       " 'å£2000': 638,\n",
       " 'gd': 639,\n",
       " 'busy': 640,\n",
       " 'pics': 641,\n",
       " 'found': 642,\n",
       " 'everyone': 643,\n",
       " 'wkly': 644,\n",
       " 'email': 645,\n",
       " 'ring': 646,\n",
       " 'hows': 647,\n",
       " 'anyone': 648,\n",
       " 'vouchers': 649,\n",
       " 'fancy': 650,\n",
       " 'forget': 651,\n",
       " 'chikku': 652,\n",
       " 'yourself': 653,\n",
       " 'await': 654,\n",
       " 'auction': 655,\n",
       " 'congratulations': 656,\n",
       " 'news': 657,\n",
       " 'leaving': 658,\n",
       " 'price': 659,\n",
       " 'full': 660,\n",
       " 'these': 661,\n",
       " 'touch': 662,\n",
       " 'wants': 663,\n",
       " 'each': 664,\n",
       " 'xx': 665,\n",
       " 'msgs': 666,\n",
       " 'dating': 667,\n",
       " 'http': 668,\n",
       " 'happen': 669,\n",
       " 'available': 670,\n",
       " 'case': 671,\n",
       " 'decided': 672,\n",
       " 'credit': 673,\n",
       " 'å£2': 674,\n",
       " 'happiness': 675,\n",
       " 'drop': 676,\n",
       " '750': 677,\n",
       " 'fri': 678,\n",
       " 'head': 679,\n",
       " 'messages': 680,\n",
       " 'whatever': 681,\n",
       " 'break': 682,\n",
       " 'worth': 683,\n",
       " 'services': 684,\n",
       " 'oso': 685,\n",
       " 'treat': 686,\n",
       " 'ten': 687,\n",
       " \"you'll\": 688,\n",
       " 'å£5000': 689,\n",
       " 'seeing': 690,\n",
       " 'takes': 691,\n",
       " 'f': 692,\n",
       " 'okie': 693,\n",
       " 'thinking': 694,\n",
       " 'far': 695,\n",
       " 'charge': 696,\n",
       " \"she's\": 697,\n",
       " 'pm': 698,\n",
       " 'driving': 699,\n",
       " 'ha': 700,\n",
       " 'almost': 701,\n",
       " 'die': 702,\n",
       " 'bslvyl': 703,\n",
       " 'cum': 704,\n",
       " 'carlos': 705,\n",
       " 'course': 706,\n",
       " 'dream': 707,\n",
       " 'parents': 708,\n",
       " 'w': 709,\n",
       " '12hrs': 710,\n",
       " 'simple': 711,\n",
       " 'ltd': 712,\n",
       " 'private': 713,\n",
       " 'fucking': 714,\n",
       " 'police': 715,\n",
       " 'reason': 716,\n",
       " 'player': 717,\n",
       " '30': 718,\n",
       " 'pic': 719,\n",
       " 'earlier': 720,\n",
       " 'card': 721,\n",
       " 'caller': 722,\n",
       " '03': 723,\n",
       " 'info': 724,\n",
       " 'fr': 725,\n",
       " 'fone': 726,\n",
       " 'light': 727,\n",
       " 'pub': 728,\n",
       " 'nt': 729,\n",
       " 'goodmorning': 730,\n",
       " 'started': 731,\n",
       " 'operator': 732,\n",
       " \"c's\": 733,\n",
       " '100': 734,\n",
       " 'ass': 735,\n",
       " 'whole': 736,\n",
       " 'sending': 737,\n",
       " 'smoke': 738,\n",
       " 'points': 739,\n",
       " 'final': 740,\n",
       " 'sis': 741,\n",
       " 'needs': 742,\n",
       " 'tel': 743,\n",
       " 'offers': 744,\n",
       " 'yar': 745,\n",
       " 'brother': 746,\n",
       " 'sea': 747,\n",
       " 'choose': 748,\n",
       " 'ni8': 749,\n",
       " 'savamob': 750,\n",
       " \"you've\": 751,\n",
       " 'suite342': 752,\n",
       " '2lands': 753,\n",
       " 'weeks': 754,\n",
       " 'mates': 755,\n",
       " 'college': 756,\n",
       " 'visit': 757,\n",
       " 'rates': 758,\n",
       " 'bout': 759,\n",
       " 'loving': 760,\n",
       " 'bcoz': 761,\n",
       " 'kids': 762,\n",
       " 'blue': 763,\n",
       " 'content': 764,\n",
       " 'land': 765,\n",
       " 'tired': 766,\n",
       " 'hold': 767,\n",
       " 'ac': 768,\n",
       " 'their': 769,\n",
       " 'å£250': 770,\n",
       " 'talking': 771,\n",
       " 'open': 772,\n",
       " 'boytoy': 773,\n",
       " 'jay': 774,\n",
       " 'hand': 775,\n",
       " 'nope': 776,\n",
       " 'reading': 777,\n",
       " 'gn': 778,\n",
       " 'eh': 779,\n",
       " 'aft': 780,\n",
       " 'whats': 781,\n",
       " 'type': 782,\n",
       " '\\x89û': 783,\n",
       " 'å£500': 784,\n",
       " 'knew': 785,\n",
       " 'wit': 786,\n",
       " 'trip': 787,\n",
       " '08000839402': 788,\n",
       " 'voucher': 789,\n",
       " 'club': 790,\n",
       " 'march': 791,\n",
       " 'sun': 792,\n",
       " 'read': 793,\n",
       " 'outside': 794,\n",
       " 'complimentary': 795,\n",
       " 'semester': 796,\n",
       " 'confirm': 797,\n",
       " 'empty': 798,\n",
       " 'sister': 799,\n",
       " 'statement': 800,\n",
       " 'prob': 801,\n",
       " 'red': 802,\n",
       " 'comes': 803,\n",
       " 'hoping': 804,\n",
       " \"wasn't\": 805,\n",
       " 'o': 806,\n",
       " 'telling': 807,\n",
       " 'support': 808,\n",
       " 'b4': 809,\n",
       " 'unsubscribe': 810,\n",
       " 'knw': 811,\n",
       " 'na': 812,\n",
       " 'doin': 813,\n",
       " 'ago': 814,\n",
       " 'none': 815,\n",
       " 'mrng': 816,\n",
       " 'mine': 817,\n",
       " 'quiz': 818,\n",
       " 'gets': 819,\n",
       " 'figure': 820,\n",
       " 'age': 821,\n",
       " 'gotta': 822,\n",
       " 'girls': 823,\n",
       " 'gone': 824,\n",
       " 'via': 825,\n",
       " 'charity': 826,\n",
       " 'heard': 827,\n",
       " 'wrong': 828,\n",
       " 'wil': 829,\n",
       " \"b'day\": 830,\n",
       " 'currently': 831,\n",
       " 'meant': 832,\n",
       " 'yr': 833,\n",
       " 'hours': 834,\n",
       " 'john': 835,\n",
       " 'sony': 836,\n",
       " 'eve': 837,\n",
       " 'bank': 838,\n",
       " 'chennai': 839,\n",
       " 'picking': 840,\n",
       " 'immediately': 841,\n",
       " 'met': 842,\n",
       " 'park': 843,\n",
       " 'å£3': 844,\n",
       " 'motorola': 845,\n",
       " '87066': 846,\n",
       " 'freemsg': 847,\n",
       " 'party': 848,\n",
       " 'itself': 849,\n",
       " 'p': 850,\n",
       " 'wow': 851,\n",
       " 'felt': 852,\n",
       " 'mobileupd8': 853,\n",
       " 'wine': 854,\n",
       " 'within': 855,\n",
       " 'through': 856,\n",
       " 'oredi': 857,\n",
       " 'secret': 858,\n",
       " 'swing': 859,\n",
       " 'å£350': 860,\n",
       " 'cut': 861,\n",
       " 'loads': 862,\n",
       " 'askd': 863,\n",
       " 'invited': 864,\n",
       " 'lessons': 865,\n",
       " 'gas': 866,\n",
       " 'happened': 867,\n",
       " 'identifier': 868,\n",
       " 'expires': 869,\n",
       " 'mate': 870,\n",
       " 'clean': 871,\n",
       " 'blood': 872,\n",
       " 'alone': 873,\n",
       " \"isn't\": 874,\n",
       " 'moment': 875,\n",
       " 'store': 876,\n",
       " 'enter': 877,\n",
       " 'urself': 878,\n",
       " 'father': 879,\n",
       " 'lucky': 880,\n",
       " '11': 881,\n",
       " 'kate': 882,\n",
       " 'abiola': 883,\n",
       " 'hee': 884,\n",
       " 'ts': 885,\n",
       " 'used': 886,\n",
       " 'balance': 887,\n",
       " 'least': 888,\n",
       " 'numbers': 889,\n",
       " 'understand': 890,\n",
       " 'set': 891,\n",
       " 'hmm': 892,\n",
       " 'wonderful': 893,\n",
       " 'match': 894,\n",
       " 'mr': 895,\n",
       " 'frnds': 896,\n",
       " 'charged': 897,\n",
       " 'gave': 898,\n",
       " 'fast': 899,\n",
       " 'w1j6hl': 900,\n",
       " 'frm': 901,\n",
       " 'anytime': 902,\n",
       " 'stupid': 903,\n",
       " 'completely': 904,\n",
       " 'hiya': 905,\n",
       " 'medical': 906,\n",
       " 'less': 907,\n",
       " 'phones': 908,\n",
       " 'asking': 909,\n",
       " 'th': 910,\n",
       " 'pobox': 911,\n",
       " 'children': 912,\n",
       " 'song': 913,\n",
       " 'finally': 914,\n",
       " 'monday': 915,\n",
       " 'extra': 916,\n",
       " 'computer': 917,\n",
       " 'mon': 918,\n",
       " 'mom': 919,\n",
       " 'colleagues': 920,\n",
       " 'log': 921,\n",
       " 'comin': 922,\n",
       " 'trust': 923,\n",
       " 'checking': 924,\n",
       " 'england': 925,\n",
       " 'mu': 926,\n",
       " 'hard': 927,\n",
       " 'woke': 928,\n",
       " 'ge': 929,\n",
       " 'unlimited': 930,\n",
       " 'promise': 931,\n",
       " 'sex': 932,\n",
       " 'mobiles': 933,\n",
       " 'spend': 934,\n",
       " 'eyes': 935,\n",
       " 'gal': 936,\n",
       " 'doctor': 937,\n",
       " 'mm': 938,\n",
       " '08000930705': 939,\n",
       " \"i'd\": 940,\n",
       " 'sort': 941,\n",
       " 'point': 942,\n",
       " 'feels': 943,\n",
       " 'leaves': 944,\n",
       " 'especially': 945,\n",
       " 'al': 946,\n",
       " 'cute': 947,\n",
       " 'darlin': 948,\n",
       " 'usf': 949,\n",
       " 'smth': 950,\n",
       " 'mood': 951,\n",
       " 'shower': 952,\n",
       " \"doesn't\": 953,\n",
       " 'snow': 954,\n",
       " 'entered': 955,\n",
       " 'boss': 956,\n",
       " 'pretty': 957,\n",
       " 'listen': 958,\n",
       " 'rock': 959,\n",
       " 'mum': 960,\n",
       " 'il': 961,\n",
       " 'cheap': 962,\n",
       " 'hit': 963,\n",
       " 'hungry': 964,\n",
       " 'ho': 965,\n",
       " 'reached': 966,\n",
       " 'couple': 967,\n",
       " 'sounds': 968,\n",
       " 'wonder': 969,\n",
       " 'crave': 970,\n",
       " 'across': 971,\n",
       " 'company': 972,\n",
       " 'em': 973,\n",
       " 'winner': 974,\n",
       " 'deal': 975,\n",
       " 'thinks': 976,\n",
       " 'surprise': 977,\n",
       " 'ending': 978,\n",
       " 'christmas': 979,\n",
       " 'project': 980,\n",
       " 'mistake': 981,\n",
       " 'hg': 982,\n",
       " 'sunshine': 983,\n",
       " 'starts': 984,\n",
       " 'sometimes': 985,\n",
       " 'gym': 986,\n",
       " 'ugh': 987,\n",
       " 'hmmm': 988,\n",
       " 'forever': 989,\n",
       " 'lovable': 990,\n",
       " 'unless': 991,\n",
       " 'lots': 992,\n",
       " 'grins': 993,\n",
       " 'somewhere': 994,\n",
       " 'small': 995,\n",
       " 'welcome': 996,\n",
       " 'study': 997,\n",
       " 'happens': 998,\n",
       " 'ex': 999,\n",
       " '4u': 1000,\n",
       " ...}"
      ]
     },
     "execution_count": 68,
     "metadata": {},
     "output_type": "execute_result"
    }
   ],
   "source": [
    "word2idx"
   ]
  },
  {
   "cell_type": "markdown",
   "id": "bb0edc46",
   "metadata": {
    "pycharm": {
     "name": "#%% md\n"
    }
   },
   "source": [
    "### 2.3.2 pad sequences so that we get a N x T matrix"
   ]
  },
  {
   "cell_type": "code",
   "execution_count": 69,
   "id": "7208358c",
   "metadata": {
    "pycharm": {
     "name": "#%%\n"
    }
   },
   "outputs": [
    {
     "name": "stdout",
     "output_type": "stream",
     "text": [
      "Shape of data train tensor: (3733, 189)\n"
     ]
    }
   ],
   "source": [
    "data_train = pad_sequences(sequences_train)\n",
    "print('Shape of data train tensor:',data_train.shape)"
   ]
  },
  {
   "cell_type": "markdown",
   "id": "580eb678",
   "metadata": {
    "pycharm": {
     "name": "#%% md\n"
    }
   },
   "source": [
    "### 2.3.3 get sequence length\n"
   ]
  },
  {
   "cell_type": "code",
   "execution_count": 70,
   "id": "2252aa7a",
   "metadata": {
    "pycharm": {
     "name": "#%%\n"
    }
   },
   "outputs": [
    {
     "name": "stdout",
     "output_type": "stream",
     "text": [
      "Shape of data test tensor: (1839, 189)\n"
     ]
    }
   ],
   "source": [
    "T = data_train.shape[1]\n",
    "data_test = pad_sequences(sequences_test,maxlen=T)\n",
    "print('Shape of data test tensor:',data_test.shape)"
   ]
  },
  {
   "cell_type": "markdown",
   "id": "f92352b9",
   "metadata": {
    "pycharm": {
     "name": "#%% md\n"
    }
   },
   "source": [
    "# 2.4 Model Building"
   ]
  },
  {
   "cell_type": "code",
   "execution_count": 71,
   "id": "3dee9284",
   "metadata": {
    "pycharm": {
     "name": "#%%\n"
    }
   },
   "outputs": [],
   "source": [
    "# We get to choose embeding dimensionality\n",
    "D = 20\n",
    "\n",
    "# Hidden stats dimensionality\n",
    "M = 15\n",
    "\n",
    "# Note: we actually want to the size of the embedding to (V+1) x D.\n",
    "# because the first index starts from 1 and not 0.\n",
    "# Thus, if the final index of the embedding matrix is V,\n",
    "# then it actually must have size V+1.\n",
    "\n",
    "i = Input(shape=(T,))\n",
    "x = Embedding(V+1,D)(i)\n",
    "x = LSTM(M,return_sequences=True)(x)\n",
    "x = GlobalMaxPooling1D()(x)\n",
    "x = Dense(1, activation='sigmoid')(x)\n",
    "\n",
    "model = Model(i,x)"
   ]
  },
  {
   "cell_type": "code",
   "execution_count": 72,
   "id": "ecec3c7b",
   "metadata": {
    "pycharm": {
     "name": "#%%\n"
    }
   },
   "outputs": [
    {
     "name": "stdout",
     "output_type": "stream",
     "text": [
      "Model: \"model\"\n",
      "_________________________________________________________________\n",
      " Layer (type)                Output Shape              Param #   \n",
      "=================================================================\n",
      " input_1 (InputLayer)        [(None, 189)]             0         \n",
      "                                                                 \n",
      " embedding (Embedding)       (None, 189, 20)           144340    \n",
      "                                                                 \n",
      " lstm (LSTM)                 (None, 189, 15)           2160      \n",
      "                                                                 \n",
      " global_max_pooling1d (Globa  (None, 15)               0         \n",
      " lMaxPooling1D)                                                  \n",
      "                                                                 \n",
      " dense (Dense)               (None, 1)                 16        \n",
      "                                                                 \n",
      "=================================================================\n",
      "Total params: 146,516\n",
      "Trainable params: 146,516\n",
      "Non-trainable params: 0\n",
      "_________________________________________________________________\n"
     ]
    }
   ],
   "source": [
    "model.summary()"
   ]
  },
  {
   "cell_type": "markdown",
   "id": "1d7d320f",
   "metadata": {
    "pycharm": {
     "name": "#%% md\n"
    }
   },
   "source": [
    "### Compile and fit\n"
   ]
  },
  {
   "cell_type": "code",
   "execution_count": 73,
   "id": "51b2ec4b",
   "metadata": {
    "pycharm": {
     "name": "#%%\n"
    }
   },
   "outputs": [
    {
     "name": "stdout",
     "output_type": "stream",
     "text": [
      "Training model....\n",
      "Epoch 1/10\n",
      "117/117 [==============================] - 10s 32ms/step - loss: 0.4758 - accuracy: 0.8693 - val_loss: 0.4160 - val_accuracy: 0.8532\n",
      "Epoch 2/10\n",
      "117/117 [==============================] - 3s 29ms/step - loss: 0.3766 - accuracy: 0.8722 - val_loss: 0.4019 - val_accuracy: 0.8532\n",
      "Epoch 3/10\n",
      "117/117 [==============================] - 3s 29ms/step - loss: 0.3322 - accuracy: 0.8722 - val_loss: 0.3203 - val_accuracy: 0.8532\n",
      "Epoch 4/10\n",
      "117/117 [==============================] - 3s 29ms/step - loss: 0.2312 - accuracy: 0.8784 - val_loss: 0.1974 - val_accuracy: 0.9576\n",
      "Epoch 5/10\n",
      "117/117 [==============================] - 3s 29ms/step - loss: 0.1181 - accuracy: 0.9871 - val_loss: 0.1216 - val_accuracy: 0.9728\n",
      "Epoch 6/10\n",
      "117/117 [==============================] - 3s 28ms/step - loss: 0.0640 - accuracy: 0.9914 - val_loss: 0.1034 - val_accuracy: 0.9717\n",
      "Epoch 7/10\n",
      "117/117 [==============================] - 3s 29ms/step - loss: 0.0415 - accuracy: 0.9941 - val_loss: 0.0822 - val_accuracy: 0.9777\n",
      "Epoch 8/10\n",
      "117/117 [==============================] - 3s 29ms/step - loss: 0.0299 - accuracy: 0.9960 - val_loss: 0.0812 - val_accuracy: 0.9799\n",
      "Epoch 9/10\n",
      "117/117 [==============================] - 4s 30ms/step - loss: 0.0235 - accuracy: 0.9968 - val_loss: 0.0735 - val_accuracy: 0.9815\n",
      "Epoch 10/10\n",
      "117/117 [==============================] - 3s 29ms/step - loss: 0.0184 - accuracy: 0.9976 - val_loss: 0.0750 - val_accuracy: 0.9815\n"
     ]
    }
   ],
   "source": [
    "\n",
    "# Compile and fit\n",
    "model.compile(\n",
    "    loss='binary_crossentropy',\n",
    "    optimizer='adam',\n",
    "    metrics=['accuracy']\n",
    ")\n",
    "print('Training model....')\n",
    "r=model.fit(\n",
    "    data_train,\n",
    "    Ytrain,\n",
    "    epochs=10,\n",
    "    validation_data=(data_test,Ytest)\n",
    ")"
   ]
  },
  {
   "cell_type": "code",
   "execution_count": 74,
   "id": "a0120c74",
   "metadata": {
    "pycharm": {
     "name": "#%%\n"
    }
   },
   "outputs": [
    {
     "data": {
      "text/plain": [
       "<matplotlib.legend.Legend at 0x201f00b0700>"
      ]
     },
     "execution_count": 74,
     "metadata": {},
     "output_type": "execute_result"
    },
    {
     "data": {
      "image/png": "[encoded data removed]",
      "text/plain": [
       "<Figure size 1500x500 with 2 Axes>"
      ]
     },
     "metadata": {},
     "output_type": "display_data"
    }
   ],
   "source": [
    "hist = r.history\n",
    "\n",
    "plt.figure(figsize=(15,5))\n",
    "plt.subplot(121)\n",
    "plt.title('Loss')\n",
    "plt.plot(hist['loss'])\n",
    "plt.plot(hist['val_loss'])\n",
    "plt.legend(['Train Loss','Test Loss'])\n",
    "plt.subplot(122)\n",
    "plt.title('Accuracy')\n",
    "plt.plot(hist['accuracy'])\n",
    "plt.plot(hist['val_accuracy'])\n",
    "plt.legend(['Train Accuracy','Test Accuracy'])\n"
   ]
  },
  {
   "cell_type": "code",
   "execution_count": 75,
   "id": "a4428b8a",
   "metadata": {
    "pycharm": {
     "name": "#%%\n"
    }
   },
   "outputs": [
    {
     "name": "stdout",
     "output_type": "stream",
     "text": [
      "58/58 [==============================] - 1s 10ms/step - loss: 0.0750 - accuracy: 0.9815\n"
     ]
    },
    {
     "data": {
      "text/plain": [
       "[0.07504339516162872, 0.9815117120742798]"
      ]
     },
     "execution_count": 75,
     "metadata": {},
     "output_type": "execute_result"
    }
   ],
   "source": [
    "model.evaluate(data_test,Ytest)"
   ]
  },
  {
   "cell_type": "code",
   "execution_count": null,
   "id": "cb8c17fd",
   "metadata": {
    "pycharm": {
     "name": "#%%\n"
    }
   },
   "outputs": [],
   "source": []
  }
 ],
 "metadata": {
  "kernelspec": {
   "display_name": "Python 3 (ipykernel)",
   "language": "python",
   "name": "python3"
  },
  "language_info": {
   "codemirror_mode": {
    "name": "ipython",
    "version": 3
   },
   "file_extension": ".py",
   "mimetype": "text/x-python",
   "name": "python",
   "nbconvert_exporter": "python",
   "pygments_lexer": "ipython3",
   "version": "3.9.15"
  }
 },
 "nbformat": 4,
 "nbformat_minor": 5
}
